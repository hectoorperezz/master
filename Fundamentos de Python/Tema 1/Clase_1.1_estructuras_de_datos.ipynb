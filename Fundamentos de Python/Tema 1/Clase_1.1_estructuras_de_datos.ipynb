{
 "cells": [
  {
   "cell_type": "markdown",
   "id": "86d3572d",
   "metadata": {},
   "source": [
    "# Clase 1.1: Estructuras de datos\n",
    "\n",
    "---"
   ]
  },
  {
   "cell_type": "markdown",
   "id": "0ab793d9",
   "metadata": {},
   "source": [
    "\n",
    "\n",
    "# ¿Qué es una Variable? - El modelo de etiquetas\n",
    "\n",
    "* En **Python todo es un objeto**.\n",
    "* Una variable **no es una caja** que contiene un valor,\n",
    "  sino una **etiqueta, puntero o nombre** que apunta a un objeto que reside en la memoria.\n",
    "\n",
    "### Ejemplo\n",
    "\n",
    "```\n",
    "precio = 175.50\n",
    "```\n",
    "\n",
    "---\n",
    "\n",
    "\n",
    "\n",
    "# Importancia del modelo de referencias\n",
    "\n",
    "* Entender este modelo de **referencias** es la base para dominar conceptos más avanzados en Python.\n",
    "* Afecta directamente al funcionamiento de:\n",
    "\n",
    "### Conceptos clave\n",
    "\n",
    "* **Objetos mutables e inmutables**\n",
    "\n",
    "  * Explican por qué modificar una lista en un lugar puede afectarla en toda la aplicación.\n",
    "\n",
    "* **Paso de argumentos a funciones**\n",
    "\n",
    "  * Permite comprender qué ocurre realmente al pasar una variable a una función y si esta puede ser modificada permanentemente.\n",
    "\n",
    "* **Gestión de memoria**\n",
    "\n",
    "  * Muestra cómo Python es eficiente evitando duplicar objetos innecesariamente.\n",
    "\n",
    "---\n",
    "\n",
    "\n",
    "\n",
    "# Tipos Numéricos: Precisión y Rendimiento\n",
    "\n",
    "Python ofrece dos tipos numéricos básicos para la mayoría de operaciones:\n",
    "\n",
    "* **int**\n",
    "\n",
    "  * Enteros de **precisión arbitraria**.\n",
    "  * No existe problema de desbordamiento (*overflow*).\n",
    "  * Pueden ser tan grandes como lo permita la memoria disponible.\n",
    "\n",
    "* **float**\n",
    "\n",
    "  * Números de punto flotante de **doble precisión** (estándar IEEE 754).\n",
    "  * Son rápidos y eficientes para **cálculos científicos y gráficos**.\n",
    "\n",
    "---\n",
    "\n",
    "\n",
    "\n",
    "\n"
   ]
  },
  {
   "cell_type": "code",
   "execution_count": 1,
   "id": "f5875363",
   "metadata": {},
   "outputs": [
    {
     "name": "stdout",
     "output_type": "stream",
     "text": [
      "0.30000000000000004\n"
     ]
    }
   ],
   "source": [
    "print(0.1+0.2)"
   ]
  },
  {
   "cell_type": "markdown",
   "id": "0ebfd3b2",
   "metadata": {},
   "source": [
    "\n",
    "\n",
    "# La Causa: El Error de Representación Binaria\n",
    "\n",
    "* Los ordenadores usan un **sistema binario**.\n",
    "* Algunas fracciones decimales (ej. `0.1`) **no tienen una representación binaria finita y exacta**.\n",
    "* Es un problema similar al de `1/3` en el sistema decimal:\n",
    "\n",
    "```\n",
    "1 ÷ 3 = 0.333333333...\n",
    "```\n",
    "\n",
    "* El ordenador almacena una **aproximación muy cercana**, no el valor exacto.\n",
    "\n",
    "### ⚠️ Importante\n",
    "\n",
    "* Para algunos cálculos, este error es aceptable.\n",
    "* Sin embargo, en aplicaciones **financieras o monetarias**, este pequeño error es **inaceptable**.\n",
    "\n",
    "\n",
    "---\n",
    "\n",
    "# Uso de `Decimal`: La Regla de Oro Conceptual\n",
    "\n",
    "### Principio Fundamental\n",
    "\n",
    "* Para una **precisión absoluta**, los objetos `Decimal` deben crearse a partir de una representación **exacta** (como un `string`),\n",
    "  y **no** desde una aproximación (como un `float`).\n",
    "\n",
    "### ⚠️ Flujo Incorrecto: Contaminación por `float`\n",
    "\n",
    "```\n",
    "Número 0.1 → Interpretación 'float' → Aproximación Binaria \n",
    "           → Objeto Decimal creado desde la aproximación \n",
    "           → Error Preservado\n",
    "```\n",
    "\n",
    "---\n",
    "\n"
   ]
  },
  {
   "cell_type": "code",
   "execution_count": 2,
   "id": "783bc395",
   "metadata": {},
   "outputs": [
    {
     "name": "stdout",
     "output_type": "stream",
     "text": [
      "0.1000000000000000055511151231257827021181583404541015625\n"
     ]
    }
   ],
   "source": [
    "#Flujo incorrecto para crear un decimal\n",
    "\n",
    "a = 0.1\n",
    "\n",
    "from decimal import Decimal\n",
    "\n",
    "print(Decimal(a))"
   ]
  },
  {
   "cell_type": "code",
   "execution_count": 3,
   "id": "11d2f492",
   "metadata": {},
   "outputs": [
    {
     "name": "stdout",
     "output_type": "stream",
     "text": [
      "0.1\n"
     ]
    }
   ],
   "source": [
    "#FLujo correcto para crear decimales\n",
    "\n",
    "a = '0.1'\n",
    "\n",
    "from decimal import Decimal\n",
    "\n",
    "print(Decimal(a))\n",
    "#Flujo correcto para crear decimales\n",
    "\n"
   ]
  },
  {
   "cell_type": "code",
   "execution_count": 6,
   "id": "b48b626e",
   "metadata": {},
   "outputs": [
    {
     "name": "stdout",
     "output_type": "stream",
     "text": [
      "0.3000000000000000166533453694\n",
      "0.3\n"
     ]
    }
   ],
   "source": [
    "# ¿Que pasa si...?\n",
    "\n",
    "from decimal import Decimal\n",
    "\n",
    "print(Decimal(0.1) + Decimal(0.2))\n",
    "print(Decimal('0.1') + Decimal('0.2'))\n",
    "\n",
    "\n",
    "\n",
    "\n"
   ]
  },
  {
   "cell_type": "markdown",
   "id": "918845c9",
   "metadata": {},
   "source": [
    "\n",
    "---\n",
    "\n",
    "# Operaciones Fundamentales\n",
    "\n",
    "Estas son las acciones más directas que podemos hacer en Python:\n",
    "\n",
    "| **Operador** | **Función / Descripción**                                   |\n",
    "| ------------ | ----------------------------------------------------------- |\n",
    "| `+`          | Suma                                                        |\n",
    "| `-`          | Resta                                                       |\n",
    "| `*`          | Multiplicación                                              |\n",
    "| `/`          | División (siempre devuelve un flotante)                     |\n",
    "| `//`         | División entera (descarta la parte decimal)                 |\n",
    "| `%`          | Módulo (resto de la división)                               |\n",
    "| `**`         | Potencia (exponente)                                        |\n",
    "| `+=`         | Suma y asigna                                               |\n",
    "| `-=`         | Resta y asigna                                              |\n",
    "| `*=`         | Multiplica y asigna                                         |\n",
    "| `/=`         | Divide y asigna                                             |\n",
    "| `//=`        | División entera y asigna                                    |\n",
    "| `%=`         | Módulo y asigna                                             |\n",
    "| `**=`        | Potencia y asigna                                           |\n",
    "| `==`         | Igual a (comparación de igualdad)                           |\n",
    "| `!=`         | Diferente de (comparación de desigualdad)                   |\n",
    "| `<`          | Menor que                                                   |\n",
    "| `>`          | Mayor que                                                   |\n",
    "| `<=`         | Menor o igual que                                           |\n",
    "| `>=`         | Mayor o igual que                                           |\n",
    "| `is`         | Identidad (compara si son el mismo objeto en memoria)       |\n",
    "| `is not`     | No identidad (compara si no son el mismo objeto en memoria) |\n",
    "\n",
    "---\n"
   ]
  },
  {
   "cell_type": "code",
   "execution_count": 7,
   "id": "584b060b",
   "metadata": {},
   "outputs": [
    {
     "name": "stdout",
     "output_type": "stream",
     "text": [
      "Tipo de cantidad_acciones: <class 'int'>\n",
      "Tipo de precio_accion: <class 'float'>\n"
     ]
    }
   ],
   "source": [
    "# --- Números --- ¿Cómo sabemos el tipo del objeto? -> utilizar función type\n",
    "cantidad_acciones = 500     # int\n",
    "precio_accion = 189.75      # float\n",
    "\n",
    "print(f\"Tipo de cantidad_acciones: {type(cantidad_acciones)}\")\n",
    "print(f\"Tipo de precio_accion: {type(precio_accion)}\")\n"
   ]
  },
  {
   "cell_type": "code",
   "execution_count": 8,
   "id": "5296f3b2",
   "metadata": {},
   "outputs": [
    {
     "name": "stdout",
     "output_type": "stream",
     "text": [
      "Suma: 13\n"
     ]
    }
   ],
   "source": [
    "# Ejemplo de operador aritmético: + Suma\n",
    "a = 10\n",
    "b = 3\n",
    "\n",
    "resultado_suma = a + b\n",
    "print(\"Suma:\", resultado_suma)\n"
   ]
  },
  {
   "cell_type": "code",
   "execution_count": 9,
   "id": "f6ba188a",
   "metadata": {},
   "outputs": [
    {
     "name": "stdout",
     "output_type": "stream",
     "text": [
      "Resta: 7\n"
     ]
    }
   ],
   "source": [
    "# Ejemplo de operador aritmético: - Resta\n",
    "a = 10\n",
    "b = 3\n",
    "\n",
    "resultado_resta = a - b\n",
    "print(\"Resta:\", resultado_resta)\n"
   ]
  },
  {
   "cell_type": "code",
   "execution_count": 10,
   "id": "754d8410",
   "metadata": {},
   "outputs": [
    {
     "name": "stdout",
     "output_type": "stream",
     "text": [
      "Multiplicación: 30\n"
     ]
    }
   ],
   "source": [
    "# Ejemplo de operador aritmético: * Multiplicación\n",
    "a = 10\n",
    "b = 3\n",
    "\n",
    "resultado_multiplicacion = a * b\n",
    "print(\"Multiplicación:\", resultado_multiplicacion)\n"
   ]
  },
  {
   "cell_type": "code",
   "execution_count": 11,
   "id": "0047958c",
   "metadata": {},
   "outputs": [
    {
     "name": "stdout",
     "output_type": "stream",
     "text": [
      "División: 3.3333333333333335\n"
     ]
    }
   ],
   "source": [
    "# Ejemplo de operador aritmético: / División (flotante)\n",
    "a = 10\n",
    "b = 3\n",
    "\n",
    "resultado_division = a / b\n",
    "print(\"División:\", resultado_division)\n"
   ]
  },
  {
   "cell_type": "code",
   "execution_count": 12,
   "id": "5fd00515",
   "metadata": {},
   "outputs": [
    {
     "name": "stdout",
     "output_type": "stream",
     "text": [
      "División Entera: 3\n"
     ]
    }
   ],
   "source": [
    "# Ejemplo de operador aritmético: // División Entera\n",
    "a = 10\n",
    "b = 3\n",
    "\n",
    "resultado_division_entera = a // b\n",
    "print(\"División Entera:\", resultado_division_entera)\n"
   ]
  },
  {
   "cell_type": "code",
   "execution_count": 13,
   "id": "01f0d799",
   "metadata": {},
   "outputs": [
    {
     "name": "stdout",
     "output_type": "stream",
     "text": [
      "Módulo: 1\n"
     ]
    }
   ],
   "source": [
    "# Ejemplo de operador aritmético: % Módulo (Resto)\n",
    "a = 10\n",
    "b = 3\n",
    "\n",
    "resultado_modulo = a % b\n",
    "print(\"Módulo:\", resultado_modulo)\n"
   ]
  },
  {
   "cell_type": "code",
   "execution_count": 14,
   "id": "a18ed22c",
   "metadata": {},
   "outputs": [
    {
     "name": "stdout",
     "output_type": "stream",
     "text": [
      "Potencia: 1000\n"
     ]
    }
   ],
   "source": [
    "# Ejemplo de operador aritmético: ** Potencia\n",
    "a = 10\n",
    "b = 3\n",
    "\n",
    "resultado_potencia = a ** b\n",
    "print(\"Potencia:\", resultado_potencia)\n"
   ]
  },
  {
   "cell_type": "code",
   "execution_count": 15,
   "id": "96aee5ee",
   "metadata": {},
   "outputs": [
    {
     "name": "stdout",
     "output_type": "stream",
     "text": [
      "Resultado sin paréntesis: 14\n",
      "Resultado con paréntesis: 20\n"
     ]
    }
   ],
   "source": [
    "# Ejemplo de operador aritmético: () Agrupación (Paréntesis)\n",
    "\n",
    "# Sin paréntesis (multiplicación primero)\n",
    "resultado_sin_parentesis = 2 + 3 * 4\n",
    "print(\"Resultado sin paréntesis:\", resultado_sin_parentesis)\n",
    "\n",
    "# Con paréntesis (suma primero)\n",
    "resultado_con_parentesis = (2 + 3) * 4\n",
    "print(\"Resultado con paréntesis:\", resultado_con_parentesis)\n"
   ]
  },
  {
   "cell_type": "code",
   "execution_count": 16,
   "id": "ea1cf39d",
   "metadata": {},
   "outputs": [
    {
     "name": "stdout",
     "output_type": "stream",
     "text": [
      "Después de x += 5: 25\n"
     ]
    }
   ],
   "source": [
    "# Ejemplo de operador de asignación aumentada: += Suma y asigna\n",
    "x = 20\n",
    "x += 5   # Equivalente a x = x + 5\n",
    "print(\"Después de x += 5:\", x)\n"
   ]
  },
  {
   "cell_type": "code",
   "execution_count": 17,
   "id": "514d4ebb",
   "metadata": {},
   "outputs": [
    {
     "name": "stdout",
     "output_type": "stream",
     "text": [
      "Después de x -= 3: 17\n"
     ]
    }
   ],
   "source": [
    "# Ejemplo de operador de asignación aumentada: -= Resta y asigna\n",
    "x = 20\n",
    "x -= 3   # Equivalente a x = x - 3\n",
    "print(\"Después de x -= 3:\", x)\n"
   ]
  },
  {
   "cell_type": "code",
   "execution_count": 1,
   "id": "7d7585bc",
   "metadata": {},
   "outputs": [
    {
     "name": "stdout",
     "output_type": "stream",
     "text": [
      "Después de x *= 2: 40\n"
     ]
    }
   ],
   "source": [
    "# Ejemplo de operador de asignación aumentada: *= Multiplica y asigna\n",
    "x = 20\n",
    "x *= 2   # Equivalente a x = x * 2\n",
    "print(\"Después de x *= 2:\", x)\n"
   ]
  },
  {
   "cell_type": "code",
   "execution_count": 2,
   "id": "c7ec68f6",
   "metadata": {},
   "outputs": [
    {
     "name": "stdout",
     "output_type": "stream",
     "text": [
      "Después de x /= 4: 5.0\n"
     ]
    }
   ],
   "source": [
    "# Ejemplo de operador de asignación aumentada: /= Divide y asigna\n",
    "x = 20\n",
    "x /= 4   # Equivalente a x = x / 4\n",
    "print(\"Después de x /= 4:\", x)\n"
   ]
  },
  {
   "cell_type": "code",
   "execution_count": 3,
   "id": "57536690",
   "metadata": {},
   "outputs": [
    {
     "name": "stdout",
     "output_type": "stream",
     "text": [
      "Después de z %= 5 (where z=17): 2\n"
     ]
    }
   ],
   "source": [
    "# Ejemplo de operador de asignación aumentada: %= Módulo y asigna\n",
    "z = 17\n",
    "z %= 5   # Equivalente a z = z % 5\n",
    "print(\"Después de z %= 5 (where z=17):\", z)\n"
   ]
  },
  {
   "cell_type": "code",
   "execution_count": 4,
   "id": "30e8e69a",
   "metadata": {},
   "outputs": [
    {
     "name": "stdout",
     "output_type": "stream",
     "text": [
      "num1 == num2: False\n",
      "num1 == num3: True\n"
     ]
    }
   ],
   "source": [
    "# Ejemplo de operador de comparación: == Igual a\n",
    "num1 = 15\n",
    "num2 = 20\n",
    "num3 = 15\n",
    "\n",
    "comparacion_igual1 = (num1 == num2)\n",
    "comparacion_igual2 = (num1 == num3)\n",
    "\n",
    "print(\"num1 == num2:\", comparacion_igual1)\n",
    "print(\"num1 == num3:\", comparacion_igual2)\n"
   ]
  },
  {
   "cell_type": "code",
   "execution_count": 5,
   "id": "57173560",
   "metadata": {},
   "outputs": [
    {
     "name": "stdout",
     "output_type": "stream",
     "text": [
      "num1 != num2: True\n",
      "num1 != num3: False\n"
     ]
    }
   ],
   "source": [
    "# Ejemplo de operador de comparación: != Diferente de\n",
    "num1 = 15\n",
    "num2 = 20\n",
    "num3 = 15\n",
    "\n",
    "comparacion_diferente1 = (num1 != num2)\n",
    "comparacion_diferente2 = (num1 != num3)\n",
    "\n",
    "print(\"num1 != num2:\", comparacion_diferente1)\n",
    "print(\"num1 != num3:\", comparacion_diferente2)\n"
   ]
  },
  {
   "cell_type": "code",
   "execution_count": 6,
   "id": "3dc7d362",
   "metadata": {},
   "outputs": [
    {
     "name": "stdout",
     "output_type": "stream",
     "text": [
      "num1 < num2: True\n",
      "num2 < num1: False\n"
     ]
    }
   ],
   "source": [
    "# Ejemplo de operador de comparación: < Menor que\n",
    "num1 = 15\n",
    "num2 = 20\n",
    "\n",
    "comparacion_menor1 = (num1 < num2)\n",
    "comparacion_menor2 = (num2 < num1)\n",
    "\n",
    "print(\"num1 < num2:\", comparacion_menor1)\n",
    "print(\"num2 < num1:\", comparacion_menor2)\n"
   ]
  },
  {
   "cell_type": "code",
   "execution_count": 7,
   "id": "aedaa06b",
   "metadata": {},
   "outputs": [
    {
     "name": "stdout",
     "output_type": "stream",
     "text": [
      "num1 > num2: False\n",
      "num2 > num1: True\n"
     ]
    }
   ],
   "source": [
    "# Ejemplo de operador de comparación: > Mayor que\n",
    "num1 = 15\n",
    "num2 = 20\n",
    "\n",
    "comparacion_mayor1 = (num1 > num2)\n",
    "comparacion_mayor2 = (num2 > num1)\n",
    "\n",
    "print(\"num1 > num2:\", comparacion_mayor1)\n",
    "print(\"num2 > num1:\", comparacion_mayor2)\n"
   ]
  },
  {
   "cell_type": "code",
   "execution_count": 8,
   "id": "9c999aa3",
   "metadata": {},
   "outputs": [
    {
     "name": "stdout",
     "output_type": "stream",
     "text": [
      "num1 <= num3: True\n",
      "num2 <= num1: False\n"
     ]
    }
   ],
   "source": [
    "# Ejemplo de operador de comparación: <= Menor o igual que\n",
    "num1 = 15\n",
    "num2 = 20\n",
    "num3 = 15\n",
    "\n",
    "comparacion_menor_igual1 = (num1 <= num3)\n",
    "comparacion_menor_igual2 = (num2 <= num1)\n",
    "\n",
    "print(\"num1 <= num3:\", comparacion_menor_igual1)\n",
    "print(\"num2 <= num1:\", comparacion_menor_igual2)\n"
   ]
  },
  {
   "cell_type": "code",
   "execution_count": 9,
   "id": "9a2dfa65",
   "metadata": {},
   "outputs": [
    {
     "name": "stdout",
     "output_type": "stream",
     "text": [
      "num1 <= num3: True\n",
      "num2 <= num1: True\n"
     ]
    }
   ],
   "source": [
    "# Ejemplo de operador de comparación: >= Mayor o igual que\n",
    "num1 = 15\n",
    "num2 = 20\n",
    "num3 = 15\n",
    "\n",
    "comparacion_menor_igual1 = (num1 >= num3)\n",
    "comparacion_menor_igual2 = (num2 >= num1)\n",
    "\n",
    "print(\"num1 <= num3:\", comparacion_menor_igual1)\n",
    "print(\"num2 <= num1:\", comparacion_menor_igual2)\n"
   ]
  },
  {
   "cell_type": "markdown",
   "id": "4e6b740e",
   "metadata": {},
   "source": [
    "\n",
    "---\n",
    "\n",
    "# Cadenas de Texto: El Concepto de Inmutabilidad\n",
    "\n",
    "### Principio Fundamental\n",
    "\n",
    "* Una vez que se crea una **cadena de texto en Python**, su contenido **no se puede modificar**.\n",
    "* Cualquier operación que *parece* cambiar la cadena (por ejemplo, concatenar con `'+'`) en realidad **crea un objeto nuevo en memoria**.\n",
    "\n",
    "\n",
    "### La Ineficiencia de la Concatenación en Bucle (`+=`)\n",
    "\n",
    "Cuando construyes una cadena paso a paso en un bucle, en cada iteración Python realiza:\n",
    "\n",
    "1. **Lee** la cadena antigua y el nuevo trozo.\n",
    "2. **Reserva un nuevo bloque de memoria** más grande.\n",
    "3. **Copia todo el contenido** de la cadena antigua al nuevo bloque.\n",
    "4. **Añade** el nuevo trozo al final.\n",
    "5. **Descarta** la cadena antigua.\n",
    "\n",
    "➡️ Esto hace que la concatenación con `+=` dentro de bucles sea **ineficiente en términos de memoria y rendimiento**.\n",
    "\n",
    "---\n",
    "\n",
    "\n",
    "# Concatenación de Cadenas: Comparación de Métodos\n",
    "\n",
    "### Concatenación con `'+'`\n",
    "\n",
    "* Múltiples pasos.\n",
    "* Reserva memoria en cada paso.\n",
    "* Copia datos repetidamente.\n",
    "* **Lento e ineficiente**.\n",
    "\n",
    "### Usando `'.join()'`\n",
    "\n",
    "* Un solo paso optimizado.\n",
    "* Calcula el tamaño final una sola vez.\n",
    "* Reserva memoria una sola vez.\n",
    "* **Rápido y eficiente**.\n",
    "\n",
    "---\n",
    "\n",
    "\n"
   ]
  },
  {
   "cell_type": "code",
   "execution_count": 15,
   "id": "1bac74e8",
   "metadata": {},
   "outputs": [
    {
     "name": "stdout",
     "output_type": "stream",
     "text": [
      "AAPL\n"
     ]
    }
   ],
   "source": [
    "stocks = 'AAPL'\n",
    "print(stocks)\n",
    "\n",
    "\n",
    "\n",
    "\n"
   ]
  },
  {
   "cell_type": "code",
   "execution_count": 16,
   "id": "d4c9a94d",
   "metadata": {},
   "outputs": [
    {
     "data": {
      "text/plain": [
       "'AAPL,TSLA'"
      ]
     },
     "execution_count": 16,
     "metadata": {},
     "output_type": "execute_result"
    }
   ],
   "source": [
    "stocks + \",TSLA\""
   ]
  },
  {
   "cell_type": "code",
   "execution_count": 18,
   "id": "d36d8b81",
   "metadata": {},
   "outputs": [
    {
     "name": "stdout",
     "output_type": "stream",
     "text": [
      "AAPL,TSLA,TSLA\n"
     ]
    }
   ],
   "source": [
    "stocks += \",TSLA\"\n",
    "print(stocks)"
   ]
  },
  {
   "cell_type": "code",
   "execution_count": 20,
   "id": "2b9e3d8d",
   "metadata": {},
   "outputs": [
    {
     "name": "stdout",
     "output_type": "stream",
     "text": [
      "AAPL,TSLA,TSLA,MSFT,MSFT\n"
     ]
    }
   ],
   "source": [
    "stocks += \",MSFT\"\n",
    "print(stocks)\n",
    "\n",
    "\n",
    "\n",
    "\n",
    "\n"
   ]
  },
  {
   "cell_type": "code",
   "execution_count": 22,
   "id": "a5cc51eb",
   "metadata": {},
   "outputs": [],
   "source": [
    "stocks = ['AAPL', 'TSLA', 'MSFT']"
   ]
  },
  {
   "cell_type": "code",
   "execution_count": 26,
   "id": "6c444455",
   "metadata": {},
   "outputs": [
    {
     "name": "stdout",
     "output_type": "stream",
     "text": [
      "<class 'list'>\n"
     ]
    }
   ],
   "source": [
    "print(type(stocks))\n",
    "\n",
    "\n",
    "\n",
    "\n",
    "\n"
   ]
  },
  {
   "cell_type": "code",
   "execution_count": 28,
   "id": "24ef1a04",
   "metadata": {},
   "outputs": [
    {
     "name": "stdout",
     "output_type": "stream",
     "text": [
      "<class 'list'>\n"
     ]
    }
   ],
   "source": [
    "\",\".join(stocks)\n",
    "print(type(stocks)\n",
    ")"
   ]
  },
  {
   "cell_type": "markdown",
   "id": "913a4370",
   "metadata": {},
   "source": [
    "\n",
    "---\n",
    "\n",
    "# La evolución del formateo de cadenas\n",
    "\n",
    "### `%` (estilo *printf*, histórico)\n",
    "\n",
    "* Conciso para casos simples:\n",
    "\n",
    "  ```python\n",
    "  \"%s: %.2f\" % (nombre, x)\n",
    "  ```\n",
    "* Menos flexible, más propenso a errores con *tuplas* o *dicts*.\n",
    "* No está obsoleto, todavía habitual en **logging**.\n",
    "\n",
    "---\n",
    "\n",
    "### `.format()`\n",
    "\n",
    "* Más flexible: admite nombres y reordenamiento.\n",
    "* Usa el mini-lenguaje de formato:\n",
    "\n",
    "  ```python\n",
    "  \"x: {:.2f}\".format(x)\n",
    "  ```\n",
    "* Inconveniente: **más largo de escribir**.\n",
    "\n",
    "---\n",
    "\n",
    "### `f\"...\"` (f-strings)\n",
    "\n",
    "* Más legibles, concisas y rápidas.\n",
    "* Permiten expresiones y especificadores:\n",
    "\n",
    "  ```python\n",
    "  f\"{x:.2f}\"\n",
    "  ```\n",
    "\n",
    "---\n",
    "\n"
   ]
  },
  {
   "cell_type": "markdown",
   "id": "aa30174f",
   "metadata": {},
   "source": [
    "¡Perfecto! 🙌 Aquí te separo los ejemplos de esta diapositiva en **celdas de código** con explicación y salidas esperadas.\n",
    "\n",
    "---\n",
    "\n",
    "# Ejemplos utilizando `%`\n",
    "\n",
    "### 📌 Especificadores comunes\n",
    "\n",
    "* `%s` → Inserta una cadena de texto (ej: *ticker*).\n",
    "* `%d` → Inserta un entero (ej: *cantidad*).\n",
    "* `%.2f` → Inserta un número flotante con 2 decimales (ej: *precio*).\n",
    "* `%%` → Escapa el símbolo `%` para imprimirlo literalmente.\n"
   ]
  },
  {
   "cell_type": "code",
   "execution_count": 29,
   "id": "30911bbf",
   "metadata": {},
   "outputs": [],
   "source": [
    "ticker = \"AAPL\"\n",
    "cantidad = 100\n",
    "precio = 200.46\n",
    "rent = 0.0345\n",
    "volumen = 10000\n"
   ]
  },
  {
   "cell_type": "code",
   "execution_count": 30,
   "id": "b8555476",
   "metadata": {},
   "outputs": [
    {
     "name": "stdout",
     "output_type": "stream",
     "text": [
      "Orden: AAPL x 100 a 200.46 USD\n"
     ]
    }
   ],
   "source": [
    "print(\"Orden: %s x %d a %.2f USD\" % (ticker, cantidad, precio))\n"
   ]
  },
  {
   "cell_type": "code",
   "execution_count": 31,
   "id": "33384386",
   "metadata": {},
   "outputs": [
    {
     "name": "stdout",
     "output_type": "stream",
     "text": [
      "Rentabilidad: 3.45% | Volumen: 10000\n"
     ]
    }
   ],
   "source": [
    "print(\"Rentabilidad: %.2f%% | Volumen: %d\" % (rent * 100, volumen))\n"
   ]
  },
  {
   "cell_type": "markdown",
   "id": "93846c67",
   "metadata": {},
   "source": [
    "\n",
    "\n",
    "# Ejemplos utilizando `.format()`\n"
   ]
  },
  {
   "cell_type": "code",
   "execution_count": 32,
   "id": "89943309",
   "metadata": {},
   "outputs": [
    {
     "name": "stdout",
     "output_type": "stream",
     "text": [
      "Orden: AAPL x 100 a 200.46 USD\n"
     ]
    }
   ],
   "source": [
    "print(\"Orden: {} x {} a {:.2f} USD\".format(ticker, cantidad, precio))\n"
   ]
  },
  {
   "cell_type": "code",
   "execution_count": 33,
   "id": "b01e51b2",
   "metadata": {},
   "outputs": [
    {
     "name": "stdout",
     "output_type": "stream",
     "text": [
      "Rentabilidad: 3.45% | Volumen: 10000\n"
     ]
    }
   ],
   "source": [
    "print(\"Rentabilidad: {:.2%} | Volumen: {}\".format(rent, volumen))\n"
   ]
  },
  {
   "cell_type": "code",
   "execution_count": null,
   "id": "b34e0b0d",
   "metadata": {},
   "outputs": [],
   "source": []
  },
  {
   "cell_type": "markdown",
   "id": "78cbe4cd",
   "metadata": {},
   "source": [
    "# Ejemplos utilizando **f-strings**\n"
   ]
  },
  {
   "cell_type": "code",
   "execution_count": 34,
   "id": "fa9c93ed",
   "metadata": {},
   "outputs": [
    {
     "name": "stdout",
     "output_type": "stream",
     "text": [
      "Orden: AAPL x 100 a 200.46 USD\n"
     ]
    }
   ],
   "source": [
    "print(f\"Orden: {ticker} x {cantidad} a {precio:.2f} USD\")\n"
   ]
  },
  {
   "cell_type": "code",
   "execution_count": 35,
   "id": "60b5b2c2",
   "metadata": {},
   "outputs": [
    {
     "name": "stdout",
     "output_type": "stream",
     "text": [
      "Rentabilidad: 3.45% | Volumen: 10000\n"
     ]
    }
   ],
   "source": [
    "print(f\"Rentabilidad: {rent:.2%} | Volumen: {volumen}\")\n"
   ]
  },
  {
   "cell_type": "markdown",
   "id": "6c7e4605",
   "metadata": {},
   "source": [
    "\n",
    "---\n",
    "\n",
    "# Formateo de Cadenas y Caracteres Especiales\n",
    "\n",
    "## Caracteres de Escape vs. Raw Strings\n",
    "\n",
    "### **Escape (`\\`)**\n",
    "\n",
    "* La barra invertida `\\` tiene un significado especial para representar caracteres:\n",
    "\n",
    "  * `\\n` → salto de línea\n",
    "  * `\\t` → tabulación\n",
    "* Para escribir la barra invertida en sí, se usa `\\\\`.\n",
    "\n",
    "---\n",
    "\n",
    "### **Raw Strings (`r\"...\"`)**\n",
    "\n",
    "* El prefijo `r` **desactiva el significado especial** de la barra `\\`.\n",
    "* Es **esencial** cuando trabajamos con:\n",
    "\n",
    "  * **Rutas de archivos en Windows** →\n",
    "\n",
    "    ```python\n",
    "    r\"C:\\nuevo\\datos.csv\"\n",
    "    ```\n",
    "  * **Expresiones regulares**\n",
    "\n",
    "---\n"
   ]
  },
  {
   "cell_type": "code",
   "execution_count": 39,
   "id": "a25644b5",
   "metadata": {},
   "outputs": [
    {
     "name": "stdout",
     "output_type": "stream",
     "text": [
      "Línea 1\n",
      "Línea 2\n"
     ]
    }
   ],
   "source": [
    "print(\"Línea 1\\nLínea 2\")"
   ]
  },
  {
   "cell_type": "code",
   "execution_count": 40,
   "id": "57b0d3c8",
   "metadata": {},
   "outputs": [
    {
     "name": "stdout",
     "output_type": "stream",
     "text": [
      "C:\\nuevo\\datos.csv\n"
     ]
    }
   ],
   "source": [
    "print(\"C:\\\\nuevo\\\\datos.csv\")"
   ]
  },
  {
   "cell_type": "code",
   "execution_count": 42,
   "id": "b54b5610",
   "metadata": {},
   "outputs": [
    {
     "name": "stdout",
     "output_type": "stream",
     "text": [
      "C:\\nuevo\\datos.csv\n"
     ]
    }
   ],
   "source": [
    "print(r\"C:\\nuevo\\datos.csv\")"
   ]
  },
  {
   "cell_type": "markdown",
   "id": "cd6bf995",
   "metadata": {},
   "source": [
    "### Cadenas de Texto (str)"
   ]
  },
  {
   "cell_type": "markdown",
   "id": "fcde2d87",
   "metadata": {},
   "source": [
    "\n",
    "---\n",
    "\n",
    "# Funciones y Operaciones con Cadenas\n",
    "\n",
    "| **Signo / Función** | **Descripción**                                               |\n",
    "| ------------------- | ------------------------------------------------------------- |\n",
    "| `+`                 | Concatenación (unir cadenas)                                  |\n",
    "| `*`                 | Repetición (repetir una cadena *N* veces)                     |\n",
    "| `[]`                | Indexación (acceder a un carácter por su posición)            |\n",
    "| `[:]`               | Slicing (extraer una subcadena)                               |\n",
    "| `len()`             | Longitud (número de caracteres)                               |\n",
    "| `in`                | Verificar si una subcadena existe                             |\n",
    "| `not in`            | Verificar si una subcadena **no** existe                      |\n",
    "| `str.lower()`       | Convertir a minúsculas                                        |\n",
    "| `str.upper()`       | Convertir a mayúsculas                                        |\n",
    "| `str.capitalize()`  | Primera letra en mayúscula, resto en minúscula                |\n",
    "| `str.title()`       | Primera letra de cada palabra en mayúscula                    |\n",
    "| `str.find()`        | Encontrar la primera ocurrencia de una subcadena              |\n",
    "| `str.count()`       | Contar cuántas veces aparece una subcadena                    |\n",
    "| `str.replace()`     | Reemplazar subcadenas por otras                               |\n",
    "| `str.split()`       | Dividir la cadena en una lista (por separador)                |\n",
    "| `str.join()`        | Unir elementos de una secuencia en una cadena (con separador) |\n",
    "| `str.strip()`       | Quitar espacios (u otros caracteres) del inicio/final         |\n",
    "| `str.startswith()`  | Verificar si empieza con una subcadena                        |\n",
    "| `str.endswith()`    | Verificar si termina con una subcadena                        |\n",
    "| `str.isdigit()`     | Verificar si contiene solo dígitos                            |\n",
    "| `str.isalpha()`     | Verificar si contiene solo letras                             |\n",
    "| `str.isalnum()`     | Verificar si contiene letras y números                        |\n",
    "| `str.isspace()`     | Verificar si contiene solo espacios en blanco                 |\n",
    "| `str.istitle()`     | Verificar si está en formato título                           |\n",
    "| `str.isupper()`     | Verificar si está en mayúsculas                               |\n",
    "| `str.islower()`     | Verificar si está en minúsculas                               |\n",
    "\n",
    "---\n",
    "\n"
   ]
  },
  {
   "cell_type": "code",
   "execution_count": 43,
   "id": "ff683665",
   "metadata": {},
   "outputs": [
    {
     "name": "stdout",
     "output_type": "stream",
     "text": [
      "Concatenación: Hola Mundo\n"
     ]
    }
   ],
   "source": [
    "# Ejemplo de operador: + Concatenación\n",
    "cadena1 = \"Hola\"\n",
    "cadena2 = \"Mundo\"\n",
    "resultado_concatenacion = cadena1 + \" \" + cadena2\n",
    "print(\"Concatenación:\", resultado_concatenacion)\n"
   ]
  },
  {
   "cell_type": "code",
   "execution_count": 44,
   "id": "65fd8a3f",
   "metadata": {},
   "outputs": [
    {
     "name": "stdout",
     "output_type": "stream",
     "text": [
      "Repetición: PyPyPy\n"
     ]
    }
   ],
   "source": [
    "# Ejemplo de operador: * Repetición\n",
    "cadena = \"Py\"\n",
    "repeticion = cadena * 3\n",
    "print(\"Repetición:\", repeticion)\n"
   ]
  },
  {
   "cell_type": "code",
   "execution_count": 45,
   "id": "37fb1e14",
   "metadata": {},
   "outputs": [
    {
     "name": "stdout",
     "output_type": "stream",
     "text": [
      "Primer carácter: A\n",
      "Último carácter: t\n"
     ]
    }
   ],
   "source": [
    "# Ejemplo de operador: [] Indexación\n",
    "nombre_empresa = \"Alphabet\"\n",
    "primer_caracter = nombre_empresa[0]\n",
    "ultimo_caracter = nombre_empresa[-1]  # Indexación negativa\n",
    "\n",
    "print(\"Primer carácter:\", primer_caracter)\n",
    "print(\"Último carácter:\", ultimo_caracter)\n"
   ]
  },
  {
   "cell_type": "code",
   "execution_count": 46,
   "id": "756d33ce",
   "metadata": {},
   "outputs": [
    {
     "name": "stdout",
     "output_type": "stream",
     "text": [
      "Subcadena [1:4]: OOG\n",
      "Principio [:2]: GO\n",
      "Final [3:]: GL\n",
      "Copia completa [:]: GOOGL\n"
     ]
    }
   ],
   "source": [
    "# Ejemplo de operador: [:] Slicing\n",
    "ticker = \"GOOGL\"\n",
    "subcadena = ticker[1:4]       # Desde índice 1 (incluido) hasta 4 (excluido)\n",
    "principio = ticker[:2]        # Desde el inicio hasta índice 2 (excluido)\n",
    "final = ticker[3:]            # Desde índice 3 (incluido) hasta el final\n",
    "copia_completa = ticker[:]    # Copia completa de la cadena\n",
    "\n",
    "print(\"Subcadena [1:4]:\", subcadena)\n",
    "print(\"Principio [:2]:\", principio)\n",
    "print(\"Final [3:]:\", final)\n",
    "print(\"Copia completa [:]:\", copia_completa)\n"
   ]
  },
  {
   "cell_type": "code",
   "execution_count": 47,
   "id": "78028149",
   "metadata": {},
   "outputs": [
    {
     "name": "stdout",
     "output_type": "stream",
     "text": [
      "Longitud de la cadena: 15\n"
     ]
    }
   ],
   "source": [
    "# Ejemplo de función integrada: len() Longitud\n",
    "mensaje = \"Mercado Abierto\"\n",
    "longitud_cadena = len(mensaje)\n",
    "print(\"Longitud de la cadena:\", longitud_cadena)\n"
   ]
  },
  {
   "cell_type": "code",
   "execution_count": 48,
   "id": "06007846",
   "metadata": {},
   "outputs": [
    {
     "name": "stdout",
     "output_type": "stream",
     "text": [
      "'Financiero' en el texto?: True\n",
      "'Bursátil' en el texto?: False\n"
     ]
    }
   ],
   "source": [
    "# Ejemplo de operador: in Pertenencia\n",
    "texto = \"Análisis Financiero\"\n",
    "subcadena_existente = \"Financiero\"\n",
    "subcadena_inexistente = \"Bursátil\"\n",
    "\n",
    "pertenencia_existente = subcadena_existente in texto\n",
    "pertenencia_inexistente = subcadena_inexistente in texto\n",
    "\n",
    "print(\"'Financiero' en el texto?:\", pertenencia_existente)\n",
    "print(\"'Bursátil' en el texto?:\", pertenencia_inexistente)\n"
   ]
  },
  {
   "cell_type": "code",
   "execution_count": 49,
   "id": "d254f248",
   "metadata": {},
   "outputs": [
    {
     "name": "stdout",
     "output_type": "stream",
     "text": [
      "'Financiero' not in el texto?: False\n",
      "'Bursátil' not in el texto?: True\n"
     ]
    }
   ],
   "source": [
    "# Ejemplo de operador: not in No pertenencia\n",
    "texto = \"Análisis Financiero\"\n",
    "subcadena_existente = \"Financiero\"\n",
    "subcadena_inexistente = \"Bursátil\"\n",
    "\n",
    "no_pertenencia_existente = subcadena_existente not in texto\n",
    "no_pertenencia_inexistente = subcadena_inexistente not in texto\n",
    "\n",
    "print(\"'Financiero' not in el texto?:\", no_pertenencia_existente)\n",
    "print(\"'Bursátil' not in el texto?:\", no_pertenencia_inexistente)\n"
   ]
  },
  {
   "cell_type": "code",
   "execution_count": 50,
   "id": "12809630",
   "metadata": {},
   "outputs": [
    {
     "name": "stdout",
     "output_type": "stream",
     "text": [
      "En minúsculas: titulos bursatiles\n"
     ]
    }
   ],
   "source": [
    "# Ejemplo del método de string: str.lower()\n",
    "cadena_mayus = \"TITULOS BURSATILES\"\n",
    "cadena_minusculas = cadena_mayus.lower()\n",
    "print(\"En minúsculas:\", cadena_minusculas)\n"
   ]
  },
  {
   "cell_type": "code",
   "execution_count": 51,
   "id": "c049ba0b",
   "metadata": {},
   "outputs": [
    {
     "name": "stdout",
     "output_type": "stream",
     "text": [
      "En mayúsculas: REPORTE TRIMESTRAL\n"
     ]
    }
   ],
   "source": [
    "# Ejemplo de método de string: str.upper()\n",
    "cadena_minus = \"reporte trimestral\"\n",
    "cadena_mayusculas = cadena_minus.upper()\n",
    "print(\"En mayúsculas:\", cadena_mayusculas)\n"
   ]
  },
  {
   "cell_type": "code",
   "execution_count": 52,
   "id": "4d8f10e6",
   "metadata": {},
   "outputs": [
    {
     "name": "stdout",
     "output_type": "stream",
     "text": [
      "Capitalizada: Riesgo operativo\n"
     ]
    }
   ],
   "source": [
    "# Ejemplo de método de string: str.capitalize()\n",
    "cadena = \"riesgo operativo\"\n",
    "cadena_capitalizada = cadena.capitalize()\n",
    "print(\"Capitalizada:\", cadena_capitalizada)\n"
   ]
  },
  {
   "cell_type": "code",
   "execution_count": 53,
   "id": "82020975",
   "metadata": {},
   "outputs": [
    {
     "name": "stdout",
     "output_type": "stream",
     "text": [
      "Formato título: Mercado De Capitales\n"
     ]
    }
   ],
   "source": [
    "# Ejemplo de método de string: str.title()\n",
    "cadena = \"mercado de capitales\"\n",
    "cadena_titulo = cadena.title()\n",
    "print(\"Formato título:\", cadena_titulo)\n"
   ]
  },
  {
   "cell_type": "code",
   "execution_count": 54,
   "id": "0adc782f",
   "metadata": {},
   "outputs": [
    {
     "name": "stdout",
     "output_type": "stream",
     "text": [
      "Posición de la primera 'bolsa': 3\n",
      "Posición de 'mercado': -1\n"
     ]
    }
   ],
   "source": [
    "# Ejemplo de método de string: str.find()\n",
    "frase = \"La bolsa sube, la bolsa baja.\"\n",
    "posicion_primer_bolsa = frase.find(\"bolsa\")\n",
    "posicion_otra_palabra = frase.find(\"mercado\")  # Si no encuentra, devuelve -1\n",
    "\n",
    "print(\"Posición de la primera 'bolsa':\", posicion_primer_bolsa)\n",
    "print(\"Posición de 'mercado':\", posicion_otra_palabra)\n"
   ]
  },
  {
   "cell_type": "code",
   "execution_count": 55,
   "id": "144324be",
   "metadata": {},
   "outputs": [
    {
     "name": "stdout",
     "output_type": "stream",
     "text": [
      "Conteo de 'apple': 3\n"
     ]
    }
   ],
   "source": [
    "# Ejemplo de método de string: str.count()\n",
    "frase = \"apple, google, apple, microsoft, apple\"\n",
    "conteo_apple = frase.count(\"apple\")\n",
    "print(\"Conteo de 'apple':\", conteo_apple)\n"
   ]
  },
  {
   "cell_type": "code",
   "execution_count": 56,
   "id": "d38b9bc9",
   "metadata": {},
   "outputs": [
    {
     "name": "stdout",
     "output_type": "stream",
     "text": [
      "Texto original: El precio es de 100. El precio subirá.\n",
      "Texto reemplazado: El valor es de 100. El valor subirá.\n",
      "Texto reemplazado (solo 1): El valor es de 100. El precio subirá.\n"
     ]
    }
   ],
   "source": [
    "# Ejemplo de método de string: str.replace()\n",
    "texto_original = \"El precio es de 100. El precio subirá.\"\n",
    "texto_reemplazado = texto_original.replace(\"precio\", \"valor\")\n",
    "texto_reemplazado_limitado = texto_original.replace(\"precio\", \"valor\", 1)  # Reemplaza solo la primera ocurrencia\n",
    "\n",
    "print(\"Texto original:\", texto_original)\n",
    "print(\"Texto reemplazado:\", texto_reemplazado)\n",
    "print(\"Texto reemplazado (solo 1):\", texto_reemplazado_limitado)\n"
   ]
  },
  {
   "cell_type": "code",
   "execution_count": 57,
   "id": "48fa67bc",
   "metadata": {},
   "outputs": [
    {
     "name": "stdout",
     "output_type": "stream",
     "text": [
      "Lista de datos: ['AAPL', '190.50', '100', 'BUY']\n",
      "Lista de palabras: ['Este', 'es', 'un', 'reporte.']\n"
     ]
    }
   ],
   "source": [
    "# Ejemplo de método de string: str.split()\n",
    "csv_linea = \"AAPL,190.50,100,BUY\"\n",
    "datos_lista = csv_linea.split(\",\")\n",
    "print(\"Lista de datos:\", datos_lista)\n",
    "\n",
    "frase = \"Este es un reporte.\"\n",
    "palabras = frase.split()  # Divide por espacios por defecto\n",
    "print(\"Lista de palabras:\", palabras)\n"
   ]
  },
  {
   "cell_type": "code",
   "execution_count": 58,
   "id": "a9d4d463",
   "metadata": {},
   "outputs": [
    {
     "name": "stdout",
     "output_type": "stream",
     "text": [
      "Cadena con espacios:    informe_financiero.txt   \n",
      "Cadena sin espacios: informe_financiero.txt\n"
     ]
    }
   ],
   "source": [
    "# Ejemplo de método de string: str.strip()\n",
    "cadena_con_es = \"   informe_financiero.txt   \"\n",
    "cadena_sin_es = cadena_con_es.strip()\n",
    "\n",
    "print(\"Cadena con espacios:\", cadena_con_es)\n",
    "print(\"Cadena sin espacios:\", cadena_sin_es)\n"
   ]
  },
  {
   "cell_type": "code",
   "execution_count": 59,
   "id": "dbcf9038",
   "metadata": {},
   "outputs": [
    {
     "name": "stdout",
     "output_type": "stream",
     "text": [
      "¿Empieza con 'reporte'?: True\n",
      "¿Empieza con 'final'?: False\n"
     ]
    }
   ],
   "source": [
    "# Ejemplo de método de string: str.startswith()\n",
    "nombre_archivo = \"reporte_final_2025.pdf\"\n",
    "empieza_con_reporte = nombre_archivo.startswith(\"reporte\")\n",
    "empieza_con_final = nombre_archivo.startswith(\"final\")\n",
    "\n",
    "print(\"¿Empieza con 'reporte'?:\", empieza_con_reporte)\n",
    "print(\"¿Empieza con 'final'?:\", empieza_con_final)\n"
   ]
  },
  {
   "cell_type": "code",
   "execution_count": 60,
   "id": "ca1dffb2",
   "metadata": {},
   "outputs": [
    {
     "name": "stdout",
     "output_type": "stream",
     "text": [
      "¿Termina con '.pdf'?: True\n",
      "¿Termina con '.txt'?: False\n"
     ]
    }
   ],
   "source": [
    "# Ejemplo de método de string: str.endswith()\n",
    "nombre_archivo = \"reporte_final_2025.pdf\"\n",
    "termina_con_pdf = nombre_archivo.endswith(\".pdf\")\n",
    "termina_con_txt = nombre_archivo.endswith(\".txt\")\n",
    "\n",
    "print(\"¿Termina con '.pdf'?:\", termina_con_pdf)\n",
    "print(\"¿Termina con '.txt'?:\", termina_con_txt)\n"
   ]
  },
  {
   "cell_type": "code",
   "execution_count": 61,
   "id": "3271b858",
   "metadata": {},
   "outputs": [
    {
     "name": "stdout",
     "output_type": "stream",
     "text": [
      "'150' contiene solo dígitos?: True\n",
      "'abc123' contiene solo dígitos?: False\n",
      "'Ⅻ' (romano) contiene solo dígitos?: False\n",
      "'' (vacío) contiene solo dígitos?: False\n"
     ]
    }
   ],
   "source": [
    "# Ejemplo de uso del método str.isdigit()\n",
    "\n",
    "precio_str = \"150\"      # Solo contiene caracteres numéricos (0-9)\n",
    "codigo_str = \"abc123\"   # Mezcla letras y números\n",
    "romanos_str = \"Ⅻ\"       # Dígito romano Unicode (12)\n",
    "vacio_str = \"\"          # Cadena vacía\n",
    "\n",
    "# Comprobaciones\n",
    "solo_digitos = precio_str.isdigit()     # True → \"150\" son todos dígitos\n",
    "mezclado = codigo_str.isdigit()         # False → contiene letras\n",
    "romanos = romanos_str.isdigit()         # True → dígitos romanos Unicode son válidos\n",
    "vacio = vacio_str.isdigit()             # False → cadena vacía\n",
    "\n",
    "print(\"'150' contiene solo dígitos?:\", solo_digitos)\n",
    "print(\"'abc123' contiene solo dígitos?:\", mezclado)\n",
    "print(\"'Ⅻ' (romano) contiene solo dígitos?:\", romanos)\n",
    "print(\"'' (vacío) contiene solo dígitos?:\", vacio)\n"
   ]
  },
  {
   "cell_type": "code",
   "execution_count": 62,
   "id": "e47b9e61",
   "metadata": {},
   "outputs": [
    {
     "name": "stdout",
     "output_type": "stream",
     "text": [
      "'Python' son solo letras?: True\n",
      "'Python3' son solo letras?: False\n",
      "'canción' (con acento) son solo letras?: True\n",
      "'忍者' (japonés) son solo letras?: True\n",
      "'hola mundo' son solo letras?: False\n",
      "'' (vacío) son solo letras?: False\n"
     ]
    }
   ],
   "source": [
    "# Ejemplo práctico del método str.isalpha()\n",
    "\n",
    "# Casos de prueba\n",
    "solo_letras_str   = \"Python\"        # Solo letras ASCII\n",
    "mezclado_letras   = \"Python3\"       # Letras + número\n",
    "acentos_str       = \"canción\"       # Incluye 'ó' (Unicode)\n",
    "japones_str       = \"忍者\"          # Kanji japonés\n",
    "espacio_str       = \"hola mundo\"    # Contiene un espacio\n",
    "vacio_str         = \"\"              # Cadena vacía\n",
    "\n",
    "# Evaluación de cada caso\n",
    "solo_letras          = solo_letras_str.isalpha()      # True\n",
    "mezclado_letras_res  = mezclado_letras.isalpha()      # False\n",
    "acentos              = acentos_str.isalpha()          # True\n",
    "japones              = japones_str.isalpha()          # True\n",
    "espacio              = espacio_str.isalpha()          # False\n",
    "vacio                = vacio_str.isalpha()            # False\n",
    "\n",
    "# Resultados\n",
    "print(\"'Python' son solo letras?:\", solo_letras)\n",
    "print(\"'Python3' son solo letras?:\", mezclado_letras_res)\n",
    "print(\"'canción' (con acento) son solo letras?:\", acentos)\n",
    "print(\"'忍者' (japonés) son solo letras?:\", japones)\n",
    "print(\"'hola mundo' son solo letras?:\", espacio)\n",
    "print(\"'' (vacío) son solo letras?:\", vacio)\n"
   ]
  },
  {
   "cell_type": "code",
   "execution_count": 63,
   "id": "618aba59",
   "metadata": {},
   "outputs": [
    {
     "name": "stdout",
     "output_type": "stream",
     "text": [
      "'Python3' es alfanumérico?: True\n",
      "'abc!' es alfanumérico?: False\n",
      "'Server' es alfanumérico?: True\n",
      "'2025' es alfanumérico?: True\n",
      "'año2025' es alfanumérico?: True\n",
      "'忍者42' es alfanumérico?: True\n",
      "'user_name' es alfanumérico?: False\n",
      "'hola 123' es alfanumérico?: False\n",
      "'' (vacío) es alfanumérico?: False\n"
     ]
    }
   ],
   "source": [
    "# Ejemplo práctico del método str.isalnum()\n",
    "\n",
    "# Casos de prueba\n",
    "alfanum_str     = \"Python3\"       # Letras + dígito ASCII → alfanumérico\n",
    "solo_especiales = \"abc!\"          # Contiene '!' → no alfanumérico\n",
    "solo_letras     = \"Server\"        # Solo letras → alfanumérico\n",
    "solo_digitos    = \"2025\"          # Solo dígitos → alfanumérico\n",
    "acentos_str     = \"año2025\"       # Letra con tilde + dígitos → alfanumérico\n",
    "japones_str     = \"忍者42\"        # Kanji + dígitos → alfanumérico\n",
    "underscore_str  = \"user_name\"     # Contiene '_' → False\n",
    "espacio_str     = \"hola 123\"      # Contiene espacio → False\n",
    "vacio_str       = \"\"              # Cadena vacía → False\n",
    "\n",
    "# Evaluación de cada caso\n",
    "es_alfanum        = alfanum_str.isalnum()      # True\n",
    "no_es_alfanum     = solo_especiales.isalnum()  # False\n",
    "solo_letras_res   = solo_letras.isalnum()      # True\n",
    "solo_digitos_res  = solo_digitos.isalnum()     # True\n",
    "acentos_res       = acentos_str.isalnum()      # True\n",
    "japones_res       = japones_str.isalnum()      # True\n",
    "underscore_res    = underscore_str.isalnum()   # False\n",
    "espacio_res       = espacio_str.isalnum()      # False\n",
    "vacio_res         = vacio_str.isalnum()        # False\n",
    "\n",
    "# Resultados\n",
    "print(\"'Python3' es alfanumérico?:\", es_alfanum)\n",
    "print(\"'abc!' es alfanumérico?:\", no_es_alfanum)\n",
    "print(\"'Server' es alfanumérico?:\", solo_letras_res)\n",
    "print(\"'2025' es alfanumérico?:\", solo_digitos_res)\n",
    "print(\"'año2025' es alfanumérico?:\", acentos_res)\n",
    "print(\"'忍者42' es alfanumérico?:\", japones_res)\n",
    "print(\"'user_name' es alfanumérico?:\", underscore_res)\n",
    "print(\"'hola 123' es alfanumérico?:\", espacio_res)\n",
    "print(\"'' (vacío) es alfanumérico?:\", vacio_res)\n"
   ]
  },
  {
   "cell_type": "code",
   "execution_count": 64,
   "id": "6638cfcc",
   "metadata": {},
   "outputs": [
    {
     "name": "stdout",
     "output_type": "stream",
     "text": [
      "'El Reporte Trimestral' es formato título?: True\n",
      "'el reporte trimestral' es formato título?: False\n"
     ]
    }
   ],
   "source": [
    "# Ejemplo de método de string: str.istitle()\n",
    "# Devuelve True cuando cada palabra de la cadena comienza con mayúscula \n",
    "# y el resto de letras están en minúscula.\n",
    "\n",
    "titulo_correcto   = \"El Reporte Trimestral\"\n",
    "titulo_incorrecto = \"el reporte trimestral\"\n",
    "\n",
    "es_titulo   = titulo_correcto.istitle()\n",
    "no_es_titulo = titulo_incorrecto.istitle()\n",
    "\n",
    "print(\"'El Reporte Trimestral' es formato título?:\", es_titulo)\n",
    "print(\"'el reporte trimestral' es formato título?:\", no_es_titulo)\n"
   ]
  },
  {
   "cell_type": "code",
   "execution_count": 65,
   "id": "6e7f5d34",
   "metadata": {},
   "outputs": [
    {
     "name": "stdout",
     "output_type": "stream",
     "text": [
      "'NASDAQ' está en mayúsculas?: True\n",
      "'nasdaq' está en mayúsculas?: False\n"
     ]
    }
   ],
   "source": [
    "# Ejemplo de método de string: str.isupper()\n",
    "# Devuelve True si todos los caracteres alfabéticos están en mayúscula.\n",
    "\n",
    "mayus_str = \"NASDAQ\"\n",
    "minus_str = \"nasdaq\"\n",
    "\n",
    "es_mayus   = mayus_str.isupper()\n",
    "no_es_mayus = minus_str.isupper()\n",
    "\n",
    "print(\"'NASDAQ' está en mayúsculas?:\", es_mayus)\n",
    "print(\"'nasdaq' está en mayúsculas?:\", no_es_mayus)\n"
   ]
  },
  {
   "cell_type": "code",
   "execution_count": 66,
   "id": "1654e29b",
   "metadata": {},
   "outputs": [
    {
     "name": "stdout",
     "output_type": "stream",
     "text": [
      "'nasdaq' está en minúsculas?: True\n",
      "'NASDAQ' está en minúsculas?: False\n"
     ]
    }
   ],
   "source": [
    "# Ejemplo de método de string: str.islower()\n",
    "# Devuelve True si todos los caracteres alfabéticos están en minúscula.\n",
    "\n",
    "minus_str = \"nasdaq\"\n",
    "mayus_str = \"NASDAQ\"\n",
    "\n",
    "es_minus   = minus_str.islower()\n",
    "no_es_minus = mayus_str.islower()\n",
    "\n",
    "print(\"'nasdaq' está en minúsculas?:\", es_minus)\n",
    "print(\"'NASDAQ' está en minúsculas?:\", no_es_minus)\n"
   ]
  }
 ],
 "metadata": {
  "kernelspec": {
   "display_name": "Python 3",
   "language": "python",
   "name": "python3"
  },
  "language_info": {
   "codemirror_mode": {
    "name": "ipython",
    "version": 3
   },
   "file_extension": ".py",
   "mimetype": "text/x-python",
   "name": "python",
   "nbconvert_exporter": "python",
   "pygments_lexer": "ipython3",
   "version": "3.11.4"
  }
 },
 "nbformat": 4,
 "nbformat_minor": 5
}
