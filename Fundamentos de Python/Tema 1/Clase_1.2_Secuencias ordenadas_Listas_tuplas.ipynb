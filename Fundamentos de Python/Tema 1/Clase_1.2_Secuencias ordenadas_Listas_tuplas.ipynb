{
 "cells": [
  {
   "cell_type": "markdown",
   "id": "01a74eb5",
   "metadata": {},
   "source": [
    "# Clase 1.2: Estructuras de datos. Secuencias ordenadas. Listas y tuplas\n",
    "---\n",
    "\n"
   ]
  },
  {
   "cell_type": "markdown",
   "id": "a4201bef",
   "metadata": {},
   "source": [
    "## Secuencias Ordenadas (I): Listas\n",
    "\n",
    "*Concepto: Mutabilidad*\n",
    "\n",
    "*Una Lista* es un contenedor que almacena una secuencia ordenada y *mutable* de objetos.\n",
    "\n",
    "Perfecto 🙌, a partir de ahora solo voy a transformar lo que aparece en las capturas directamente a **Markdown** (MD) sin añadir explicaciones extra.\n",
    "\n",
    "Aquí está la última captura en MD:\n",
    "\n",
    "\n",
    "## ¿Cómo funcionan las listas?\n",
    "\n",
    "* Internamente, una lista es un bloque de memoria contiguo con punteros a los objetos y **espacio extra pre-reservado**.\n",
    "* Añadir al final es eficiente porque solo ocupa el espacio ya reservado.\n",
    "* Insertar al principio es costoso porque obliga a **desplazar todos** los elementos para hacer hueco.\n",
    "\n",
    "---\n",
    "\n",
    "\n"
   ]
  },
  {
   "cell_type": "markdown",
   "id": "1716e389",
   "metadata": {},
   "source": []
  },
  {
   "cell_type": "markdown",
   "id": "51b8ed10",
   "metadata": {},
   "source": []
  },
  {
   "cell_type": "markdown",
   "id": "f6c162e6",
   "metadata": {},
   "source": []
  },
  {
   "cell_type": "markdown",
   "id": "ee0dfdcc",
   "metadata": {},
   "source": []
  },
  {
   "cell_type": "markdown",
   "id": "d77f8500",
   "metadata": {},
   "source": []
  },
  {
   "cell_type": "markdown",
   "id": "737e8399",
   "metadata": {},
   "source": []
  }
 ],
 "metadata": {
  "language_info": {
   "name": "python"
  }
 },
 "nbformat": 4,
 "nbformat_minor": 5
}
