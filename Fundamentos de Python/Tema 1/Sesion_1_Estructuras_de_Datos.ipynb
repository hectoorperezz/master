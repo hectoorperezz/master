{
  "cells": [
    {
      "cell_type": "markdown",
      "id": "e664891c",
      "metadata": {
        "id": "e664891c"
      },
      "source": [
        "\n",
        "# **Sesión 1 — Estructuras de Datos**\n",
        "\n",
        "## Clase 1.1"
      ]
    },
    {
      "cell_type": "markdown",
      "id": "f8fc9713",
      "metadata": {},
      "source": [
        "\n",
        "\n",
        "# ¿Qué es una Variable? - El modelo de etiquetas\n",
        "\n",
        "* En **Python todo es un objeto**.\n",
        "* Una variable **no es una caja** que contiene un valor,\n",
        "  sino una **etiqueta, puntero o nombre** que apunta a un objeto que reside en la memoria.\n",
        "\n",
        "### Ejemplo\n",
        "\n",
        "```\n",
        "precio = 175.50\n",
        "```\n",
        "\n",
        "---\n",
        "\n",
        "\n",
        "\n",
        "# Importancia del modelo de referencias\n",
        "\n",
        "* Entender este modelo de **referencias** es la base para dominar conceptos más avanzados en Python.\n",
        "* Afecta directamente al funcionamiento de:\n",
        "\n",
        "### Conceptos clave\n",
        "\n",
        "* **Objetos mutables e inmutables**\n",
        "\n",
        "  * Explican por qué modificar una lista en un lugar puede afectarla en toda la aplicación.\n",
        "\n",
        "* **Paso de argumentos a funciones**\n",
        "\n",
        "  * Permite comprender qué ocurre realmente al pasar una variable a una función y si esta puede ser modificada permanentemente.\n",
        "\n",
        "* **Gestión de memoria**\n",
        "\n",
        "  * Muestra cómo Python es eficiente evitando duplicar objetos innecesariamente.\n",
        "\n",
        "---\n",
        "\n",
        "\n",
        "\n",
        "# Tipos Numéricos: Precisión y Rendimiento\n",
        "\n",
        "Python ofrece dos tipos numéricos básicos para la mayoría de operaciones:\n",
        "\n",
        "* **int**\n",
        "\n",
        "  * Enteros de **precisión arbitraria**.\n",
        "  * No existe problema de desbordamiento (*overflow*).\n",
        "  * Pueden ser tan grandes como lo permita la memoria disponible.\n",
        "\n",
        "* **float**\n",
        "\n",
        "  * Números de punto flotante de **doble precisión** (estándar IEEE 754).\n",
        "  * Son rápidos y eficientes para **cálculos científicos y gráficos**.\n",
        "\n",
        "---\n",
        "\n",
        "\n",
        "\n",
        "\n"
      ]
    },
    {
      "cell_type": "code",
      "execution_count": null,
      "id": "0deec074",
      "metadata": {
        "id": "0deec074"
      },
      "outputs": [],
      "source": [
        "# La etiqueta precio apunta al objeto de tipo float cuyo valor es 175.50\n",
        "precio = 175.50"
      ]
    },
    {
      "cell_type": "code",
      "execution_count": null,
      "id": "vWbC_DpIHY81",
      "metadata": {
        "colab": {
          "base_uri": "https://localhost:8080/"
        },
        "id": "vWbC_DpIHY81",
        "outputId": "d7f1c088-9042-420d-a1a6-9dd5ad0bafcb"
      },
      "outputs": [
        {
          "name": "stdout",
          "output_type": "stream",
          "text": [
            "175.5\n"
          ]
        }
      ],
      "source": [
        "print(precio)"
      ]
    },
    {
      "cell_type": "code",
      "execution_count": null,
      "id": "6G3G-r_KHak8",
      "metadata": {
        "id": "6G3G-r_KHak8"
      },
      "outputs": [],
      "source": [
        "# La etiqueta precio_stock apunta al objeto de tipo float cuyo valor es 175.50\n",
        "precio_stock = precio    ### MODELO DE REFERENCIAS COMPARTIDAS!!!"
      ]
    },
    {
      "cell_type": "code",
      "execution_count": null,
      "id": "0GOCkjRJHqG-",
      "metadata": {
        "colab": {
          "base_uri": "https://localhost:8080/"
        },
        "id": "0GOCkjRJHqG-",
        "outputId": "9d90e138-f06a-4dca-d870-08ca22c5924d"
      },
      "outputs": [
        {
          "name": "stdout",
          "output_type": "stream",
          "text": [
            "175.5\n"
          ]
        }
      ],
      "source": [
        "print(precio_stock)"
      ]
    },
    {
      "cell_type": "markdown",
      "id": "28977312",
      "metadata": {
        "id": "28977312"
      },
      "source": [
        "\n",
        "## Tipos numéricos y precisión de `float` vs `Decimal`"
      ]
    },
    {
      "cell_type": "markdown",
      "id": "60e703f8",
      "metadata": {},
      "source": [
        "\n",
        "\n",
        "# La Causa: El Error de Representación Binaria\n",
        "\n",
        "* Los ordenadores usan un **sistema binario**.\n",
        "* Algunas fracciones decimales (ej. `0.1`) **no tienen una representación binaria finita y exacta**.\n",
        "* Es un problema similar al de `1/3` en el sistema decimal:\n",
        "\n",
        "```\n",
        "1 ÷ 3 = 0.333333333...\n",
        "```\n",
        "\n",
        "* El ordenador almacena una **aproximación muy cercana**, no el valor exacto.\n",
        "\n",
        "### ⚠️ Importante\n",
        "\n",
        "* Para algunos cálculos, este error es aceptable.\n",
        "* Sin embargo, en aplicaciones **financieras o monetarias**, este pequeño error es **inaceptable**.\n",
        "\n",
        "\n",
        "---\n",
        "\n",
        "# Uso de `Decimal`: La Regla de Oro Conceptual\n",
        "\n",
        "### Principio Fundamental\n",
        "\n",
        "* Para una **precisión absoluta**, los objetos `Decimal` deben crearse a partir de una representación **exacta** (como un `string`),\n",
        "  y **no** desde una aproximación (como un `float`).\n",
        "\n",
        "### ⚠️ Flujo Incorrecto: Contaminación por `float`\n",
        "\n",
        "```\n",
        "Número 0.1 → Interpretación 'float' → Aproximación Binaria \n",
        "           → Objeto Decimal creado desde la aproximación \n",
        "           → Error Preservado\n",
        "```\n",
        "\n",
        "---\n",
        "\n"
      ]
    },
    {
      "cell_type": "code",
      "execution_count": null,
      "id": "ff22dc16",
      "metadata": {
        "colab": {
          "base_uri": "https://localhost:8080/"
        },
        "id": "ff22dc16",
        "outputId": "564c20f5-4ea7-4405-8341-0b8a72a26168"
      },
      "outputs": [
        {
          "name": "stdout",
          "output_type": "stream",
          "text": [
            "0.30000000000000004\n"
          ]
        }
      ],
      "source": [
        "# ¿Qué pasaría si...?\n",
        "print(0.1 + 0.2)"
      ]
    },
    {
      "cell_type": "code",
      "execution_count": null,
      "id": "sRxmoIQgqqpi",
      "metadata": {
        "colab": {
          "base_uri": "https://localhost:8080/"
        },
        "id": "sRxmoIQgqqpi",
        "outputId": "1368be3a-0715-4eb9-80eb-51318b0b4ac7"
      },
      "outputs": [
        {
          "name": "stdout",
          "output_type": "stream",
          "text": [
            "0.1000000000000000055511151231257827021181583404541015625\n"
          ]
        }
      ],
      "source": [
        "# Flujo incorrecto para crear un decimal\n",
        "a = 0.1\n",
        "\n",
        "from decimal import Decimal\n",
        "print(Decimal(a))"
      ]
    },
    {
      "cell_type": "code",
      "execution_count": null,
      "id": "QF1JHBACq-S7",
      "metadata": {
        "colab": {
          "base_uri": "https://localhost:8080/"
        },
        "id": "QF1JHBACq-S7",
        "outputId": "acec47e9-26dc-453a-a846-fe617da313d5"
      },
      "outputs": [
        {
          "name": "stdout",
          "output_type": "stream",
          "text": [
            "0.1\n"
          ]
        }
      ],
      "source": [
        "# Flujo correcto para crear un decimal\n",
        "a = '0.1'\n",
        "\n",
        "from decimal import Decimal\n",
        "print(Decimal(a))"
      ]
    },
    {
      "cell_type": "code",
      "execution_count": null,
      "id": "sf2oZ7Uu2U4s",
      "metadata": {
        "colab": {
          "base_uri": "https://localhost:8080/"
        },
        "id": "sf2oZ7Uu2U4s",
        "outputId": "f37caab2-57af-445f-fd87-2638332f62d6"
      },
      "outputs": [
        {
          "name": "stdout",
          "output_type": "stream",
          "text": [
            "0.3\n"
          ]
        }
      ],
      "source": [
        "# ¿Qué pasaría si...?\n",
        "from decimal import Decimal\n",
        "print(Decimal('0.1') + Decimal('0.2'))"
      ]
    },
    {
      "cell_type": "markdown",
      "id": "cioOHiqznBpx",
      "metadata": {
        "id": "cioOHiqznBpx"
      },
      "source": [
        "**Operaciones Fundamentales**\n",
        "\n",
        "Estas son las acciones más directas que podemos hacer:"
      ]
    },
    {
      "cell_type": "markdown",
      "id": "5MOqqJmWnEyk",
      "metadata": {
        "id": "5MOqqJmWnEyk"
      },
      "source": [
        "| Signo (Operador) | Función (Descripción)                                        |\n",
        "| :--------------- | :----------------------------------------------------------- |\n",
        "| `+`              | Suma                                                         |\n",
        "| `-`              | Resta                                                        |\n",
        "| `*`              | Multiplicación                                               |\n",
        "| `/`              | División (siempre devuelve un flotante)                      |\n",
        "| `//`             | División Entera (descarta la parte decimal)                  |\n",
        "| `%`              | Módulo (Resto de la división)                                |\n",
        "| `**`             | Potencia (Exponente)                                         |\n",
        "| `+=`             | Suma y asigna                                                |\n",
        "| `-=`             | Resta y asigna                                               |\n",
        "| `*=`             | Multiplica y asigna                                          |\n",
        "| `/=`             | Divide y asigna                                              |\n",
        "| `//=`            | División entera y asigna                                     |\n",
        "| `%=`             | Módulo y asigna                                              |\n",
        "| `**=`            | Potencia y asigna                                            |\n",
        "| `==`             | Igual a (comparación de igualdad)                            |\n",
        "| `!=`             | Diferente de (comparación de desigualdad)                    |\n",
        "| `<`              | Menor que                                                    |\n",
        "| `>`              | Mayor que                                                    |\n",
        "| `<=`             | Menor o igual que                                            |\n",
        "| `>=`             | Mayor o igual que                                            |\n",
        "| `is`             | Identidad (compara si son el mismo objeto en memoria)        |\n",
        "| `is not`         | No identidad (compara si no son el mismo objeto en memoria)  |"
      ]
    },
    {
      "cell_type": "code",
      "execution_count": null,
      "id": "ol4VDV8tm579",
      "metadata": {
        "colab": {
          "base_uri": "https://localhost:8080/"
        },
        "id": "ol4VDV8tm579",
        "outputId": "1190c5b8-b76c-4e3f-ae71-53a03959e1ac"
      },
      "outputs": [
        {
          "name": "stdout",
          "output_type": "stream",
          "text": [
            "Tipo de cantidad_acciones: <class 'int'>\n",
            "Tipo de precio_accion: <class 'float'>\n"
          ]
        }
      ],
      "source": [
        "# --- Números --- ¿Cómo sabemos el tipo del objeto? -> utilizar función type\n",
        "cantidad_acciones = 500      # int\n",
        "precio_accion = 189.75     # float\n",
        "print(f\"Tipo de cantidad_acciones: {type(cantidad_acciones)}\")\n",
        "print(f\"Tipo de precio_accion: {type(precio_accion)}\")"
      ]
    },
    {
      "cell_type": "code",
      "execution_count": null,
      "id": "IAW2-956nCXp",
      "metadata": {
        "colab": {
          "base_uri": "https://localhost:8080/"
        },
        "id": "IAW2-956nCXp",
        "outputId": "fd8248ea-bb6f-4c03-d929-8f22e6556c1d"
      },
      "outputs": [
        {
          "name": "stdout",
          "output_type": "stream",
          "text": [
            "Suma: 13\n"
          ]
        }
      ],
      "source": [
        "# Ejemplo de operador aritmético: + Suma\n",
        "a = 10\n",
        "b = 3\n",
        "resultado_suma = a + b\n",
        "print(\"Suma:\", resultado_suma)"
      ]
    },
    {
      "cell_type": "code",
      "execution_count": null,
      "id": "1KI9Nx1OnJCl",
      "metadata": {
        "colab": {
          "base_uri": "https://localhost:8080/"
        },
        "id": "1KI9Nx1OnJCl",
        "outputId": "305ca6f8-f433-4d28-e827-d0dca35c4c00"
      },
      "outputs": [
        {
          "name": "stdout",
          "output_type": "stream",
          "text": [
            "Resta: 7\n"
          ]
        }
      ],
      "source": [
        "# Ejemplo de operador aritmético: - Resta\n",
        "a = 10\n",
        "b = 3\n",
        "resultado_resta = a - b\n",
        "print(\"Resta:\", resultado_resta)"
      ]
    },
    {
      "cell_type": "code",
      "execution_count": null,
      "id": "tCwBeA0znKOA",
      "metadata": {
        "colab": {
          "base_uri": "https://localhost:8080/"
        },
        "id": "tCwBeA0znKOA",
        "outputId": "8e7f3033-6402-4174-a498-e145c5b76308"
      },
      "outputs": [
        {
          "name": "stdout",
          "output_type": "stream",
          "text": [
            "Multiplicación: 30\n"
          ]
        }
      ],
      "source": [
        "# Ejemplo de operador aritmético: * Multiplicación\n",
        "a = 10\n",
        "b = 3\n",
        "resultado_multiplicacion = a * b\n",
        "print(\"Multiplicación:\", resultado_multiplicacion)"
      ]
    },
    {
      "cell_type": "code",
      "execution_count": null,
      "id": "BkWCMvXUnMua",
      "metadata": {
        "colab": {
          "base_uri": "https://localhost:8080/"
        },
        "id": "BkWCMvXUnMua",
        "outputId": "cdc575e2-ac97-49fb-8536-76df0ad860cf"
      },
      "outputs": [
        {
          "name": "stdout",
          "output_type": "stream",
          "text": [
            "División: 3.3333333333333335\n"
          ]
        }
      ],
      "source": [
        "# Ejemplo de operador aritmético: / División (flotante)\n",
        "a = 10\n",
        "b = 3\n",
        "resultado_division = a / b\n",
        "print(\"División:\", resultado_division)"
      ]
    },
    {
      "cell_type": "code",
      "execution_count": null,
      "id": "Ltadc4wlnOjT",
      "metadata": {
        "colab": {
          "base_uri": "https://localhost:8080/"
        },
        "id": "Ltadc4wlnOjT",
        "outputId": "938f04ec-4455-4b7c-8778-145100bb2e3d"
      },
      "outputs": [
        {
          "name": "stdout",
          "output_type": "stream",
          "text": [
            "División Entera: 3\n"
          ]
        }
      ],
      "source": [
        "# Ejemplo de operador aritmético: // División Entera\n",
        "a = 10\n",
        "b = 3\n",
        "resultado_division_entera = a // b\n",
        "print(\"División Entera:\", resultado_division_entera)"
      ]
    },
    {
      "cell_type": "code",
      "execution_count": null,
      "id": "ciefZplwnixM",
      "metadata": {
        "colab": {
          "base_uri": "https://localhost:8080/"
        },
        "id": "ciefZplwnixM",
        "outputId": "5288812e-deff-439b-93d0-5c10899b2033"
      },
      "outputs": [
        {
          "name": "stdout",
          "output_type": "stream",
          "text": [
            "Módulo: 1\n"
          ]
        }
      ],
      "source": [
        "# Ejemplo de operador aritmético: % Módulo (Resto)\n",
        "a = 10\n",
        "b = 3\n",
        "resultado_modulo = a % b\n",
        "print(\"Módulo:\", resultado_modulo)"
      ]
    },
    {
      "cell_type": "code",
      "execution_count": null,
      "id": "cNNZ25mInkC0",
      "metadata": {
        "colab": {
          "base_uri": "https://localhost:8080/"
        },
        "id": "cNNZ25mInkC0",
        "outputId": "4e382fee-8849-4ade-d3a6-6dad3bb723d0"
      },
      "outputs": [
        {
          "name": "stdout",
          "output_type": "stream",
          "text": [
            "Potencia: 1000\n"
          ]
        }
      ],
      "source": [
        "# Ejemplo de operador aritmético: ** Potencia\n",
        "a = 10\n",
        "b = 3\n",
        "resultado_potencia = a ** b\n",
        "print(\"Potencia:\", resultado_potencia)"
      ]
    },
    {
      "cell_type": "code",
      "execution_count": null,
      "id": "Hr3TxiCLnlUy",
      "metadata": {
        "colab": {
          "base_uri": "https://localhost:8080/"
        },
        "id": "Hr3TxiCLnlUy",
        "outputId": "fa050961-6abc-4aed-8c56-aae5c336fb0f"
      },
      "outputs": [
        {
          "name": "stdout",
          "output_type": "stream",
          "text": [
            "Resultado sin paréntesis: 14\n",
            "Resultado con paréntesis: 20\n"
          ]
        }
      ],
      "source": [
        "# Ejemplo de operador aritmético: () Agrupación (Paréntesis)\n",
        "# Sin paréntesis (multiplicación primero)\n",
        "resultado_sin_parentesis = 2 + 3 * 4\n",
        "print(\"Resultado sin paréntesis:\", resultado_sin_parentesis)\n",
        "# Con paréntesis (suma primero)\n",
        "resultado_con_parentesis = (2 + 3) * 4\n",
        "print(\"Resultado con paréntesis:\", resultado_con_parentesis)"
      ]
    },
    {
      "cell_type": "code",
      "execution_count": null,
      "id": "HzLwhvRmnma2",
      "metadata": {
        "colab": {
          "base_uri": "https://localhost:8080/"
        },
        "id": "HzLwhvRmnma2",
        "outputId": "c96dee3e-00a7-49d0-d248-c8f8a833edb3"
      },
      "outputs": [
        {
          "name": "stdout",
          "output_type": "stream",
          "text": [
            "Después de x += 5: 25\n"
          ]
        }
      ],
      "source": [
        "# Ejemplo de operador de asignación aumentada: += Suma y asigna\n",
        "x = 20\n",
        "x += 5 # Equivalente a x = x + 5\n",
        "print(\"Después de x += 5:\", x)"
      ]
    },
    {
      "cell_type": "code",
      "execution_count": null,
      "id": "soukfbWLnnam",
      "metadata": {
        "colab": {
          "base_uri": "https://localhost:8080/"
        },
        "id": "soukfbWLnnam",
        "outputId": "69219598-c2d2-4e20-d396-1ed584624a40"
      },
      "outputs": [
        {
          "name": "stdout",
          "output_type": "stream",
          "text": [
            "Después de x -= 3: 17\n"
          ]
        }
      ],
      "source": [
        "# Ejemplo de operador de asignación aumentada: -= Resta y asigna\n",
        "x = 20\n",
        "x -= 3 # Equivalente a x = x - 3\n",
        "print(\"Después de x -= 3:\", x)"
      ]
    },
    {
      "cell_type": "code",
      "execution_count": null,
      "id": "9TnlYnmMnoW1",
      "metadata": {
        "colab": {
          "base_uri": "https://localhost:8080/"
        },
        "id": "9TnlYnmMnoW1",
        "outputId": "2cbfb750-8955-43c1-96b0-c1f2e2012d63"
      },
      "outputs": [
        {
          "name": "stdout",
          "output_type": "stream",
          "text": [
            "Después de x *= 2: 40\n"
          ]
        }
      ],
      "source": [
        "# Ejemplo de operador de asignación aumentada: *= Multiplica y asigna\n",
        "x = 20\n",
        "x *= 2 # Equivalente a x = x * 2\n",
        "print(\"Después de x *= 2:\", x)"
      ]
    },
    {
      "cell_type": "code",
      "execution_count": null,
      "id": "dUpogLKBnpdr",
      "metadata": {
        "colab": {
          "base_uri": "https://localhost:8080/"
        },
        "id": "dUpogLKBnpdr",
        "outputId": "f09461e5-7d87-4555-b8e3-5c9ecf8b8d6f"
      },
      "outputs": [
        {
          "name": "stdout",
          "output_type": "stream",
          "text": [
            "Después de x /= 4: 5.0\n"
          ]
        }
      ],
      "source": [
        "# Ejemplo de operador de asignación aumentada: /= Divide y asigna\n",
        "x = 20\n",
        "x /= 4 # Equivalente a x = x / 4\n",
        "print(\"Después de x /= 4:\", x)"
      ]
    },
    {
      "cell_type": "code",
      "execution_count": null,
      "id": "KXigggPJoNiv",
      "metadata": {
        "colab": {
          "base_uri": "https://localhost:8080/"
        },
        "id": "KXigggPJoNiv",
        "outputId": "72b39f53-71f9-48bd-a1a2-4305e95fa0bf"
      },
      "outputs": [
        {
          "name": "stdout",
          "output_type": "stream",
          "text": [
            "Después de z %= 5 (where z=17): 2\n"
          ]
        }
      ],
      "source": [
        "# Ejemplo de operador de asignación aumentada: %= Módulo y asigna\n",
        "z = 17\n",
        "z %= 5 # Equivalente a z = z % 5\n",
        "print(\"Después de z %= 5 (where z=17):\", z)"
      ]
    },
    {
      "cell_type": "code",
      "execution_count": null,
      "id": "jhhs_xyzoZbj",
      "metadata": {
        "colab": {
          "base_uri": "https://localhost:8080/"
        },
        "id": "jhhs_xyzoZbj",
        "outputId": "2bfa0806-5a6c-4baa-e916-12e08d6f3d31"
      },
      "outputs": [
        {
          "name": "stdout",
          "output_type": "stream",
          "text": [
            "num1 == num2 : False\n",
            "num1 == num3 : True\n"
          ]
        }
      ],
      "source": [
        "# Ejemplo de operador de comparación: == Igual a\n",
        "num1 = 15\n",
        "num2 = 20\n",
        "num3 = 15\n",
        "comparacion_igual1 = (num1 == num2)\n",
        "comparacion_igual2 = (num1 == num3)\n",
        "print(\"num1 == num2 :\", comparacion_igual1)\n",
        "print(\"num1 == num3 :\", comparacion_igual2)"
      ]
    },
    {
      "cell_type": "code",
      "execution_count": null,
      "id": "SfkOasnPobLk",
      "metadata": {
        "colab": {
          "base_uri": "https://localhost:8080/"
        },
        "id": "SfkOasnPobLk",
        "outputId": "a3ee0e2e-4d10-4571-a2e2-d248b8a4ac3e"
      },
      "outputs": [
        {
          "name": "stdout",
          "output_type": "stream",
          "text": [
            "num1 != num2 : True\n",
            "num1 != num3 : False\n"
          ]
        }
      ],
      "source": [
        "# Ejemplo de operador de comparación: != Diferente de\n",
        "num1 = 15\n",
        "num2 = 20\n",
        "num3 = 15\n",
        "comparacion_diferente1 = (num1 != num2)\n",
        "comparacion_diferente2 = (num1 != num3)\n",
        "print(\"num1 != num2 :\", comparacion_diferente1)\n",
        "print(\"num1 != num3 :\", comparacion_diferente2)"
      ]
    },
    {
      "cell_type": "code",
      "execution_count": null,
      "id": "RbG0igaoodGH",
      "metadata": {
        "colab": {
          "base_uri": "https://localhost:8080/"
        },
        "id": "RbG0igaoodGH",
        "outputId": "a8d2fcc6-266e-414a-893d-7184abbe7cc6"
      },
      "outputs": [
        {
          "name": "stdout",
          "output_type": "stream",
          "text": [
            "num1 < num2 : True\n",
            "num2 < num1 : False\n"
          ]
        }
      ],
      "source": [
        "# Ejemplo de operador de comparación: < Menor que\n",
        "num1 = 15\n",
        "num2 = 20\n",
        "comparacion_menor1 = (num1 < num2)\n",
        "comparacion_menor2 = (num2 < num1)\n",
        "print(\"num1 < num2 :\", comparacion_menor1)\n",
        "print(\"num2 < num1 :\", comparacion_menor2)"
      ]
    },
    {
      "cell_type": "code",
      "execution_count": null,
      "id": "qbVfeEJNoeqo",
      "metadata": {
        "colab": {
          "base_uri": "https://localhost:8080/"
        },
        "id": "qbVfeEJNoeqo",
        "outputId": "76f10000-bcf3-4bfb-877d-64a1723e120f"
      },
      "outputs": [
        {
          "name": "stdout",
          "output_type": "stream",
          "text": [
            "num1 > num2 : False\n",
            "num2 > num1 : True\n"
          ]
        }
      ],
      "source": [
        "# Ejemplo de operador de comparación: > Mayor que\n",
        "num1 = 15\n",
        "num2 = 20\n",
        "comparacion_mayor1 = (num1 > num2)\n",
        "comparacion_mayor2 = (num2 > num1)\n",
        "print(\"num1 > num2 :\", comparacion_mayor1)\n",
        "print(\"num2 > num1 :\", comparacion_mayor2)"
      ]
    },
    {
      "cell_type": "code",
      "execution_count": null,
      "id": "naby9KYQogmq",
      "metadata": {
        "colab": {
          "base_uri": "https://localhost:8080/"
        },
        "id": "naby9KYQogmq",
        "outputId": "59b05bad-18e6-4f76-814e-eda7164ad864"
      },
      "outputs": [
        {
          "name": "stdout",
          "output_type": "stream",
          "text": [
            "num1 <= num3 : True\n",
            "num2 <= num1 : False\n"
          ]
        }
      ],
      "source": [
        "# Ejemplo de operador de comparación: <= Menor o igual que\n",
        "num1 = 15\n",
        "num2 = 20\n",
        "num3 = 15\n",
        "comparacion_menor_igual1 = (num1 <= num3)\n",
        "comparacion_menor_igual2 = (num2 <= num1)\n",
        "print(\"num1 <= num3 :\", comparacion_menor_igual1)\n",
        "print(\"num2 <= num1 :\", comparacion_menor_igual2)"
      ]
    },
    {
      "cell_type": "code",
      "execution_count": null,
      "id": "VSBEGcyHohgk",
      "metadata": {
        "colab": {
          "base_uri": "https://localhost:8080/"
        },
        "id": "VSBEGcyHohgk",
        "outputId": "bfe7c16a-d65b-47f1-b1d1-3f757f8c25f6"
      },
      "outputs": [
        {
          "name": "stdout",
          "output_type": "stream",
          "text": [
            "num1 >= num3 : True\n",
            "num2 >= num1 : True\n"
          ]
        }
      ],
      "source": [
        "# Ejemplo de operador de comparación: >= Mayor o igual que\n",
        "num1 = 15\n",
        "num2 = 20\n",
        "num3 = 15\n",
        "comparacion_mayor_igual1 = (num1 >= num3)\n",
        "comparacion_mayor_igual2 = (num2 >= num1)\n",
        "print(\"num1 >= num3 :\", comparacion_mayor_igual1)\n",
        "print(\"num2 >= num1 :\", comparacion_mayor_igual2)"
      ]
    },
    {
      "cell_type": "markdown",
      "id": "a6994692",
      "metadata": {
        "id": "a6994692"
      },
      "source": [
        "\n",
        "---\n",
        "\n",
        "# Cadenas de Texto: El Concepto de Inmutabilidad\n",
        "\n",
        "### Principio Fundamental\n",
        "\n",
        "* Una vez que se crea una **cadena de texto en Python**, su contenido **no se puede modificar**.\n",
        "* Cualquier operación que *parece* cambiar la cadena (por ejemplo, concatenar con `'+'`) en realidad **crea un objeto nuevo en memoria**.\n",
        "\n",
        "\n",
        "### La Ineficiencia de la Concatenación en Bucle (`+=`)\n",
        "\n",
        "Cuando construyes una cadena paso a paso en un bucle, en cada iteración Python realiza:\n",
        "\n",
        "1. **Lee** la cadena antigua y el nuevo trozo.\n",
        "2. **Reserva un nuevo bloque de memoria** más grande.\n",
        "3. **Copia todo el contenido** de la cadena antigua al nuevo bloque.\n",
        "4. **Añade** el nuevo trozo al final.\n",
        "5. **Descarta** la cadena antigua.\n",
        "\n",
        "➡️ Esto hace que la concatenación con `+=` dentro de bucles sea **ineficiente en términos de memoria y rendimiento**.\n",
        "\n",
        "---\n",
        "\n",
        "\n",
        "# Concatenación de Cadenas: Comparación de Métodos\n",
        "\n",
        "### Concatenación con `'+'`\n",
        "\n",
        "* Múltiples pasos.\n",
        "* Reserva memoria en cada paso.\n",
        "* Copia datos repetidamente.\n",
        "* **Lento e ineficiente**.\n",
        "\n",
        "### Usando `'.join()'`\n",
        "\n",
        "* Un solo paso optimizado.\n",
        "* Calcula el tamaño final una sola vez.\n",
        "* Reserva memoria una sola vez.\n",
        "* **Rápido y eficiente**.\n",
        "\n",
        "---\n",
        "\n",
        "\n"
      ]
    },
    {
      "cell_type": "markdown",
      "id": "ddCNwTrj-Rv-",
      "metadata": {
        "id": "ddCNwTrj-Rv-"
      },
      "source": [
        "Utilizando `+=`"
      ]
    },
    {
      "cell_type": "code",
      "execution_count": null,
      "id": "hwi8YHSA-Alv",
      "metadata": {
        "id": "hwi8YHSA-Alv"
      },
      "outputs": [],
      "source": [
        "stocks = \"AAPL\""
      ]
    },
    {
      "cell_type": "code",
      "execution_count": null,
      "id": "ZUC_1aVv-FZa",
      "metadata": {
        "colab": {
          "base_uri": "https://localhost:8080/"
        },
        "id": "ZUC_1aVv-FZa",
        "outputId": "c9983679-1d71-4c4a-be4f-87b1dfac19e3"
      },
      "outputs": [
        {
          "name": "stdout",
          "output_type": "stream",
          "text": [
            "AAPL\n"
          ]
        }
      ],
      "source": [
        "print(stocks)"
      ]
    },
    {
      "cell_type": "code",
      "execution_count": null,
      "id": "7kVW50mLnWnw",
      "metadata": {
        "colab": {
          "base_uri": "https://localhost:8080/",
          "height": 36
        },
        "id": "7kVW50mLnWnw",
        "outputId": "aad9a284-52ce-4ae0-f213-93b6d1aa7a83"
      },
      "outputs": [
        {
          "data": {
            "application/vnd.google.colaboratory.intrinsic+json": {
              "type": "string"
            },
            "text/plain": [
              "'AAPL, TSLA'"
            ]
          },
          "execution_count": 31,
          "metadata": {},
          "output_type": "execute_result"
        }
      ],
      "source": [
        "stocks + \", TSLA\""
      ]
    },
    {
      "cell_type": "code",
      "execution_count": null,
      "id": "Xrx0te-S-B0k",
      "metadata": {
        "id": "Xrx0te-S-B0k"
      },
      "outputs": [],
      "source": [
        "stocks += \", TSLA\""
      ]
    },
    {
      "cell_type": "code",
      "execution_count": null,
      "id": "kXaQFW7x-Hb2",
      "metadata": {
        "colab": {
          "base_uri": "https://localhost:8080/"
        },
        "id": "kXaQFW7x-Hb2",
        "outputId": "98786abb-f4ae-43b0-9a56-d19f75a699be"
      },
      "outputs": [
        {
          "name": "stdout",
          "output_type": "stream",
          "text": [
            "AAPL, TSLA\n"
          ]
        }
      ],
      "source": [
        "print(stocks)"
      ]
    },
    {
      "cell_type": "code",
      "execution_count": null,
      "id": "xY-I3vXG-Kiw",
      "metadata": {
        "id": "xY-I3vXG-Kiw"
      },
      "outputs": [],
      "source": [
        "stocks += \", MSFT\""
      ]
    },
    {
      "cell_type": "code",
      "execution_count": null,
      "id": "TBIvEoWF-MXA",
      "metadata": {
        "colab": {
          "base_uri": "https://localhost:8080/"
        },
        "id": "TBIvEoWF-MXA",
        "outputId": "f270cf28-3d9c-4977-a1be-96df9e6705e9"
      },
      "outputs": [
        {
          "name": "stdout",
          "output_type": "stream",
          "text": [
            "AAPL, TSLA, MSFT\n"
          ]
        }
      ],
      "source": [
        "print(stocks)"
      ]
    },
    {
      "cell_type": "markdown",
      "id": "GbgNjh9c-XMM",
      "metadata": {
        "id": "GbgNjh9c-XMM"
      },
      "source": [
        "Utilizando `.join`"
      ]
    },
    {
      "cell_type": "code",
      "execution_count": null,
      "id": "AnyLZjWd-VIO",
      "metadata": {
        "id": "AnyLZjWd-VIO"
      },
      "outputs": [],
      "source": [
        "stocks = ['AAPL', 'TSLA', 'MSFT']"
      ]
    },
    {
      "cell_type": "code",
      "execution_count": null,
      "id": "0vKg9FB0-K6A",
      "metadata": {
        "colab": {
          "base_uri": "https://localhost:8080/"
        },
        "id": "0vKg9FB0-K6A",
        "outputId": "6780b404-b44e-4320-8e74-cc2139a28b9b"
      },
      "outputs": [
        {
          "name": "stdout",
          "output_type": "stream",
          "text": [
            "['AAPL', 'TSLA', 'MSFT']\n"
          ]
        }
      ],
      "source": [
        "print(stocks)"
      ]
    },
    {
      "cell_type": "code",
      "execution_count": null,
      "id": "F_UrvPSH-c0J",
      "metadata": {
        "colab": {
          "base_uri": "https://localhost:8080/",
          "height": 36
        },
        "id": "F_UrvPSH-c0J",
        "outputId": "b8c736a1-a1eb-4094-d8bf-5cfd3b1a5c83"
      },
      "outputs": [
        {
          "data": {
            "application/vnd.google.colaboratory.intrinsic+json": {
              "type": "string"
            },
            "text/plain": [
              "'AAPL, TSLA, MSFT'"
            ]
          },
          "execution_count": 38,
          "metadata": {},
          "output_type": "execute_result"
        }
      ],
      "source": [
        "\", \".join(stocks)"
      ]
    },
    {
      "cell_type": "markdown",
      "id": "393bb8a7",
      "metadata": {},
      "source": [
        "\n",
        "---\n",
        "\n",
        "# La evolución del formateo de cadenas\n",
        "\n",
        "### `%` (estilo *printf*, histórico)\n",
        "\n",
        "* Conciso para casos simples:\n",
        "\n",
        "  ```python\n",
        "  \"%s: %.2f\" % (nombre, x)\n",
        "  ```\n",
        "* Menos flexible, más propenso a errores con *tuplas* o *dicts*.\n",
        "* No está obsoleto, todavía habitual en **logging**.\n",
        "\n",
        "---\n",
        "\n",
        "### `.format()`\n",
        "\n",
        "* Más flexible: admite nombres y reordenamiento.\n",
        "* Usa el mini-lenguaje de formato:\n",
        "\n",
        "  ```python\n",
        "  \"x: {:.2f}\".format(x)\n",
        "  ```\n",
        "* Inconveniente: **más largo de escribir**.\n",
        "\n",
        "---\n",
        "\n",
        "### `f\"...\"` (f-strings)\n",
        "\n",
        "* Más legibles, concisas y rápidas.\n",
        "* Permiten expresiones y especificadores:\n",
        "\n",
        "  ```python\n",
        "  f\"{x:.2f}\"\n",
        "  ```\n",
        "\n",
        "---\n",
        "\n"
      ]
    },
    {
      "cell_type": "markdown",
      "id": "jS4wNq29J_yW",
      "metadata": {
        "id": "jS4wNq29J_yW"
      },
      "source": [
        "Ejemplos utilizando `%`"
      ]
    },
    {
      "cell_type": "markdown",
      "id": "qDMJZjBkMAlj",
      "metadata": {
        "id": "qDMJZjBkMAlj"
      },
      "source": [
        "*   %s → inserta una cadena de texto (el ticker).\n",
        "*   %d → inserta un entero (la cantidad).\n",
        "*   %.2f → inserta un float con 2 decimales (el precio)."
      ]
    },
    {
      "cell_type": "code",
      "execution_count": null,
      "id": "rqorEK9GJ3q8",
      "metadata": {
        "id": "rqorEK9GJ3q8"
      },
      "outputs": [],
      "source": [
        "ticker = \"AAPL\"\n",
        "cantidad = 100\n",
        "precio = 200.46\n",
        "rent = 0.0345\n",
        "volumen = 10000"
      ]
    },
    {
      "cell_type": "code",
      "execution_count": null,
      "id": "Zm1jgzxhMozd",
      "metadata": {
        "colab": {
          "base_uri": "https://localhost:8080/"
        },
        "id": "Zm1jgzxhMozd",
        "outputId": "05009cf1-1bee-4c1c-ee83-fe41b40ea60b"
      },
      "outputs": [
        {
          "name": "stdout",
          "output_type": "stream",
          "text": [
            "Orden: AAPL x 100 a 200.46 USD\n"
          ]
        }
      ],
      "source": [
        "print(\"Orden: %s x %d a %.2f USD\" % (ticker, cantidad, precio))"
      ]
    },
    {
      "cell_type": "code",
      "execution_count": null,
      "id": "lENpghVwMrSB",
      "metadata": {
        "colab": {
          "base_uri": "https://localhost:8080/"
        },
        "id": "lENpghVwMrSB",
        "outputId": "2cc15560-615b-4cf3-f042-3d4be3b27951"
      },
      "outputs": [
        {
          "name": "stdout",
          "output_type": "stream",
          "text": [
            "Rentabilidad: 3.45% | Volumen: 10000\n"
          ]
        }
      ],
      "source": [
        "print(\"Rentabilidad: %.2f%% | Volumen: %d\" % (rent*100, volumen))"
      ]
    },
    {
      "cell_type": "markdown",
      "id": "gVXjJxjL5quj",
      "metadata": {
        "id": "gVXjJxjL5quj"
      },
      "source": [
        "`%%`: El doble porcentaje se usa para imprimir un símbolo de porcentaje literal. Si pusieras solo `%` Python lo interpretaría como el inicio de un específicador de formato."
      ]
    },
    {
      "cell_type": "markdown",
      "id": "lzzogEKPMJJ9",
      "metadata": {
        "id": "lzzogEKPMJJ9"
      },
      "source": [
        "Ejemplos utilizando `.format`"
      ]
    },
    {
      "cell_type": "code",
      "execution_count": null,
      "id": "wkPSQTsnKFVR",
      "metadata": {
        "colab": {
          "base_uri": "https://localhost:8080/"
        },
        "id": "wkPSQTsnKFVR",
        "outputId": "d371e838-2b9b-4868-e814-2eb0fe3b6827"
      },
      "outputs": [
        {
          "name": "stdout",
          "output_type": "stream",
          "text": [
            "Orden: AAPL x 100 a 200.46 USD\n"
          ]
        }
      ],
      "source": [
        "print(\"Orden: {} x {} a {:.2f} USD\".format(ticker, cantidad, precio))"
      ]
    },
    {
      "cell_type": "code",
      "execution_count": null,
      "id": "EwmDRSH4NCRe",
      "metadata": {
        "colab": {
          "base_uri": "https://localhost:8080/"
        },
        "id": "EwmDRSH4NCRe",
        "outputId": "8d32a31b-c6b2-4024-b075-3371c6cfb479"
      },
      "outputs": [
        {
          "name": "stdout",
          "output_type": "stream",
          "text": [
            "Rentabilidad: 3.45% | Volumen: 10000\n"
          ]
        }
      ],
      "source": [
        "print(\"Rentabilidad: {:.2%} | Volumen: {}\".format(rent, volumen))"
      ]
    },
    {
      "cell_type": "markdown",
      "id": "9mmaVOSUNFZg",
      "metadata": {
        "id": "9mmaVOSUNFZg"
      },
      "source": [
        "Ejemplos utilizando `f-strings`"
      ]
    },
    {
      "cell_type": "code",
      "execution_count": null,
      "id": "i7pDzcxvNIfD",
      "metadata": {
        "colab": {
          "base_uri": "https://localhost:8080/"
        },
        "id": "i7pDzcxvNIfD",
        "outputId": "6892a8b0-410c-4b4b-e423-74684fb49381"
      },
      "outputs": [
        {
          "name": "stdout",
          "output_type": "stream",
          "text": [
            "Orden: AAPL x 100 a 200.46 USD\n"
          ]
        }
      ],
      "source": [
        "print(f\"Orden: {ticker} x {cantidad} a {precio:.2f} USD\")"
      ]
    },
    {
      "cell_type": "code",
      "execution_count": null,
      "id": "GBfftAtiNLIJ",
      "metadata": {
        "colab": {
          "base_uri": "https://localhost:8080/"
        },
        "id": "GBfftAtiNLIJ",
        "outputId": "8b104096-b058-4388-ee53-bccbf436db42"
      },
      "outputs": [
        {
          "name": "stdout",
          "output_type": "stream",
          "text": [
            "Rentabilidad: 3.45% | Volumen: 10000\n"
          ]
        }
      ],
      "source": [
        "print(f\"Rentabilidad: {rent:.2%} | Volumen: {volumen}\")"
      ]
    },
    {
      "cell_type": "markdown",
      "id": "f64e40fd",
      "metadata": {},
      "source": [
        "\n",
        "---\n",
        "\n",
        "# Formateo de Cadenas y Caracteres Especiales\n",
        "\n",
        "## Caracteres de Escape vs. Raw Strings\n",
        "\n",
        "### **Escape (`\\`)**\n",
        "\n",
        "* La barra invertida `\\` tiene un significado especial para representar caracteres:\n",
        "\n",
        "  * `\\n` → salto de línea\n",
        "  * `\\t` → tabulación\n",
        "* Para escribir la barra invertida en sí, se usa `\\\\`.\n",
        "\n",
        "---\n",
        "\n",
        "### **Raw Strings (`r\"...\"`)**\n",
        "\n",
        "* El prefijo `r` **desactiva el significado especial** de la barra `\\`.\n",
        "* Es **esencial** cuando trabajamos con:\n",
        "\n",
        "  * **Rutas de archivos en Windows** →\n",
        "\n",
        "    ```python\n",
        "    r\"C:\\nuevo\\datos.csv\"\n",
        "    ```\n",
        "  * **Expresiones regulares**\n",
        "\n",
        "---\n"
      ]
    },
    {
      "cell_type": "markdown",
      "id": "fJS4XzeWOUCW",
      "metadata": {
        "id": "fJS4XzeWOUCW"
      },
      "source": [
        "Ejemplos utilizando Caracteres de Escape (`\\`)"
      ]
    },
    {
      "cell_type": "code",
      "execution_count": null,
      "id": "_-XEHNbXOQ5B",
      "metadata": {
        "colab": {
          "base_uri": "https://localhost:8080/"
        },
        "id": "_-XEHNbXOQ5B",
        "outputId": "52e9c266-f3fc-497c-852a-3f9c2b6032c5"
      },
      "outputs": [
        {
          "name": "stdout",
          "output_type": "stream",
          "text": [
            "Línea 1\n",
            "Línea 2\n"
          ]
        }
      ],
      "source": [
        "print(\"Línea 1\\nLínea 2\")     # \\n = salto de línea"
      ]
    },
    {
      "cell_type": "code",
      "execution_count": null,
      "id": "47AtoyM260tP",
      "metadata": {
        "colab": {
          "base_uri": "https://localhost:8080/"
        },
        "id": "47AtoyM260tP",
        "outputId": "5c928a14-9179-4ccd-f5c8-89ac403ad9cf"
      },
      "outputs": [
        {
          "name": "stdout",
          "output_type": "stream",
          "text": [
            "C:\\nuevo\\datos.csv\n"
          ]
        }
      ],
      "source": [
        "print(\"C:\\\\nuevo\\\\datos.csv\") # \\\\ para imprimir una barra"
      ]
    },
    {
      "cell_type": "markdown",
      "id": "81MFezLmOt5A",
      "metadata": {
        "id": "81MFezLmOt5A"
      },
      "source": [
        "Ejemplos utilizando Raw Strings (`r`)"
      ]
    },
    {
      "cell_type": "code",
      "execution_count": null,
      "id": "or5oEJQ5OesR",
      "metadata": {
        "colab": {
          "base_uri": "https://localhost:8080/"
        },
        "id": "or5oEJQ5OesR",
        "outputId": "db15aa28-e35f-48bb-d157-f9dbfb4ccc75"
      },
      "outputs": [
        {
          "name": "stdout",
          "output_type": "stream",
          "text": [
            "C:\\\\nuevo\\\\datos.csv\n"
          ]
        }
      ],
      "source": [
        "print(r\"C:\\\\nuevo\\\\datos.csv\")"
      ]
    },
    {
      "cell_type": "markdown",
      "id": "thvs335Ooor-",
      "metadata": {
        "id": "thvs335Ooor-"
      },
      "source": [
        "*   **Cadenas de Texto (`str`)**:"
      ]
    },
    {
      "cell_type": "markdown",
      "id": "rOnHgjWsoprc",
      "metadata": {
        "id": "rOnHgjWsoprc"
      },
      "source": [
        "| Signo/Función    | Función (Descripción)                                       |\n",
        "| :--------------- | :---------------------------------------------------------- |\n",
        "| `+`              | Concatenación (unir cadenas)                                |\n",
        "| `*`              | Repetición (repetir una cadena N veces)                     |\n",
        "| `[]`             | Indexación (acceder a un carácter por su posición)          |\n",
        "| `[:]`            | Slicing (extraer una subcadena)                             |\n",
        "| `len()`          | Longitud (obtener el número de caracteres)                  |\n",
        "| `in`             | Pertenencia (verificar si una subcadena existe)             |\n",
        "| `not in`         | No pertenencia (verificar si una subcadena no existe)       |\n",
        "| `str.lower()`    | Convertir a minúsculas                                      |\n",
        "| `str.upper()`    | Convertir a mayúsculas                                      |\n",
        "| `str.capitalize()` | Convertir la primera letra a mayúscula, el resto a minúscula |\n",
        "| `str.title()`    | Convertir la primera letra de cada palabra a mayúscula       |\n",
        "| `str.find()`     | Encontrar la primera ocurrencia de una subcadena            |\n",
        "| `str.count()`    | Contar cuántas veces aparece una subcadena                  |\n",
        "| `str.replace()`  | Reemplazar subcadenas por otras                             |\n",
        "| `str.split()`    | Dividir la cadena en una lista (por un separador)           |\n",
        "| `str.join()`     | Unir elementos de una secuencia en una cadena (con separador) |\n",
        "| `str.strip()`    | Quitar espacios (u otros caracteres) del inicio/final       |\n",
        "| `str.startswith()` | Verificar si la cadena empieza con una subcadena            |\n",
        "| `str.endswith()` | Verificar si la cadena termina con una subcadena            |\n",
        "| `str.isdigit()`  | Verificar si la cadena contiene solo dígitos                |\n",
        "| `str.isalpha()`  | Verificar si la cadena contiene solo letras                 |\n",
        "| `str.isalnum()`  | Verificar si la cadena contiene solo letras y números       |\n",
        "| `str.isspace()`  | Verificar si la cadena contiene solo espacios en blanco     |\n",
        "| `str.istitle()`  | Verificar si la cadena está en formato de título            |\n",
        "| `str.isupper()`  | Verificar si la cadena está en mayúsculas                   |\n",
        "| `str.islower()`  | Verificar si la cadena está en minúsculas                   |"
      ]
    },
    {
      "cell_type": "code",
      "execution_count": null,
      "id": "7fLVJaYcouWr",
      "metadata": {
        "colab": {
          "base_uri": "https://localhost:8080/"
        },
        "id": "7fLVJaYcouWr",
        "outputId": "6865f423-235f-4558-cff1-97675fda241a"
      },
      "outputs": [
        {
          "name": "stdout",
          "output_type": "stream",
          "text": [
            "Concatenación: Hola Mundo\n"
          ]
        }
      ],
      "source": [
        "# Ejemplo de operador: + Concatenación\n",
        "cadena1 = \"Hola\"\n",
        "cadena2 = \"Mundo\"\n",
        "resultado_concatenacion = cadena1 + \" \" + cadena2\n",
        "print(\"Concatenación:\", resultado_concatenacion)"
      ]
    },
    {
      "cell_type": "code",
      "execution_count": null,
      "id": "VsaKEcY2oyQE",
      "metadata": {
        "colab": {
          "base_uri": "https://localhost:8080/"
        },
        "id": "VsaKEcY2oyQE",
        "outputId": "c9b0648c-d156-4341-a7a7-a8a7a35b9b54"
      },
      "outputs": [
        {
          "name": "stdout",
          "output_type": "stream",
          "text": [
            "Repetición: PyPyPy\n"
          ]
        }
      ],
      "source": [
        "# Ejemplo de operador: * Repetición\n",
        "cadena = \"Py\"\n",
        "repeticion = cadena * 3\n",
        "print(\"Repetición:\", repeticion)"
      ]
    },
    {
      "cell_type": "code",
      "execution_count": null,
      "id": "VPS5Zwvgo1Oy",
      "metadata": {
        "colab": {
          "base_uri": "https://localhost:8080/"
        },
        "id": "VPS5Zwvgo1Oy",
        "outputId": "d26b977f-135c-4057-b9d5-42a8f0e51969"
      },
      "outputs": [
        {
          "name": "stdout",
          "output_type": "stream",
          "text": [
            "Primer carácter: A\n",
            "Último carácter: t\n"
          ]
        }
      ],
      "source": [
        "# Ejemplo de operador: [] Indexación\n",
        "nombre_empresa = \"Alphabet\"\n",
        "primer_caracter = nombre_empresa[0]\n",
        "ultimo_caracter = nombre_empresa[-1] # Indexación negativa\n",
        "print(\"Primer carácter:\", primer_caracter)\n",
        "print(\"Último carácter:\", ultimo_caracter)"
      ]
    },
    {
      "cell_type": "code",
      "execution_count": null,
      "id": "mUG_fUkKo2-m",
      "metadata": {
        "colab": {
          "base_uri": "https://localhost:8080/"
        },
        "id": "mUG_fUkKo2-m",
        "outputId": "b7605a23-de8f-4245-c264-bfa2a2524093"
      },
      "outputs": [
        {
          "name": "stdout",
          "output_type": "stream",
          "text": [
            "Subcadena [1:4]: OOG\n",
            "Principio [:2]: GO\n",
            "Final [3:]: GL\n",
            "Copia completa [:]: GOOGL\n"
          ]
        }
      ],
      "source": [
        "# Ejemplo de operador: [:] Slicing\n",
        "ticker = \"GOOGL\"\n",
        "subcadena = ticker[1:4] # Desde índice 1 (incluido) hasta 4 (excluido)\n",
        "principio = ticker[:2] # Desde el inicio hasta índice 2 (excluido)\n",
        "final = ticker[3:] # Desde índice 3 (incluido) hasta el final\n",
        "copia_completa = ticker[:] # Copia completa de la cadena\n",
        "print(\"Subcadena [1:4]:\", subcadena)\n",
        "print(\"Principio [:2]:\", principio)\n",
        "print(\"Final [3:]:\", final)\n",
        "print(\"Copia completa [:]:\", copia_completa)"
      ]
    },
    {
      "cell_type": "code",
      "execution_count": null,
      "id": "jtFgNg78o5CV",
      "metadata": {
        "colab": {
          "base_uri": "https://localhost:8080/"
        },
        "id": "jtFgNg78o5CV",
        "outputId": "c81e5875-3c56-463f-e4cf-91b85a91a0cc"
      },
      "outputs": [
        {
          "name": "stdout",
          "output_type": "stream",
          "text": [
            "Longitud de la cadena: 15\n"
          ]
        }
      ],
      "source": [
        "# Ejemplo de función integrada: len() Longitud\n",
        "mensaje = \"Mercado Abierto\"\n",
        "longitud_cadena = len(mensaje)\n",
        "print(\"Longitud de la cadena:\", longitud_cadena)"
      ]
    },
    {
      "cell_type": "code",
      "execution_count": null,
      "id": "h-veK8mNo56h",
      "metadata": {
        "colab": {
          "base_uri": "https://localhost:8080/"
        },
        "id": "h-veK8mNo56h",
        "outputId": "871f41d5-5d6a-42c3-d8e3-61ade701ef2e"
      },
      "outputs": [
        {
          "name": "stdout",
          "output_type": "stream",
          "text": [
            "¿'Financiero' en el texto?: True\n",
            "¿'Bursátil' en el texto?: False\n"
          ]
        }
      ],
      "source": [
        "# Ejemplo de operador: in Pertenencia\n",
        "texto = \"Análisis Financiero\"\n",
        "subcadena_existente = \"Financiero\"\n",
        "subcadena_inexistente = \"Bursátil\"\n",
        "pertenencia_existente = subcadena_existente in texto\n",
        "pertenencia_inexistente = subcadena_inexistente in texto\n",
        "print(\"¿'Financiero' en el texto?:\", pertenencia_existente)\n",
        "print(\"¿'Bursátil' en el texto?:\", pertenencia_inexistente)"
      ]
    },
    {
      "cell_type": "code",
      "execution_count": null,
      "id": "9d4WjhQTo64i",
      "metadata": {
        "colab": {
          "base_uri": "https://localhost:8080/"
        },
        "id": "9d4WjhQTo64i",
        "outputId": "ccdeeb7a-077d-4862-f93e-3c2e9f4034d9"
      },
      "outputs": [
        {
          "name": "stdout",
          "output_type": "stream",
          "text": [
            "¿'Financiero' not in el texto?: False\n",
            "¿'Bursátil' not in el texto?: True\n"
          ]
        }
      ],
      "source": [
        "# Ejemplo de operador: not in No pertenencia\n",
        "texto = \"Análisis Financiero\"\n",
        "subcadena_existente = \"Financiero\"\n",
        "subcadena_inexistente = \"Bursátil\"\n",
        "no_pertenencia_existente = subcadena_existente not in texto\n",
        "no_pertenencia_inexistente = subcadena_inexistente not in texto\n",
        "print(\"¿'Financiero' not in el texto?:\", no_pertenencia_existente)\n",
        "print(\"¿'Bursátil' not in el texto?:\", no_pertenencia_inexistente)"
      ]
    },
    {
      "cell_type": "code",
      "execution_count": null,
      "id": "FjOtCM3ko8C3",
      "metadata": {
        "colab": {
          "base_uri": "https://localhost:8080/"
        },
        "id": "FjOtCM3ko8C3",
        "outputId": "f8e1eb8b-dd7f-4fca-a84b-4e9718c0e3ae"
      },
      "outputs": [
        {
          "name": "stdout",
          "output_type": "stream",
          "text": [
            "En minúsculas: titulos bursatiles\n"
          ]
        }
      ],
      "source": [
        "# Ejemplo de método de string: str.lower()\n",
        "cadena_mayus = \"TITULOS BURSATILES\"\n",
        "cadena_minusculas = cadena_mayus.lower()\n",
        "print(\"En minúsculas:\", cadena_minusculas)"
      ]
    },
    {
      "cell_type": "code",
      "execution_count": null,
      "id": "EUC19VWgo8_9",
      "metadata": {
        "colab": {
          "base_uri": "https://localhost:8080/"
        },
        "id": "EUC19VWgo8_9",
        "outputId": "86ba5895-9c14-48bb-bbc6-48ae42cb6b7e"
      },
      "outputs": [
        {
          "name": "stdout",
          "output_type": "stream",
          "text": [
            "En mayúsculas: REPORTE TRIMESTRAL\n"
          ]
        }
      ],
      "source": [
        "# Ejemplo de método de string: str.upper()\n",
        "cadena_minus = \"reporte trimestral\"\n",
        "cadena_mayusculas = cadena_minus.upper()\n",
        "print(\"En mayúsculas:\", cadena_mayusculas)"
      ]
    },
    {
      "cell_type": "code",
      "execution_count": null,
      "id": "Pygqy5dio90D",
      "metadata": {
        "colab": {
          "base_uri": "https://localhost:8080/"
        },
        "id": "Pygqy5dio90D",
        "outputId": "a3ae7ae6-2927-4faf-80b3-a698141f9fb6"
      },
      "outputs": [
        {
          "name": "stdout",
          "output_type": "stream",
          "text": [
            "Capitalizada: Riesgo operativo\n"
          ]
        }
      ],
      "source": [
        "# Ejemplo de método de string: str.capitalize()\n",
        "cadena = \"riesgo operativo\"\n",
        "cadena_capitalizada = cadena.capitalize()\n",
        "print(\"Capitalizada:\", cadena_capitalizada)"
      ]
    },
    {
      "cell_type": "code",
      "execution_count": null,
      "id": "3Rc4u6ESo-w7",
      "metadata": {
        "colab": {
          "base_uri": "https://localhost:8080/"
        },
        "id": "3Rc4u6ESo-w7",
        "outputId": "023b1f7e-e5b2-43dc-fcf1-f1c331ade757"
      },
      "outputs": [
        {
          "name": "stdout",
          "output_type": "stream",
          "text": [
            "Formato título: Mercado De Capitales\n"
          ]
        }
      ],
      "source": [
        "# Ejemplo de método de string: str.title()\n",
        "cadena = \"mercado de capitales\"\n",
        "cadena_titulo = cadena.title()\n",
        "print(\"Formato título:\", cadena_titulo)"
      ]
    },
    {
      "cell_type": "code",
      "execution_count": null,
      "id": "APBSRpj6pBQi",
      "metadata": {
        "colab": {
          "base_uri": "https://localhost:8080/"
        },
        "id": "APBSRpj6pBQi",
        "outputId": "6b6512c9-be84-4e8f-86d7-d1b8c21d8daa"
      },
      "outputs": [
        {
          "name": "stdout",
          "output_type": "stream",
          "text": [
            "Posición de la primera 'bolsa': 3\n",
            "Posición de 'mercado': -1\n"
          ]
        }
      ],
      "source": [
        "# Ejemplo de método de string: str.find()\n",
        "frase = \"La bolsa sube, la bolsa baja.\"\n",
        "posicion_primera_bolsa = frase.find(\"bolsa\")\n",
        "posicion_otra_palabra = frase.find(\"mercado\") # Si no encuentra, devuelve -1\n",
        "print(\"Posición de la primera 'bolsa':\", posicion_primera_bolsa)\n",
        "print(\"Posición de 'mercado':\", posicion_otra_palabra)"
      ]
    },
    {
      "cell_type": "code",
      "execution_count": null,
      "id": "SFA8OdCUpCEm",
      "metadata": {
        "colab": {
          "base_uri": "https://localhost:8080/"
        },
        "id": "SFA8OdCUpCEm",
        "outputId": "c2e382b2-20c8-4994-aeff-1b20035efc87"
      },
      "outputs": [
        {
          "name": "stdout",
          "output_type": "stream",
          "text": [
            "Conteo de 'apple': 3\n"
          ]
        }
      ],
      "source": [
        "# Ejemplo de método de string: str.count()\n",
        "frase = \"apple, google, apple, microsoft, apple\"\n",
        "conteo_apple = frase.count(\"apple\")\n",
        "print(\"Conteo de 'apple':\", conteo_apple)"
      ]
    },
    {
      "cell_type": "code",
      "execution_count": null,
      "id": "cuOgTLsbpEWr",
      "metadata": {
        "colab": {
          "base_uri": "https://localhost:8080/"
        },
        "id": "cuOgTLsbpEWr",
        "outputId": "63d3b63e-dbfc-40f7-e070-e22a18815864"
      },
      "outputs": [
        {
          "name": "stdout",
          "output_type": "stream",
          "text": [
            "Texto original: El precio es de 100. El precio subirá.\n",
            "Texto reemplazado: El valor es de 100. El valor subirá.\n",
            "Texto reemplazado (solo 1): El valor es de 100. El precio subirá.\n"
          ]
        }
      ],
      "source": [
        "# Ejemplo de método de string: str.replace()\n",
        "texto_original = \"El precio es de 100. El precio subirá.\"\n",
        "texto_reemplazado = texto_original.replace(\"precio\", \"valor\")\n",
        "texto_reemplazado_limitado = texto_original.replace(\"precio\", \"valor\", 1) # Reemplaza solo la primera ocurrencia\n",
        "print(\"Texto original:\", texto_original)\n",
        "print(\"Texto reemplazado:\", texto_reemplazado)\n",
        "print(\"Texto reemplazado (solo 1):\", texto_reemplazado_limitado)"
      ]
    },
    {
      "cell_type": "code",
      "execution_count": null,
      "id": "8DBz3IlcpHMF",
      "metadata": {
        "colab": {
          "base_uri": "https://localhost:8080/"
        },
        "id": "8DBz3IlcpHMF",
        "outputId": "f159ca08-c6e8-4b3c-be38-3bb5ece3e01d"
      },
      "outputs": [
        {
          "name": "stdout",
          "output_type": "stream",
          "text": [
            "Lista de datos: ['AAPL', '190.50', '100', 'BUY']\n",
            "Lista de palabras: ['Este', 'es', 'un', 'reporte.']\n"
          ]
        }
      ],
      "source": [
        "# Ejemplo de método de string: str.split()\n",
        "csv_linea = \"AAPL,190.50,100,BUY\"\n",
        "datos_lista = csv_linea.split(\",\")\n",
        "print(\"Lista de datos:\", datos_lista)\n",
        "\n",
        "frase = \"Este es un reporte.\"\n",
        "palabras = frase.split() # Divide por espacios por defecto\n",
        "print(\"Lista de palabras:\", palabras)"
      ]
    },
    {
      "cell_type": "code",
      "execution_count": null,
      "id": "qw_-tn9xpJGA",
      "metadata": {
        "colab": {
          "base_uri": "https://localhost:8080/"
        },
        "id": "qw_-tn9xpJGA",
        "outputId": "0f006b5e-aa13-4034-80f8-d1cd4d0f7ed4"
      },
      "outputs": [
        {
          "name": "stdout",
          "output_type": "stream",
          "text": [
            "Cadena con espacios:    informe_financiero.txt   \n",
            "Cadena sin espacios: informe_financiero.txt\n"
          ]
        }
      ],
      "source": [
        "# Ejemplo de método de string: str.strip()\n",
        "cadena_con_espacios = \"   informe_financiero.txt   \"\n",
        "cadena_sin_espacios = cadena_con_espacios.strip()\n",
        "print(\"Cadena con espacios:\", cadena_con_espacios)\n",
        "print(\"Cadena sin espacios:\", cadena_sin_espacios)"
      ]
    },
    {
      "cell_type": "code",
      "execution_count": null,
      "id": "arqGwy3ppKPK",
      "metadata": {
        "colab": {
          "base_uri": "https://localhost:8080/"
        },
        "id": "arqGwy3ppKPK",
        "outputId": "8a6f9c3b-e8de-4af3-c981-af95456846f3"
      },
      "outputs": [
        {
          "name": "stdout",
          "output_type": "stream",
          "text": [
            "¿Empieza con 'reporte'?: True\n",
            "¿Empieza con 'final'?: False\n"
          ]
        }
      ],
      "source": [
        "# Ejemplo de método de string: str.startswith()\n",
        "nombre_archivo = \"reporte_final_2025.pdf\"\n",
        "empieza_con_reporte = nombre_archivo.startswith(\"reporte\")\n",
        "empieza_con_final = nombre_archivo.startswith(\"final\")\n",
        "print(\"¿Empieza con 'reporte'?:\", empieza_con_reporte)\n",
        "print(\"¿Empieza con 'final'?:\", empieza_con_final)"
      ]
    },
    {
      "cell_type": "code",
      "execution_count": null,
      "id": "nqZVX0QlpLN_",
      "metadata": {
        "colab": {
          "base_uri": "https://localhost:8080/"
        },
        "id": "nqZVX0QlpLN_",
        "outputId": "f81f83b4-2d66-4dc6-cd33-7e4fde45b1c1"
      },
      "outputs": [
        {
          "name": "stdout",
          "output_type": "stream",
          "text": [
            "¿Termina con '.pdf'?: True\n",
            "¿Termina con '.txt'?: False\n"
          ]
        }
      ],
      "source": [
        "# Ejemplo de método de string: str.endswith()\n",
        "nombre_archivo = \"reporte_final_2025.pdf\"\n",
        "termina_con_pdf = nombre_archivo.endswith(\".pdf\")\n",
        "termina_con_txt = nombre_archivo.endswith(\".txt\")\n",
        "print(\"¿Termina con '.pdf'?:\", termina_con_pdf)\n",
        "print(\"¿Termina con '.txt'?:\", termina_con_txt)"
      ]
    },
    {
      "cell_type": "code",
      "execution_count": null,
      "id": "jtZZVINDume6",
      "metadata": {
        "colab": {
          "base_uri": "https://localhost:8080/"
        },
        "id": "jtZZVINDume6",
        "outputId": "1be37264-0abc-4530-b8e9-393ea11dd340"
      },
      "outputs": [
        {
          "name": "stdout",
          "output_type": "stream",
          "text": [
            "¿'150' contiene solo dígitos?       : True\n",
            "¿'abc123' contiene solo dígitos?    : False\n",
            "¿'Ⅻ' (romano) contiene solo dígitos?: False\n",
            "¿'' (vacío) contiene solo dígitos?  : False\n"
          ]
        }
      ],
      "source": [
        "# Ejemplo de uso del método str.isdigit()\n",
        "\n",
        "precio_str = \"150\"      # Solo contiene caracteres numéricos (0-9)\n",
        "codigo_str = \"abc123\"   # Mezcla letras y números\n",
        "romanos_str = \"Ⅻ\"       # Dígito romano Unicode (12)\n",
        "vacio_str = \"\"          # Cadena vacía\n",
        "\n",
        "# ────────────────────────────────────────────────────────────────\n",
        "# str.isdigit()\n",
        "# ----------------------------------------------------------------\n",
        "# • Devuelve True si *todos* los caracteres de la cadena son\n",
        "#   “dígitos” según la definición Unicode. Eso incluye:\n",
        "#     - Los dígitos ASCII '0'-'9'.\n",
        "#     - Otros dígitos numéricos de idiomas y sistemas de\n",
        "#       numeración no latinos (e.g. '٠' árabe, '४' devanagari,\n",
        "#       'Ⅻ' romano).\n",
        "# • Devuelve False si la cadena contiene al menos un carácter que\n",
        "#   no sea dígito, o si la cadena está vacía.\n",
        "# • No ignora espacios, signos, puntos decimales ni saltos de\n",
        "#   línea: deben ser solo dígitos.\n",
        "# ────────────────────────────────────────────────────────────────\n",
        "\n",
        "solo_digitos = precio_str.isdigit()     # True  ➜ \"150\" son todos dígitos\n",
        "mezclado = codigo_str.isdigit()         # False ➜ contiene letras\n",
        "romanos = romanos_str.isdigit()         # True  ➜ dígitos romanos son válidos\n",
        "vacio = vacio_str.isdigit()             # False ➜ cadena vacía\n",
        "\n",
        "print(\"¿'150' contiene solo dígitos?       :\", solo_digitos)\n",
        "print(\"¿'abc123' contiene solo dígitos?    :\", mezclado)\n",
        "print(\"¿'Ⅻ' (romano) contiene solo dígitos?:\", romanos)\n",
        "print(\"¿'' (vacío) contiene solo dígitos?  :\", vacio)"
      ]
    },
    {
      "cell_type": "code",
      "execution_count": null,
      "id": "kYzfYaiapO1c",
      "metadata": {
        "colab": {
          "base_uri": "https://localhost:8080/"
        },
        "id": "kYzfYaiapO1c",
        "outputId": "20e0e672-2947-4c35-994f-d1de5fcd2364"
      },
      "outputs": [
        {
          "name": "stdout",
          "output_type": "stream",
          "text": [
            "¿'Python' son solo letras?        : True\n",
            "¿'Python3' son solo letras?       : False\n",
            "¿'canción' (con acento) solo letras?: True\n",
            "¿'忍者' solo letras?               : True\n",
            "¿'hola mundo' solo letras?        : False\n",
            "¿'' (vacío) solo letras?          : False\n"
          ]
        }
      ],
      "source": [
        "# ───────────────────────────────────────────────────────\n",
        "# Ejemplo práctico del método str.isalpha()\n",
        "# ------------------------------------------------------\n",
        "# • Devuelve True si *todos* los caracteres de la cadena\n",
        "#   son “letras” según la definición Unicode.\n",
        "# • Devuelve False si hay al menos un carácter que no sea\n",
        "#   una letra (números, espacios, signos, emojis, etc.),\n",
        "#   o si la cadena está vacía.\n",
        "# ───────────────────────────────────────────────────────\n",
        "\n",
        "solo_letras_str   = \"Python\"     # Solo letras ASCII\n",
        "mezclado_letras   = \"Python3\"    # Letras + número\n",
        "acentos_str       = \"canción\"    # Incluye 'ó' (Unicode)\n",
        "japones_str    = \"忍者\"        # Letras de otro alfabeto (kanji japonés)\n",
        "espacio_str       = \"hola mundo\" # Contiene un espacio\n",
        "vacio_str         = \"\"           # Cadena vacía\n",
        "\n",
        "# Evaluamos cada caso\n",
        "solo_letras         = solo_letras_str.isalpha()     # True\n",
        "mezclado_letras_res = mezclado_letras.isalpha()     # False\n",
        "acentos             = acentos_str.isalpha()         # True\n",
        "japones          = japones_str.isalpha()            # True\n",
        "espacio             = espacio_str.isalpha()         # False (espacio ≠ letra)\n",
        "vacio               = vacio_str.isalpha()           # False (vacío)\n",
        "\n",
        "print(\"¿'Python' son solo letras?        :\", solo_letras)\n",
        "print(\"¿'Python3' son solo letras?       :\", mezclado_letras_res)\n",
        "print(\"¿'canción' (con acento) solo letras?:\", acentos)\n",
        "print(\"¿'忍者' solo letras?               :\", japones)\n",
        "print(\"¿'hola mundo' solo letras?        :\", espacio)\n",
        "print(\"¿'' (vacío) solo letras?          :\", vacio)\n"
      ]
    },
    {
      "cell_type": "code",
      "execution_count": null,
      "id": "0ZwlpTuRpO5R",
      "metadata": {
        "colab": {
          "base_uri": "https://localhost:8080/"
        },
        "id": "0ZwlpTuRpO5R",
        "outputId": "ebc0a013-44f8-49b5-fcab-878ed452d93f"
      },
      "outputs": [
        {
          "name": "stdout",
          "output_type": "stream",
          "text": [
            "¿'Python3' es alfanumérico?  : True\n",
            "¿'abc!' es alfanumérico?     : False\n",
            "¿'Server' es alfanumérico?   : True\n",
            "¿'2025' es alfanumérico?     : True\n",
            "¿'año2025' es alfanumérico?  : True\n",
            "¿'忍者42' es alfanumérico?   : True\n",
            "¿'user_name' es alfanumérico?: False\n",
            "¿'hola 123' es alfanumérico? : False\n",
            "¿'' (vacío) es alfanumérico? : False\n"
          ]
        }
      ],
      "source": [
        "# ───────────────────────────────────────────────────────────────\n",
        "# Ejemplo práctico del método str.isalnum()\n",
        "# --------------------------------------------------------------\n",
        "# • Devuelve True si *todos* los caracteres de la cadena son\n",
        "#   letras (según Unicode) o dígitos (según Unicode).\n",
        "# • Devuelve False si la cadena contiene cualquier otro tipo de\n",
        "#   carácter (espacios, signos de puntuación, guiones, emojis…)\n",
        "#   o si la cadena está vacía.\n",
        "# ───────────────────────────────────────────────────────────────\n",
        "\n",
        "alfanum_str        = \"Python3\"     # Letras + dígito ASCII → alfanumérico\n",
        "solo_especiales    = \"abc!\"        # Contiene '!' → no alfanumérico\n",
        "solo_letras        = \"Server\"      # Solo letras → alfanumérico\n",
        "solo_digitos       = \"2025\"        # Solo dígitos → alfanumérico\n",
        "acentos_str        = \"año2025\"     # Letra con tilde + dígitos → alfanumérico\n",
        "japones_str        = \"忍者42\"       # Kanji + dígitos → alfanumérico\n",
        "underscore_str     = \"user_name\"   # Contiene '_' → False\n",
        "espacio_str        = \"hola 123\"    # Contiene espacio → False\n",
        "vacio_str          = \"\"            # Cadena vacía → False\n",
        "\n",
        "# Evaluamos cada caso\n",
        "es_alfanum          = alfanum_str.isalnum()     # True\n",
        "no_es_alfanum       = solo_especiales.isalnum() # False\n",
        "solo_letras_res     = solo_letras.isalnum()     # True\n",
        "solo_digitos_res    = solo_digitos.isalnum()    # True\n",
        "acentos_res         = acentos_str.isalnum()     # True\n",
        "japones_res         = japones_str.isalnum()     # True\n",
        "underscore_res      = underscore_str.isalnum()  # False\n",
        "espacio_res         = espacio_str.isalnum()     # False\n",
        "vacio_res           = vacio_str.isalnum()       # False\n",
        "\n",
        "print(\"¿'Python3' es alfanumérico?  :\", es_alfanum)\n",
        "print(\"¿'abc!' es alfanumérico?     :\", no_es_alfanum)\n",
        "print(\"¿'Server' es alfanumérico?   :\", solo_letras_res)\n",
        "print(\"¿'2025' es alfanumérico?     :\", solo_digitos_res)\n",
        "print(\"¿'año2025' es alfanumérico?  :\", acentos_res)\n",
        "print(\"¿'忍者42' es alfanumérico?   :\", japones_res)\n",
        "print(\"¿'user_name' es alfanumérico?:\", underscore_res)\n",
        "print(\"¿'hola 123' es alfanumérico? :\", espacio_res)\n",
        "print(\"¿'' (vacío) es alfanumérico? :\", vacio_res)"
      ]
    },
    {
      "cell_type": "code",
      "execution_count": null,
      "id": "XkkKCeEQpRmq",
      "metadata": {
        "colab": {
          "base_uri": "https://localhost:8080/"
        },
        "id": "XkkKCeEQpRmq",
        "outputId": "668a1740-6e3b-4f3d-c82c-b5bdce54a571"
      },
      "outputs": [
        {
          "name": "stdout",
          "output_type": "stream",
          "text": [
            "¿'El Reporte Trimestral' es formato título?: True\n",
            "¿'el reporte trimestral' es formato título?: False\n"
          ]
        }
      ],
      "source": [
        "# Ejemplo de método de string: str.istitle()\n",
        "# -------------------------------------------\n",
        "# str.istitle() devuelve True cuando cada palabra de la cadena comienza con una letra mayúscula seguida solo de minúsculas (según Unicode) y no hay caracteres que rompan ese patrón.\n",
        "# -------------------------------------------\n",
        "titulo_correcto = \"El Reporte Trimestral\"\n",
        "titulo_incorrecto = \"el reporte trimestral\"\n",
        "es_titulo = titulo_correcto.istitle()\n",
        "no_es_titulo = titulo_incorrecto.istitle()\n",
        "print(\"¿'El Reporte Trimestral' es formato título?:\", es_titulo)\n",
        "print(\"¿'el reporte trimestral' es formato título?:\", no_es_titulo)"
      ]
    },
    {
      "cell_type": "code",
      "execution_count": null,
      "id": "ch-w2MHbpUO3",
      "metadata": {
        "colab": {
          "base_uri": "https://localhost:8080/"
        },
        "id": "ch-w2MHbpUO3",
        "outputId": "0275b1fc-c70f-4769-d8af-81f0dc607f4c"
      },
      "outputs": [
        {
          "name": "stdout",
          "output_type": "stream",
          "text": [
            "¿'NASDAQ' está en mayúsculas?: True\n",
            "¿'nasdaq' está en mayúsculas?: False\n"
          ]
        }
      ],
      "source": [
        "# Ejemplo de método de string: str.isupper()\n",
        "mayus_str = \"NASDAQ\"\n",
        "minus_str = \"nasdaq\"\n",
        "es_mayus = mayus_str.isupper()\n",
        "no_es_mayus = minus_str.isupper()\n",
        "print(\"¿'NASDAQ' está en mayúsculas?:\", es_mayus)\n",
        "print(\"¿'nasdaq' está en mayúsculas?:\", no_es_mayus)"
      ]
    },
    {
      "cell_type": "code",
      "execution_count": null,
      "id": "xOiIWqdKpRpm",
      "metadata": {
        "colab": {
          "base_uri": "https://localhost:8080/"
        },
        "id": "xOiIWqdKpRpm",
        "outputId": "7a59c4e0-f02a-4e76-c6ee-c0248a4c912a"
      },
      "outputs": [
        {
          "name": "stdout",
          "output_type": "stream",
          "text": [
            "¿'nasdaq' está en minúsculas?: True\n",
            "¿'NASDAQ' está en minúsculas?: False\n"
          ]
        }
      ],
      "source": [
        "# Ejemplo de método de string: str.islower()\n",
        "minus_str = \"nasdaq\"\n",
        "mayus_str = \"NASDAQ\"\n",
        "es_minus = minus_str.islower()\n",
        "no_es_minus = mayus_str.islower()\n",
        "print(\"¿'nasdaq' está en minúsculas?:\", es_minus)\n",
        "print(\"¿'NASDAQ' está en minúsculas?:\", no_es_minus)"
      ]
    },
    {
      "cell_type": "markdown",
      "id": "16f70a1a",
      "metadata": {},
      "source": [
        "## Clase 1.2"
      ]
    },
    {
      "cell_type": "markdown",
      "id": "060c6f47",
      "metadata": {
        "id": "060c6f47"
      },
      "source": [
        "\n",
        "## Listas y tuplas; *unpacking* y `namedtuple`\n",
        "- **Lista**: secuencia mutable.\n",
        "- **Tupla**: secuencia inmutable; útil como registro.\n",
        "- *Sequence / extended unpacking* facilita asignaciones claras.\n",
        "- `namedtuple` agrega nombres de campo ligeros.\n"
      ]
    },
    {
      "cell_type": "code",
      "execution_count": null,
      "id": "6d82f239",
      "metadata": {
        "id": "6d82f239"
      },
      "outputs": [],
      "source": [
        "# Listas: operaciones típicas\n",
        "precios = [170.5, 172.1, 171.8]"
      ]
    },
    {
      "cell_type": "code",
      "execution_count": null,
      "id": "gAWB1me6dMv3",
      "metadata": {
        "colab": {
          "base_uri": "https://localhost:8080/"
        },
        "id": "gAWB1me6dMv3",
        "outputId": "9a39be88-fb45-4957-eafb-c218a65f155a"
      },
      "outputs": [
        {
          "name": "stdout",
          "output_type": "stream",
          "text": [
            "[170.5, 172.1, 171.8]\n"
          ]
        }
      ],
      "source": [
        "print(precios)"
      ]
    },
    {
      "cell_type": "code",
      "execution_count": null,
      "id": "4AU-7hdEXobV",
      "metadata": {
        "id": "4AU-7hdEXobV"
      },
      "outputs": [],
      "source": [
        "precios.append(175.0)"
      ]
    },
    {
      "cell_type": "code",
      "execution_count": null,
      "id": "yWixMWUcdLgr",
      "metadata": {
        "colab": {
          "base_uri": "https://localhost:8080/"
        },
        "id": "yWixMWUcdLgr",
        "outputId": "1cc9402c-b05e-41ac-9bd3-6e63ef24410b"
      },
      "outputs": [
        {
          "name": "stdout",
          "output_type": "stream",
          "text": [
            "[170.5, 172.1, 171.8, 175.0]\n"
          ]
        }
      ],
      "source": [
        "print(precios)"
      ]
    },
    {
      "cell_type": "code",
      "execution_count": null,
      "id": "VSZYCaYjXo9f",
      "metadata": {
        "id": "VSZYCaYjXo9f"
      },
      "outputs": [],
      "source": [
        "precios.insert(0, 169.9)  # Ojo: insertar al principio puede desplazar elementos"
      ]
    },
    {
      "cell_type": "code",
      "execution_count": null,
      "id": "hkRDLsJJXpca",
      "metadata": {
        "colab": {
          "base_uri": "https://localhost:8080/"
        },
        "id": "hkRDLsJJXpca",
        "outputId": "eb1b43d2-1be6-4342-8df1-e6c1f27ebfe8"
      },
      "outputs": [
        {
          "name": "stdout",
          "output_type": "stream",
          "text": [
            "[169.9, 170.5, 172.1, 171.8, 175.0]\n"
          ]
        }
      ],
      "source": [
        "print(precios)"
      ]
    },
    {
      "cell_type": "code",
      "execution_count": null,
      "id": "L3C79M8rYe8T",
      "metadata": {
        "id": "L3C79M8rYe8T"
      },
      "outputs": [],
      "source": [
        "# Es mutable?\n",
        "precios[2] = 'es mutable'"
      ]
    },
    {
      "cell_type": "code",
      "execution_count": null,
      "id": "otWvwnbuYkZd",
      "metadata": {
        "colab": {
          "base_uri": "https://localhost:8080/"
        },
        "id": "otWvwnbuYkZd",
        "outputId": "02c2964a-7d94-4433-a7b6-2a1a3314d5c2"
      },
      "outputs": [
        {
          "name": "stdout",
          "output_type": "stream",
          "text": [
            "[169.9, 170.5, 'es mutable', 171.8, 175.0]\n"
          ]
        }
      ],
      "source": [
        "print(precios)"
      ]
    },
    {
      "cell_type": "code",
      "execution_count": null,
      "id": "Y-biMMx5dpcG",
      "metadata": {
        "id": "Y-biMMx5dpcG"
      },
      "outputs": [],
      "source": [
        "# Tupla\n",
        "operacion = (\"AAPL\", \"BUY\", 100, 175.50)"
      ]
    },
    {
      "cell_type": "code",
      "execution_count": null,
      "id": "a2275f81",
      "metadata": {
        "id": "a2275f81"
      },
      "outputs": [],
      "source": [
        "# Unpacking\n",
        "ticker, tipo, cantidad, precio = operacion"
      ]
    },
    {
      "cell_type": "code",
      "execution_count": null,
      "id": "XLC6iY_o__wG",
      "metadata": {
        "colab": {
          "base_uri": "https://localhost:8080/"
        },
        "id": "XLC6iY_o__wG",
        "outputId": "8c675b71-bf85-4a34-8206-b1082bbe1701"
      },
      "outputs": [
        {
          "name": "stdout",
          "output_type": "stream",
          "text": [
            "AAPL\n"
          ]
        }
      ],
      "source": [
        "print(ticker)"
      ]
    },
    {
      "cell_type": "code",
      "execution_count": null,
      "id": "QziHlJLjAAzT",
      "metadata": {
        "colab": {
          "base_uri": "https://localhost:8080/"
        },
        "id": "QziHlJLjAAzT",
        "outputId": "8d5c83c8-eacd-413e-b58a-5a6bd20abfae"
      },
      "outputs": [
        {
          "name": "stdout",
          "output_type": "stream",
          "text": [
            "BUY\n"
          ]
        }
      ],
      "source": [
        "print(tipo)"
      ]
    },
    {
      "cell_type": "code",
      "execution_count": null,
      "id": "seu24NWrADMw",
      "metadata": {
        "colab": {
          "base_uri": "https://localhost:8080/"
        },
        "id": "seu24NWrADMw",
        "outputId": "c40ef23f-e6c3-40e7-9210-e1f3cb139aa6"
      },
      "outputs": [
        {
          "name": "stdout",
          "output_type": "stream",
          "text": [
            "100\n"
          ]
        }
      ],
      "source": [
        "print(cantidad)"
      ]
    },
    {
      "cell_type": "code",
      "execution_count": null,
      "id": "fVueZfByAF-q",
      "metadata": {
        "colab": {
          "base_uri": "https://localhost:8080/"
        },
        "id": "fVueZfByAF-q",
        "outputId": "bde78e01-ec36-46dd-85ac-2f30ca6e0fbe"
      },
      "outputs": [
        {
          "name": "stdout",
          "output_type": "stream",
          "text": [
            "175.5\n"
          ]
        }
      ],
      "source": [
        "print(precio)"
      ]
    },
    {
      "cell_type": "code",
      "execution_count": null,
      "id": "Uws9ODolYcBq",
      "metadata": {
        "colab": {
          "base_uri": "https://localhost:8080/",
          "height": 158
        },
        "id": "Uws9ODolYcBq",
        "outputId": "b3be05b5-a3d4-47bc-d017-2574820e1da5"
      },
      "outputs": [
        {
          "ename": "TypeError",
          "evalue": "'tuple' object does not support item assignment",
          "output_type": "error",
          "traceback": [
            "\u001b[0;31m---------------------------------------------------------------------------\u001b[0m",
            "\u001b[0;31mTypeError\u001b[0m                                 Traceback (most recent call last)",
            "\u001b[0;32m/tmp/ipython-input-979477770.py\u001b[0m in \u001b[0;36m<cell line: 0>\u001b[0;34m()\u001b[0m\n\u001b[1;32m      1\u001b[0m \u001b[0;31m# Es inmutable?\u001b[0m\u001b[0;34m\u001b[0m\u001b[0;34m\u001b[0m\u001b[0m\n\u001b[0;32m----> 2\u001b[0;31m \u001b[0moperacion\u001b[0m\u001b[0;34m[\u001b[0m\u001b[0;36m2\u001b[0m\u001b[0;34m]\u001b[0m \u001b[0;34m=\u001b[0m \u001b[0;34m'es inmutable'\u001b[0m\u001b[0;34m\u001b[0m\u001b[0;34m\u001b[0m\u001b[0m\n\u001b[0m",
            "\u001b[0;31mTypeError\u001b[0m: 'tuple' object does not support item assignment"
          ]
        }
      ],
      "source": [
        "# Es inmutable?\n",
        "operacion[2] = 'es inmutable'"
      ]
    },
    {
      "cell_type": "code",
      "execution_count": null,
      "id": "BvE0NTSbXwvT",
      "metadata": {
        "colab": {
          "base_uri": "https://localhost:8080/"
        },
        "id": "BvE0NTSbXwvT",
        "outputId": "c248c6d5-a83e-415f-9305-a1e5793b8702"
      },
      "outputs": [
        {
          "data": {
            "text/plain": [
              "(2, 1)"
            ]
          },
          "execution_count": 92,
          "metadata": {},
          "output_type": "execute_result"
        }
      ],
      "source": [
        "# Swap sin variable temporal\n",
        "a = 1\n",
        "b = 2\n",
        "\n",
        "a, b = b, a         # A la derecha se empaqueta una tupla y a la izquierda se desempaqueta\n",
        "a, b"
      ]
    },
    {
      "cell_type": "code",
      "execution_count": null,
      "id": "n-LKdsj2Xu8n",
      "metadata": {
        "id": "n-LKdsj2Xu8n"
      },
      "outputs": [],
      "source": [
        "# Extended unpacking con *\n",
        "primero, *intermedios, ultimo = [170, 172, 175, 176]"
      ]
    },
    {
      "cell_type": "code",
      "execution_count": null,
      "id": "pWsoGHaCZCkd",
      "metadata": {
        "colab": {
          "base_uri": "https://localhost:8080/"
        },
        "id": "pWsoGHaCZCkd",
        "outputId": "cfba614c-e057-425d-bbf0-26acf0bbbc08"
      },
      "outputs": [
        {
          "name": "stdout",
          "output_type": "stream",
          "text": [
            "primero: 170 \n",
            "intermedios: [172, 175] \n",
            "ultimo: 176\n"
          ]
        }
      ],
      "source": [
        "print(\"primero:\", primero, \"\\nintermedios:\", intermedios, \"\\nultimo:\", ultimo)"
      ]
    },
    {
      "cell_type": "code",
      "execution_count": null,
      "id": "da82e651",
      "metadata": {
        "id": "da82e651"
      },
      "outputs": [],
      "source": [
        "# namedtuple\n",
        "from collections import namedtuple\n",
        "operacion = namedtuple(\"Operacion\", [\"ticker\", \"tipo\", \"cantidad\", \"precio\"])  # Creamos la plantilla"
      ]
    },
    {
      "cell_type": "code",
      "execution_count": null,
      "id": "RGqj1BPMZota",
      "metadata": {
        "id": "RGqj1BPMZota"
      },
      "outputs": [],
      "source": [
        "op = operacion(\"AAPL\", \"BUY\", 100, 175.50)"
      ]
    },
    {
      "cell_type": "code",
      "execution_count": null,
      "id": "tPueAfOiZ0J5",
      "metadata": {
        "colab": {
          "base_uri": "https://localhost:8080/"
        },
        "id": "tPueAfOiZ0J5",
        "outputId": "9fdfeda3-affd-4cfa-e67b-b3c13706d972"
      },
      "outputs": [
        {
          "name": "stdout",
          "output_type": "stream",
          "text": [
            "AAPL\n"
          ]
        }
      ],
      "source": [
        "# Accedemos a los elementos por el nombre del campo en la plantilla\n",
        "print(op.ticker)"
      ]
    },
    {
      "cell_type": "code",
      "execution_count": null,
      "id": "a_Usg5WAZ3LE",
      "metadata": {
        "colab": {
          "base_uri": "https://localhost:8080/"
        },
        "id": "a_Usg5WAZ3LE",
        "outputId": "814d62e7-d130-4e06-de74-3d2cf0e1d1e0"
      },
      "outputs": [
        {
          "name": "stdout",
          "output_type": "stream",
          "text": [
            "BUY\n"
          ]
        }
      ],
      "source": [
        "print(op.tipo)"
      ]
    },
    {
      "cell_type": "code",
      "execution_count": null,
      "id": "LFIDJR09Z4m5",
      "metadata": {
        "colab": {
          "base_uri": "https://localhost:8080/"
        },
        "id": "LFIDJR09Z4m5",
        "outputId": "89c7364a-0163-49bb-d26b-7d4a54fc92ff"
      },
      "outputs": [
        {
          "name": "stdout",
          "output_type": "stream",
          "text": [
            "100\n"
          ]
        }
      ],
      "source": [
        "print(op.cantidad)"
      ]
    },
    {
      "cell_type": "code",
      "execution_count": null,
      "id": "RhjFx3FBZ6Ib",
      "metadata": {
        "colab": {
          "base_uri": "https://localhost:8080/"
        },
        "id": "RhjFx3FBZ6Ib",
        "outputId": "bf32754d-e1f4-4909-a999-6ca7bcdec773"
      },
      "outputs": [
        {
          "name": "stdout",
          "output_type": "stream",
          "text": [
            "175.5\n"
          ]
        }
      ],
      "source": [
        "print(op.precio)"
      ]
    },
    {
      "cell_type": "markdown",
      "id": "Vk5KW5XbJvhG",
      "metadata": {
        "id": "Vk5KW5XbJvhG"
      },
      "source": [
        "*   **Listas (`list`)**:"
      ]
    },
    {
      "cell_type": "markdown",
      "id": "oqoUBTjapcha",
      "metadata": {
        "id": "oqoUBTjapcha"
      },
      "source": [
        "| Signo/Función/Método | Función (Descripción)                                            |\n",
        "| :------------------- | :--------------------------------------------------------------- |\n",
        "| `[]`                 | Indexación (acceder a un elemento por su posición)               |\n",
        "| `[:]`                | Slicing (extraer una sublista)                                   |\n",
        "| `len()`              | Longitud (obtener el número de elementos)                        |\n",
        "| `in`                 | Pertenencia (verificar si un elemento existe en la lista)        |\n",
        "| `not in`             | No pertenencia (verificar si un elemento no existe en la lista)  |\n",
        "| `+`                  | Concatenación (unir dos o más listas)                            |\n",
        "| `*`                  | Repetición (repetir la lista N veces)                            |\n",
        "| `list.append()`      | Añadir un elemento al final de la lista                          |\n",
        "| `list.extend()`      | Añadir todos los elementos de un iterable al final de la lista     |\n",
        "| `list.insert()`      | Insertar un elemento en una posición específica                  |\n",
        "| `list.remove()`      | Quitar la primera ocurrencia de un elemento con un valor específico |\n",
        "| `list.pop()`         | Quitar y devolver un elemento por su índice (o el último)        |\n",
        "| `list.clear()`       | Eliminar todos los elementos de la lista                         |\n",
        "| `list.index()`       | Devolver el índice de la primera ocurrencia de un elemento       |\n",
        "| `list.count()`       | Contar cuántas veces aparece un elemento en la lista             |\n",
        "| `list.sort()`        | Ordenar los elementos de la lista in-place (modifica la lista original) |\n",
        "| `list.reverse()`     | Invertir el orden de los elementos de la lista in-place          |\n",
        "| `copy()` (método)    | Crear una copia superficial de la lista                          |\n",
        "| `list()` (función)   | Crear una nueva lista (puede ser una copia o convertir otro iterable) |\n",
        "| `del` (sentencia)    | Eliminar un elemento por su índice o eliminar la lista completa  |"
      ]
    },
    {
      "cell_type": "code",
      "execution_count": null,
      "id": "tbDCvr5ypdDO",
      "metadata": {
        "colab": {
          "base_uri": "https://localhost:8080/"
        },
        "id": "tbDCvr5ypdDO",
        "outputId": "4da88622-9ad1-4c04-bb89-6f28194d21b1"
      },
      "outputs": [
        {
          "name": "stdout",
          "output_type": "stream",
          "text": [
            "Primer valor: 150.5\n",
            "Último valor: 99.95\n"
          ]
        }
      ],
      "source": [
        "# Ejemplo de operador: [] Indexación\n",
        "valores_acciones = [150.50, 190.75, 420.30, 99.95]\n",
        "primer_valor = valores_acciones[0]\n",
        "ultimo_valor = valores_acciones[-1] # Indexación negativa\n",
        "print(\"Primer valor:\", primer_valor)\n",
        "print(\"Último valor:\", ultimo_valor)"
      ]
    },
    {
      "cell_type": "code",
      "execution_count": null,
      "id": "2uHN1iWrpZvj",
      "metadata": {
        "colab": {
          "base_uri": "https://localhost:8080/"
        },
        "id": "2uHN1iWrpZvj",
        "outputId": "c121a2fd-aed6-411b-9df1-844388fc836d"
      },
      "outputs": [
        {
          "name": "stdout",
          "output_type": "stream",
          "text": [
            "Últimos 3 días: [103, 106, 108]\n",
            "Desde el segundo: [102, 101, 105, 103, 106, 108]\n",
            "Hasta el cuarto: [100, 102, 101, 105]\n",
            "Rango medio (índices 2 a 4): [101, 105, 103]\n",
            "Copia completa: [100, 102, 101, 105, 103, 106, 108]\n"
          ]
        }
      ],
      "source": [
        "# Ejemplo de operador: [:] Slicing\n",
        "precios_historicos = [100, 102, 101, 105, 103, 106, 108]\n",
        "ultimos_tres_dias = precios_historicos[-3:]\n",
        "desde_el_segundo = precios_historicos[1:]\n",
        "hasta_el_cuarto = precios_historicos[:4]\n",
        "rango_medio = precios_historicos[2:5]\n",
        "copia_completa = precios_historicos[:]\n",
        "print(\"Últimos 3 días:\", ultimos_tres_dias)\n",
        "print(\"Desde el segundo:\", desde_el_segundo)\n",
        "print(\"Hasta el cuarto:\", hasta_el_cuarto)\n",
        "print(\"Rango medio (índices 2 a 4):\", rango_medio)\n",
        "print(\"Copia completa:\", copia_completa)"
      ]
    },
    {
      "cell_type": "code",
      "execution_count": null,
      "id": "oqJc2JC5pgjX",
      "metadata": {
        "colab": {
          "base_uri": "https://localhost:8080/"
        },
        "id": "oqJc2JC5pgjX",
        "outputId": "8a12770f-c0a6-4d80-c932-de284f20b9a9"
      },
      "outputs": [
        {
          "name": "stdout",
          "output_type": "stream",
          "text": [
            "Longitud de lista_vacia: 0\n",
            "Longitud de lista_tickers: 3\n"
          ]
        }
      ],
      "source": [
        "# Ejemplo de función integrada: len() Longitud\n",
        "lista_vacia = []\n",
        "lista_tickers = ['AAPL', 'MSFT', 'GOOG']\n",
        "longitud_vacia = len(lista_vacia)\n",
        "longitud_tickers = len(lista_tickers)\n",
        "print(\"Longitud de lista_vacia:\", longitud_vacia)\n",
        "print(\"Longitud de lista_tickers:\", longitud_tickers)"
      ]
    },
    {
      "cell_type": "code",
      "execution_count": null,
      "id": "xwU02xGlphiI",
      "metadata": {
        "colab": {
          "base_uri": "https://localhost:8080/"
        },
        "id": "xwU02xGlphiI",
        "outputId": "aecdd7ba-4eb6-4e8a-8133-a8818988e145"
      },
      "outputs": [
        {
          "name": "stdout",
          "output_type": "stream",
          "text": [
            "¿'TSLA' en la lista?: True\n",
            "¿'NFLX' en la lista?: False\n"
          ]
        }
      ],
      "source": [
        "# Ejemplo de operador: in Pertenencia\n",
        "acciones_en_cartera = ['IBM', 'TSLA', 'AMZN']\n",
        "ticker_existente = 'TSLA'\n",
        "ticker_inexistente = 'NFLX'\n",
        "pertenencia_existente = ticker_existente in acciones_en_cartera\n",
        "pertenencia_inexistente = ticker_inexistente in acciones_en_cartera\n",
        "print(\"¿'TSLA' en la lista?:\", pertenencia_existente)\n",
        "print(\"¿'NFLX' en la lista?:\", pertenencia_inexistente)"
      ]
    },
    {
      "cell_type": "code",
      "execution_count": null,
      "id": "dl_wFIAypit8",
      "metadata": {
        "colab": {
          "base_uri": "https://localhost:8080/"
        },
        "id": "dl_wFIAypit8",
        "outputId": "935762fa-c742-4563-f786-3d6342e5bf8c"
      },
      "outputs": [
        {
          "name": "stdout",
          "output_type": "stream",
          "text": [
            "¿'TSLA' not in la lista?: False\n",
            "¿'NFLX' not in la lista?: True\n"
          ]
        }
      ],
      "source": [
        "# Ejemplo de operador: not in No pertenencia\n",
        "acciones_en_cartera = ['IBM', 'TSLA', 'AMZN']\n",
        "ticker_existente = 'TSLA'\n",
        "ticker_inexistente = 'NFLX'\n",
        "no_pertenencia_existente = ticker_existente not in acciones_en_cartera\n",
        "no_pertenencia_inexistente = ticker_inexistente not in acciones_en_cartera\n",
        "print(\"¿'TSLA' not in la lista?:\", no_pertenencia_existente)\n",
        "print(\"¿'NFLX' not in la lista?:\", no_pertenencia_inexistente)"
      ]
    },
    {
      "cell_type": "code",
      "execution_count": null,
      "id": "Qy0-yPacpjw-",
      "metadata": {
        "colab": {
          "base_uri": "https://localhost:8080/"
        },
        "id": "Qy0-yPacpjw-",
        "outputId": "90283008-c675-47e2-8e19-095727b60406"
      },
      "outputs": [
        {
          "name": "stdout",
          "output_type": "stream",
          "text": [
            "Lista concatenada: [10, 20, 30, 40]\n"
          ]
        }
      ],
      "source": [
        "# Ejemplo de operador: + Concatenación\n",
        "lista1 = [10, 20]\n",
        "lista2 = [30, 40]\n",
        "lista_concatenada = lista1 + lista2\n",
        "print(\"Lista concatenada:\", lista_concatenada)"
      ]
    },
    {
      "cell_type": "code",
      "execution_count": null,
      "id": "NnoX8gyNpkCm",
      "metadata": {
        "colab": {
          "base_uri": "https://localhost:8080/"
        },
        "id": "NnoX8gyNpkCm",
        "outputId": "ee8f4537-8399-4976-ba02-79285124234e"
      },
      "outputs": [
        {
          "name": "stdout",
          "output_type": "stream",
          "text": [
            "Lista repetida: [0, 0, 0, 0, 0]\n"
          ]
        }
      ],
      "source": [
        "# Ejemplo de operador: * Repetición\n",
        "elementos = [0]\n",
        "lista_repetida = elementos * 5\n",
        "print(\"Lista repetida:\", lista_repetida)"
      ]
    },
    {
      "cell_type": "code",
      "execution_count": null,
      "id": "j6UNltWXpkFd",
      "metadata": {
        "colab": {
          "base_uri": "https://localhost:8080/"
        },
        "id": "j6UNltWXpkFd",
        "outputId": "d0edf259-8407-4c73-a7a2-3f8157a5c8c9"
      },
      "outputs": [
        {
          "name": "stdout",
          "output_type": "stream",
          "text": [
            "Después de append(4): [1, 2, 3, 4]\n"
          ]
        }
      ],
      "source": [
        "# Ejemplo de método: list.append()\n",
        "mi_lista = [1, 2, 3]\n",
        "mi_lista.append(4)\n",
        "print(\"Después de append(4):\", mi_lista)"
      ]
    },
    {
      "cell_type": "code",
      "execution_count": null,
      "id": "yTA9cYjypkIQ",
      "metadata": {
        "colab": {
          "base_uri": "https://localhost:8080/"
        },
        "id": "yTA9cYjypkIQ",
        "outputId": "d672d5f7-7c85-4284-b351-2212c9439f27"
      },
      "outputs": [
        {
          "name": "stdout",
          "output_type": "stream",
          "text": [
            "Después de extend([3, 4, 5]): [1, 2, 3, 4, 5]\n"
          ]
        }
      ],
      "source": [
        "# Ejemplo de método: list.extend()\n",
        "lista_existente = [1, 2]\n",
        "nuevos_elementos = [3, 4, 5]\n",
        "lista_existente.extend(nuevos_elementos)\n",
        "print(\"Después de extend([3, 4, 5]):\", lista_existente)"
      ]
    },
    {
      "cell_type": "code",
      "execution_count": null,
      "id": "kTwhZg1lpnvd",
      "metadata": {
        "colab": {
          "base_uri": "https://localhost:8080/"
        },
        "id": "kTwhZg1lpnvd",
        "outputId": "60eba588-1069-4825-ad4e-1b5d23a11d16"
      },
      "outputs": [
        {
          "name": "stdout",
          "output_type": "stream",
          "text": [
            "Después de insert(1, 2): [1, 2, 3, 4]\n",
            "Después de insert(0, 0): [0, 1, 2, 3, 4]\n"
          ]
        }
      ],
      "source": [
        "# Ejemplo de método: list.insert()\n",
        "numeros = [1, 3, 4]\n",
        "# Insertar 2 en el índice 1 (segunda posición)\n",
        "numeros.insert(1, 2)\n",
        "print(\"Después de insert(1, 2):\", numeros)\n",
        "\n",
        "# Insertar al principio\n",
        "numeros.insert(0, 0)\n",
        "print(\"Después de insert(0, 0):\", numeros)"
      ]
    },
    {
      "cell_type": "code",
      "execution_count": null,
      "id": "i3xEsCR9pnyB",
      "metadata": {
        "colab": {
          "base_uri": "https://localhost:8080/"
        },
        "id": "i3xEsCR9pnyB",
        "outputId": "3be50bf3-5576-4ef9-bd8d-634e70431436"
      },
      "outputs": [
        {
          "name": "stdout",
          "output_type": "stream",
          "text": [
            "Después de remove('banana'): ['manzana', 'cereza', 'banana']\n"
          ]
        }
      ],
      "source": [
        "# Ejemplo de método: list.remove()\n",
        "frutas = ['manzana', 'banana', 'cereza', 'banana']\n",
        "frutas.remove('banana') # Elimina la primera ocurrencia\n",
        "print(\"Después de remove('banana'):\", frutas)"
      ]
    },
    {
      "cell_type": "code",
      "execution_count": null,
      "id": "T_50qUdZpn0d",
      "metadata": {
        "colab": {
          "base_uri": "https://localhost:8080/"
        },
        "id": "T_50qUdZpn0d",
        "outputId": "3a152471-fff7-4afb-cece-81a1f786151d"
      },
      "outputs": [
        {
          "name": "stdout",
          "output_type": "stream",
          "text": [
            "Elemento eliminado (último): 40\n",
            "Lista después de pop(): [25, 30, 35]\n",
            "Elemento eliminado (índice 1): 30\n",
            "Lista después de pop(1): [25, 35]\n"
          ]
        }
      ],
      "source": [
        "# Ejemplo de método: list.pop()\n",
        "edades = [25, 30, 35, 40]\n",
        "# Eliminar y obtener el último elemento\n",
        "ultimo_elemento = edades.pop()\n",
        "print(\"Elemento eliminado (último):\", ultimo_elemento)\n",
        "print(\"Lista después de pop():\", edades)\n",
        "\n",
        "# Eliminar y obtener el elemento en el índice 1\n",
        "elemento_indice1 = edades.pop(1)\n",
        "print(\"Elemento eliminado (índice 1):\", elemento_indice1)\n",
        "print(\"Lista después de pop(1):\", edades)"
      ]
    },
    {
      "cell_type": "code",
      "execution_count": null,
      "id": "Q7Oyf20tpn2y",
      "metadata": {
        "colab": {
          "base_uri": "https://localhost:8080/"
        },
        "id": "Q7Oyf20tpn2y",
        "outputId": "b82109ec-d7c9-4675-fd68-ba1c9a421b18"
      },
      "outputs": [
        {
          "name": "stdout",
          "output_type": "stream",
          "text": [
            "Después de clear(): []\n"
          ]
        }
      ],
      "source": [
        "# Ejemplo de método: list.clear()\n",
        "elementos_a_limpiar = [10, 20, 30]\n",
        "elementos_a_limpiar.clear()\n",
        "print(\"Después de clear():\", elementos_a_limpiar)"
      ]
    },
    {
      "cell_type": "code",
      "execution_count": null,
      "id": "NbJZZUMopkLr",
      "metadata": {
        "colab": {
          "base_uri": "https://localhost:8080/"
        },
        "id": "NbJZZUMopkLr",
        "outputId": "f5bd6dbe-ddb1-41f3-da61-77179112baca"
      },
      "outputs": [
        {
          "name": "stdout",
          "output_type": "stream",
          "text": [
            "Índice de 'b': 1\n"
          ]
        }
      ],
      "source": [
        "# Ejemplo de método: list.index()\n",
        "letras = ['a', 'b', 'c', 'b', 'd']\n",
        "indice_b = letras.index('b') # Devuelve el índice de la primera 'b'\n",
        "# indice_z = letras.index('z') # Esto causaría un ValueError si 'z' no está en la lista\n",
        "print(\"Índice de 'b':\", indice_b)"
      ]
    },
    {
      "cell_type": "code",
      "execution_count": null,
      "id": "jlUsWfmyptoG",
      "metadata": {
        "colab": {
          "base_uri": "https://localhost:8080/"
        },
        "id": "jlUsWfmyptoG",
        "outputId": "b24c28e8-5b17-457c-dd0b-04f330f4d661"
      },
      "outputs": [
        {
          "name": "stdout",
          "output_type": "stream",
          "text": [
            "Conteo de 'rojo': 3\n",
            "Conteo de 'amarillo': 0\n"
          ]
        }
      ],
      "source": [
        "# Ejemplo de método: list.count()\n",
        "colores = ['rojo', 'azul', 'verde', 'rojo', 'azul', 'rojo']\n",
        "conteo_rojo = colores.count('rojo')\n",
        "conteo_amarillo = colores.count('amarillo')\n",
        "print(\"Conteo de 'rojo':\", conteo_rojo)\n",
        "print(\"Conteo de 'amarillo':\", conteo_amarillo)"
      ]
    },
    {
      "cell_type": "code",
      "execution_count": null,
      "id": "BzknBu6Uptqo",
      "metadata": {
        "colab": {
          "base_uri": "https://localhost:8080/"
        },
        "id": "BzknBu6Uptqo",
        "outputId": "7013e317-dfb6-4de9-e771-57d0a14f7896"
      },
      "outputs": [
        {
          "name": "stdout",
          "output_type": "stream",
          "text": [
            "Lista ordenada (ascendente): [1, 2, 5, 8, 9]\n",
            "Lista ordenada (descendente): ['c', 'b', 'a']\n"
          ]
        }
      ],
      "source": [
        "# Ejemplo de método: list.sort()\n",
        "numeros_desordenados = [5, 2, 8, 1, 9]\n",
        "numeros_desordenados.sort() # Ordena in-place (la lista original cambia)\n",
        "print(\"Lista ordenada (ascendente):\", numeros_desordenados)\n",
        "\n",
        "letras_desordenadas = ['c', 'a', 'b']\n",
        "letras_desordenadas.sort(reverse=True) # Ordena descendente\n",
        "print(\"Lista ordenada (descendente):\", letras_desordenadas)"
      ]
    },
    {
      "cell_type": "code",
      "execution_count": null,
      "id": "gDKVsBx_ptsw",
      "metadata": {
        "colab": {
          "base_uri": "https://localhost:8080/"
        },
        "id": "gDKVsBx_ptsw",
        "outputId": "a2b9e03b-2715-4154-8465-b9ec2086e413"
      },
      "outputs": [
        {
          "name": "stdout",
          "output_type": "stream",
          "text": [
            "Lista invertida: [5, 4, 3, 2, 1]\n"
          ]
        }
      ],
      "source": [
        "# Ejemplo de método: list.reverse()\n",
        "elementos = [1, 2, 3, 4, 5]\n",
        "elementos.reverse() # Invierte in-place\n",
        "print(\"Lista invertida:\", elementos)"
      ]
    },
    {
      "cell_type": "code",
      "execution_count": null,
      "id": "8ZIN2Tu-ptvW",
      "metadata": {
        "colab": {
          "base_uri": "https://localhost:8080/"
        },
        "id": "8ZIN2Tu-ptvW",
        "outputId": "8b8b2c36-6d42-4f06-d030-c8e120bc1a5e"
      },
      "outputs": [
        {
          "name": "stdout",
          "output_type": "stream",
          "text": [
            "Lista Original: [1, 2, [99, 4]]\n",
            "Lista Copia: [1, 2, [99, 4], 5]\n"
          ]
        }
      ],
      "source": [
        "# Ejemplo de método: copy()\n",
        "lista_original = [1, 2, [3, 4]]\n",
        "lista_copia = lista_original.copy() # Copia superficial\n",
        "\n",
        "# Modificar la copia\n",
        "lista_copia.append(5)\n",
        "# Modificar un elemento mutable dentro de la copia (afecta al original en copia superficial)\n",
        "lista_copia[2][0] = 99\n",
        "# [1, 2, [3, 4]][2] -> [3, 4][0] -> 3\n",
        "\n",
        "print(\"Lista Original:\", lista_original)\n",
        "print(\"Lista Copia:\", lista_copia)"
      ]
    },
    {
      "cell_type": "code",
      "execution_count": null,
      "id": "UQ0S2TV6pygT",
      "metadata": {
        "colab": {
          "base_uri": "https://localhost:8080/"
        },
        "id": "UQ0S2TV6pygT",
        "outputId": "e230523c-2048-4c9c-c4af-95c54aeda1c0"
      },
      "outputs": [
        {
          "name": "stdout",
          "output_type": "stream",
          "text": [
            "Cadena a lista: ['P', 'y', 't', 'h', 'o', 'n']\n",
            "Tupla a lista: [1, 2, 3]\n",
            "Range a lista: [0, 1, 2, 3, 4]\n"
          ]
        }
      ],
      "source": [
        "# Ejemplo de función integrada: list()\n",
        "cadena_a_lista = list(\"Python\")\n",
        "tupla_a_lista = list((1, 2, 3))\n",
        "rango_a_lista = list(range(5)) # Convierte un objeto range a lista\n",
        "print(\"Cadena a lista:\", cadena_a_lista)\n",
        "print(\"Tupla a lista:\", tupla_a_lista)\n",
        "print(\"Range a lista:\", rango_a_lista)"
      ]
    },
    {
      "cell_type": "code",
      "execution_count": null,
      "id": "FiGi3RMRpyje",
      "metadata": {
        "colab": {
          "base_uri": "https://localhost:8080/"
        },
        "id": "FiGi3RMRpyje",
        "outputId": "28e5f522-da61-403d-e0a5-f688e2144c1c"
      },
      "outputs": [
        {
          "name": "stdout",
          "output_type": "stream",
          "text": [
            "Después de del mi_lista_del[1]: ['a', 'c', 'd']\n",
            "Después de del mi_lista_del[1:]: ['a']\n"
          ]
        }
      ],
      "source": [
        "# Ejemplo de sentencia: del\n",
        "mi_lista_del = ['a', 'b', 'c', 'd']\n",
        "# Eliminar elemento por índice\n",
        "del mi_lista_del[1] # Elimina 'b'\n",
        "print(\"Después de del mi_lista_del[1]:\", mi_lista_del)\n",
        "\n",
        "# Eliminar un slice\n",
        "del mi_lista_del[1:] # Elimina los elementos desde el índice 1 hasta el final ('c', 'd')\n",
        "print(\"Después de del mi_lista_del[1:]:\", mi_lista_del)\n",
        "\n",
        "# Eliminar la lista completa (la variable deja de existir)\n",
        "# del mi_lista_del\n",
        "# print(mi_lista_del) # Esto causaría un NameError"
      ]
    },
    {
      "cell_type": "markdown",
      "id": "rOQb7nZ6rgj5",
      "metadata": {
        "id": "rOQb7nZ6rgj5"
      },
      "source": [
        "*   **Tuplas** (`tuple`):"
      ]
    },
    {
      "cell_type": "markdown",
      "id": "21MpWxDDrjON",
      "metadata": {
        "id": "21MpWxDDrjON"
      },
      "source": [
        "| Signo/Función    | Función (Descripción)                                        |\n",
        "| :--------------- | :----------------------------------------------------------- |\n",
        "| `()`             | Creación de una tupla (o para agrupación/llamadas a función) |\n",
        "| `[]`             | Indexación (acceder a un elemento por su posición)           |\n",
        "| `[:]`            | Slicing (extraer una subtupla)                               |\n",
        "| `len()`          | Longitud (obtener el número de elementos)                    |\n",
        "| `in`             | Pertenencia (verificar si un elemento existe en la tupla)    |\n",
        "| `not in`         | No pertenencia (verificar si un elemento no existe)          |\n",
        "| `+`              | Concatenación (unir dos o más tuplas, crea una nueva tupla)  |\n",
        "| `*`              | Repetición (repetir una tupla N veces, crea una nueva tupla) |\n",
        "| `tuple.index()`  | Devolver el índice de la primera ocurrencia de un elemento   |\n",
        "| `tuple.count()`  | Contar cuántas veces aparece un elemento en la tupla         |\n",
        "| `tuple()`        | Crear una nueva tupla (a partir de un iterable)              |"
      ]
    },
    {
      "cell_type": "code",
      "execution_count": null,
      "id": "zrBWUcX5rjqn",
      "metadata": {
        "colab": {
          "base_uri": "https://localhost:8080/"
        },
        "id": "zrBWUcX5rjqn",
        "outputId": "e035ffbd-853f-4e63-93d6-b08dbbd02e46"
      },
      "outputs": [
        {
          "name": "stdout",
          "output_type": "stream",
          "text": [
            "Fecha del reporte: (2024, 5, 17)\n",
            "Punto de la curva spot: ('2024-05-17', 0.03)\n",
            "Tupla vacía: ()\n",
            "Saldo inicial del día: (10000,)\n"
          ]
        }
      ],
      "source": [
        "# Ejemplo de operador: () Creación de una tupla\n",
        "# Representar una fecha (año, mes, día) - útil porque las fechas son fijas\n",
        "fecha_reporte = (2024, 5, 17)\n",
        "# Representar un punto en una curva (fecha, valor)\n",
        "punto_curva_spot = (\"2024-05-17\", 0.03)\n",
        "# Tupla vacía\n",
        "tupla_vacia = ()\n",
        "# Tupla de un solo elemento (requiere una coma al final)\n",
        "saldo_inicial_dia = (10000,)\n",
        "print(\"Fecha del reporte:\", fecha_reporte)\n",
        "print(\"Punto de la curva spot:\", punto_curva_spot)\n",
        "print(\"Tupla vacía:\", tupla_vacia)\n",
        "print(\"Saldo inicial del día:\", saldo_inicial_dia)"
      ]
    },
    {
      "cell_type": "code",
      "execution_count": null,
      "id": "ItrclQVkrlVR",
      "metadata": {
        "colab": {
          "base_uri": "https://localhost:8080/"
        },
        "id": "ItrclQVkrlVR",
        "outputId": "0b20864a-0e12-4daf-d3f9-6ee7a46ec36b"
      },
      "outputs": [
        {
          "name": "stdout",
          "output_type": "stream",
          "text": [
            "Tipo de operación: COMPRA\n",
            "Precio de ejecución: 190.5\n"
          ]
        }
      ],
      "source": [
        "# Ejemplo de operador: [] Indexación\n",
        "# Acceder a partes de una tupla de datos\n",
        "datos_transaccion = (\"COMPRA\", \"AAPL\", 100, 190.50) # (Tipo, Ticker, Cantidad, Precio)\n",
        "tipo_operacion = datos_transaccion[0]\n",
        "precio_ejecucion = datos_transaccion[3]\n",
        "print(\"Tipo de operación:\", tipo_operacion)\n",
        "print(\"Precio de ejecución:\", precio_ejecucion)"
      ]
    },
    {
      "cell_type": "code",
      "execution_count": null,
      "id": "faQRA1mSrlXj",
      "metadata": {
        "colab": {
          "base_uri": "https://localhost:8080/"
        },
        "id": "faQRA1mSrlXj",
        "outputId": "abe4dc1f-bbc9-4dc2-85ba-4986b0081748"
      },
      "outputs": [
        {
          "name": "stdout",
          "output_type": "stream",
          "text": [
            "Detalles del evento: ('inicio', 'servidor_trade', 'ok')\n",
            "Marca de tiempo: 2024-05-17_08:00:00\n"
          ]
        }
      ],
      "source": [
        "# Ejemplo de operador: [:] Slicing\n",
        "# Extraer un rango de datos de una tupla\n",
        "registro_evento = (\"sistema\", \"inicio\", \"servidor_trade\", \"ok\", \"2024-05-17_08:00:00\")\n",
        "# Obtener los detalles del evento (excluyendo el sistema y la marca de tiempo)\n",
        "detalles = registro_evento[1:4]\n",
        "# Obtener la marca de tiempo\n",
        "marca_tiempo = registro_evento[-1]\n",
        "print(\"Detalles del evento:\", detalles)\n",
        "print(\"Marca de tiempo:\", marca_tiempo)"
      ]
    },
    {
      "cell_type": "code",
      "execution_count": null,
      "id": "SKee6XbdrlZv",
      "metadata": {
        "colab": {
          "base_uri": "https://localhost:8080/"
        },
        "id": "SKee6XbdrlZv",
        "outputId": "ca518fc9-894b-46f9-8338-74c9af28891a"
      },
      "outputs": [
        {
          "name": "stdout",
          "output_type": "stream",
          "text": [
            "Número de campos en el registro: 6\n"
          ]
        }
      ],
      "source": [
        "# Ejemplo de función integrada: len() Longitud\n",
        "# Saber cuántos elementos tiene un registro de datos\n",
        "registro_completo = (\"MSFT\", \"Tecnología\", \"USA\", 420.30, 1500000000, 1.35) # Ticker, Sector, País, Precio, Cap. Mercado, Beta\n",
        "numero_campos = len(registro_completo)\n",
        "print(\"Número de campos en el registro:\", numero_campos)"
      ]
    },
    {
      "cell_type": "code",
      "execution_count": null,
      "id": "9l3Sjbhtrlb-",
      "metadata": {
        "colab": {
          "base_uri": "https://localhost:8080/"
        },
        "id": "9l3Sjbhtrlb-",
        "outputId": "c972536f-b94c-4779-be61-fc387cb9fb56"
      },
      "outputs": [
        {
          "name": "stdout",
          "output_type": "stream",
          "text": [
            "¿MSFT está autorizado?: True\n",
            "¿TSLA está autorizado?: False\n"
          ]
        }
      ],
      "source": [
        "# Ejemplo de operador: in Pertenencia (verificar si un elemento existe)\n",
        "# Verificar si un ticker está en una lista (inmutable) de tickers autorizados\n",
        "tickers_autorizados = (\"AAPL\", \"MSFT\", \"GOOGL\", \"AMZN\")\n",
        "ticker_a_verificar1 = \"MSFT\"\n",
        "ticker_a_verificar2 = \"TSLA\"\n",
        "esta_autorizado1 = ticker_a_verificar1 in tickers_autorizados\n",
        "esta_autorizado2 = ticker_a_verificar2 in tickers_autorizados\n",
        "print(f\"¿{ticker_a_verificar1} está autorizado?:\", esta_autorizado1)\n",
        "print(f\"¿{ticker_a_verificar2} está autorizado?:\", esta_autorizado2)"
      ]
    },
    {
      "cell_type": "code",
      "execution_count": null,
      "id": "xJs-ia14rleK",
      "metadata": {
        "colab": {
          "base_uri": "https://localhost:8080/"
        },
        "id": "xJs-ia14rleK",
        "outputId": "48dd22bb-b3b2-4dbe-d44b-ddc1099b01d7"
      },
      "outputs": [
        {
          "name": "stdout",
          "output_type": "stream",
          "text": [
            "¿'error_conexion' no ocurrió?: True\n",
            "¿'consulta' no ocurrió?: False\n"
          ]
        }
      ],
      "source": [
        "# Ejemplo de operador: not in No pertenencia (verificar si un elemento no existe)\n",
        "# Verificar si un evento específico NO ocurrió en una secuencia de eventos\n",
        "secuencia_eventos = (\"login\", \"consulta\", \"transaccion_fallida\", \"logout\")\n",
        "evento_a_verificar1 = \"error_conexion\"\n",
        "evento_a_verificar2 = \"consulta\"\n",
        "no_ocurrio1 = evento_a_verificar1 not in secuencia_eventos\n",
        "no_ocurrio2 = evento_a_verificar2 not in secuencia_eventos\n",
        "print(f\"¿'{evento_a_verificar1}' no ocurrió?:\", no_ocurrio1)\n",
        "print(f\"¿'{evento_a_verificar2}' no ocurrió?:\", no_ocurrio2)"
      ]
    },
    {
      "cell_type": "code",
      "execution_count": null,
      "id": "gJ2mWK0nrlgU",
      "metadata": {
        "colab": {
          "base_uri": "https://localhost:8080/"
        },
        "id": "gJ2mWK0nrlgU",
        "outputId": "ce7d1470-f649-4433-d42d-b7ae8ac3d350"
      },
      "outputs": [
        {
          "name": "stdout",
          "output_type": "stream",
          "text": [
            "Registro combinado: ('AAPL', 'Tecnología', 190.5, 1500000)\n"
          ]
        }
      ],
      "source": [
        "# Ejemplo de operador: + Concatenación (unir tuplas)\n",
        "# Combinar partes de datos de diferentes fuentes (crea una nueva tupla)\n",
        "datos_basicos = (\"AAPL\", \"Tecnología\")\n",
        "datos_mercado = (190.50, 1500000)\n",
        "registro_combinado = datos_basicos + datos_mercado\n",
        "print(\"Registro combinado:\", registro_combinado)"
      ]
    },
    {
      "cell_type": "code",
      "execution_count": null,
      "id": "dyOhLXWcSvQZ",
      "metadata": {
        "colab": {
          "base_uri": "https://localhost:8080/"
        },
        "id": "dyOhLXWcSvQZ",
        "outputId": "a4b2b49f-9d13-4df5-8c61-10e874e21d47"
      },
      "outputs": [
        {
          "data": {
            "text/plain": [
              "100"
            ]
          },
          "execution_count": 128,
          "metadata": {},
          "output_type": "execute_result"
        }
      ],
      "source": [
        "(100)"
      ]
    },
    {
      "cell_type": "code",
      "execution_count": null,
      "id": "tlJ9Zt-CSwwb",
      "metadata": {
        "colab": {
          "base_uri": "https://localhost:8080/"
        },
        "id": "tlJ9Zt-CSwwb",
        "outputId": "1b3763a2-5f75-43b0-ef1c-337588654dc7"
      },
      "outputs": [
        {
          "data": {
            "text/plain": [
              "(100,)"
            ]
          },
          "execution_count": 129,
          "metadata": {},
          "output_type": "execute_result"
        }
      ],
      "source": [
        "(100,)"
      ]
    },
    {
      "cell_type": "code",
      "execution_count": null,
      "id": "PNTVoZ53rlil",
      "metadata": {
        "colab": {
          "base_uri": "https://localhost:8080/"
        },
        "id": "PNTVoZ53rlil",
        "outputId": "355b8c2c-cad2-4a28-887b-3f701482558e"
      },
      "outputs": [
        {
          "name": "stdout",
          "output_type": "stream",
          "text": [
            "Simulación simplificada (estado repetido): (100, 100, 100, 100, 100)\n"
          ]
        }
      ],
      "source": [
        "# Ejemplo de operador: * Repetición (repetir tupla)\n",
        "# Crear una tupla con valores repetidos para una simulación simple\n",
        "estado_inicial_activo = (100,)\n",
        "simulacion_simplificada = estado_inicial_activo * 5 # (100, 100, 100, 100, 100)\n",
        "print(\"Simulación simplificada (estado repetido):\", simulacion_simplificada)"
      ]
    },
    {
      "cell_type": "code",
      "execution_count": null,
      "id": "4zevx3terlk3",
      "metadata": {
        "colab": {
          "base_uri": "https://localhost:8080/"
        },
        "id": "4zevx3terlk3",
        "outputId": "c7b29531-6c38-4297-8f89-bf45155eb6eb"
      },
      "outputs": [
        {
          "name": "stdout",
          "output_type": "stream",
          "text": [
            "Índice de 'SELL': 1\n"
          ]
        }
      ],
      "source": [
        "# Ejemplo de método: tuple.index() Devolver el índice de un elemento\n",
        "# Encontrar la posición de un tipo de orden en una tupla de tipos permitidos\n",
        "tipos_orden_validos = (\"BUY\", \"SELL\", \"HOLD\")\n",
        "posicion_sell = tipos_orden_validos.index(\"SELL\")\n",
        "# posicion_invalid = tipos_orden_validos.index(\"SHORT\") # Esto causaría un ValueError\n",
        "print(\"Índice de 'SELL':\", posicion_sell)"
      ]
    },
    {
      "cell_type": "code",
      "execution_count": null,
      "id": "CPoMCcCqrlnF",
      "metadata": {
        "colab": {
          "base_uri": "https://localhost:8080/"
        },
        "id": "CPoMCcCqrlnF",
        "outputId": "cd741ccf-40b1-4b4e-b9be-44318dd415bb"
      },
      "outputs": [
        {
          "name": "stdout",
          "output_type": "stream",
          "text": [
            "Conteo del código de error 101: 3\n",
            "Conteo del código de error 300: 0\n"
          ]
        }
      ],
      "source": [
        "# Ejemplo de método: tuple.count() Contar ocurrencias de un elemento\n",
        "# Contar cuántas veces apareció un cierto código de error en una secuencia de registros\n",
        "codigos_error = (101, 200, 101, 404, 500, 101)\n",
        "conteo_error_101 = codigos_error.count(101)\n",
        "conteo_error_300 = codigos_error.count(300)\n",
        "print(\"Conteo del código de error 101:\", conteo_error_101)\n",
        "print(\"Conteo del código de error 300:\", conteo_error_300)"
      ]
    },
    {
      "cell_type": "code",
      "execution_count": null,
      "id": "7Oe7kosYrlpY",
      "metadata": {
        "colab": {
          "base_uri": "https://localhost:8080/"
        },
        "id": "7Oe7kosYrlpY",
        "outputId": "a0d487e0-76ca-41c9-d438-11cab02de0ee"
      },
      "outputs": [
        {
          "name": "stdout",
          "output_type": "stream",
          "text": [
            "Lista convertida a tupla: (180.0, 182.5, 179.8)\n"
          ]
        }
      ],
      "source": [
        "# Ejemplo de función integrada: tuple() Crear una tupla desde un iterable\n",
        "# Convertir una lista de datos a una tupla para asegurar inmutabilidad\n",
        "lista_de_precios_volatiles = [180.00, 182.50, 179.80]\n",
        "tupla_de_precios_fijos = tuple(lista_de_precios_volatiles)\n",
        "print(\"Lista convertida a tupla:\", tupla_de_precios_fijos)"
      ]
    },
    {
      "cell_type": "markdown",
      "id": "fe7e3ed0",
      "metadata": {
        "id": "fe7e3ed0"
      },
      "source": [
        "\n",
        "## Diccionarios y sets; *hashability* y pertenencia\n",
        "- `dict` mapea *key → value* con tabla hash (claves inmutables).\n",
        "- `set` guarda elementos únicos con búsquedas muy rápidas (`in`).\n"
      ]
    },
    {
      "cell_type": "code",
      "execution_count": null,
      "id": "rd3zpJjD4VQm",
      "metadata": {
        "id": "rd3zpJjD4VQm"
      },
      "outputs": [],
      "source": [
        "# Diccionario: claves deben ser inmutables (hashables)\n",
        "d = {}"
      ]
    },
    {
      "cell_type": "code",
      "execution_count": null,
      "id": "O3AA1ogG3FEz",
      "metadata": {
        "colab": {
          "base_uri": "https://localhost:8080/"
        },
        "id": "O3AA1ogG3FEz",
        "outputId": "51541068-20f1-4bac-a5d1-83698d7d06fb"
      },
      "outputs": [
        {
          "name": "stdout",
          "output_type": "stream",
          "text": [
            "{}\n"
          ]
        }
      ],
      "source": [
        "print(d)"
      ]
    },
    {
      "cell_type": "code",
      "execution_count": null,
      "id": "9AGTTwIl4V9X",
      "metadata": {
        "id": "9AGTTwIl4V9X"
      },
      "outputs": [],
      "source": [
        "# Añadimos una clave al diccionario: tupla\n",
        "d[(\"AAPL\", \"2024-01-10\")] = 175.5  # tupla OK"
      ]
    },
    {
      "cell_type": "code",
      "execution_count": null,
      "id": "-9xuC2hR3Oeb",
      "metadata": {
        "colab": {
          "base_uri": "https://localhost:8080/"
        },
        "id": "-9xuC2hR3Oeb",
        "outputId": "99bf2672-4157-4550-ed8b-313abfb70899"
      },
      "outputs": [
        {
          "name": "stdout",
          "output_type": "stream",
          "text": [
            "{('AAPL', '2024-01-10'): 175.5}\n"
          ]
        }
      ],
      "source": [
        "print(d)"
      ]
    },
    {
      "cell_type": "code",
      "execution_count": null,
      "id": "ArRfirSl5E6a",
      "metadata": {
        "id": "ArRfirSl5E6a"
      },
      "outputs": [],
      "source": [
        "# Añadimos una clave al diccionario: numero\n",
        "d[1] = \"primer elemento\"  # tupla OK"
      ]
    },
    {
      "cell_type": "code",
      "execution_count": null,
      "id": "mX5bRaX_3UTx",
      "metadata": {
        "colab": {
          "base_uri": "https://localhost:8080/"
        },
        "id": "mX5bRaX_3UTx",
        "outputId": "65611b7b-f1f6-46d8-d674-dcfd5d5f677e"
      },
      "outputs": [
        {
          "name": "stdout",
          "output_type": "stream",
          "text": [
            "{('AAPL', '2024-01-10'): 175.5, 1: 'primer elemento'}\n"
          ]
        }
      ],
      "source": [
        "print(d)"
      ]
    },
    {
      "cell_type": "code",
      "execution_count": null,
      "id": "qyS4vJBr5Iey",
      "metadata": {
        "id": "qyS4vJBr5Iey"
      },
      "outputs": [],
      "source": [
        "# Añadimos una clave al diccionario: cadena de texto\n",
        "d[\"mercado\"] = \"EEUU\"  # tupla OK"
      ]
    },
    {
      "cell_type": "code",
      "execution_count": null,
      "id": "BtfswY0V3aKO",
      "metadata": {
        "colab": {
          "base_uri": "https://localhost:8080/"
        },
        "id": "BtfswY0V3aKO",
        "outputId": "9624c21e-ebba-4a91-fbbd-3301cd60c834"
      },
      "outputs": [
        {
          "name": "stdout",
          "output_type": "stream",
          "text": [
            "{('AAPL', '2024-01-10'): 175.5, 1: 'primer elemento', 'mercado': 'EEUU'}\n"
          ]
        }
      ],
      "source": [
        "print(d)"
      ]
    },
    {
      "cell_type": "code",
      "execution_count": null,
      "id": "rVcyeYl14awq",
      "metadata": {
        "colab": {
          "base_uri": "https://localhost:8080/",
          "height": 158
        },
        "id": "rVcyeYl14awq",
        "outputId": "a96db9a9-f15f-411f-9cb3-0d4487b3f3e6"
      },
      "outputs": [
        {
          "ename": "TypeError",
          "evalue": "unhashable type: 'list'",
          "output_type": "error",
          "traceback": [
            "\u001b[0;31m---------------------------------------------------------------------------\u001b[0m",
            "\u001b[0;31mTypeError\u001b[0m                                 Traceback (most recent call last)",
            "\u001b[0;32m/tmp/ipython-input-1773733530.py\u001b[0m in \u001b[0;36m<cell line: 0>\u001b[0;34m()\u001b[0m\n\u001b[1;32m      1\u001b[0m \u001b[0;31m# Añadimos una clave al diccionario: lista\u001b[0m\u001b[0;34m\u001b[0m\u001b[0;34m\u001b[0m\u001b[0m\n\u001b[0;32m----> 2\u001b[0;31m \u001b[0md\u001b[0m\u001b[0;34m[\u001b[0m\u001b[0;34m[\u001b[0m\u001b[0;34m\"AAPL\"\u001b[0m\u001b[0;34m,\u001b[0m \u001b[0;34m\"2024-01-10\"\u001b[0m\u001b[0;34m]\u001b[0m\u001b[0;34m]\u001b[0m \u001b[0;34m=\u001b[0m \u001b[0;36m175.5\u001b[0m  \u001b[0;31m# lista NO: TypeError\u001b[0m\u001b[0;34m\u001b[0m\u001b[0;34m\u001b[0m\u001b[0m\n\u001b[0m",
            "\u001b[0;31mTypeError\u001b[0m: unhashable type: 'list'"
          ]
        }
      ],
      "source": [
        "# Añadimos una clave al diccionario: lista\n",
        "d[[\"AAPL\", \"2024-01-10\"]] = 175.5  # lista NO: TypeError"
      ]
    },
    {
      "cell_type": "code",
      "execution_count": null,
      "id": "jAYhcdOj5OJ2",
      "metadata": {
        "colab": {
          "base_uri": "https://localhost:8080/"
        },
        "id": "jAYhcdOj5OJ2",
        "outputId": "fd92bfb8-a155-4066-d8c9-7758fd97f98b"
      },
      "outputs": [
        {
          "name": "stdout",
          "output_type": "stream",
          "text": [
            "{('AAPL', '2024-01-10'): 175.5, 1: 'primer elemento', 'mercado': 'EEUU'}\n"
          ]
        }
      ],
      "source": [
        "print(d)"
      ]
    },
    {
      "cell_type": "code",
      "execution_count": null,
      "id": "HkmnAclG4ljI",
      "metadata": {
        "colab": {
          "base_uri": "https://localhost:8080/"
        },
        "id": "HkmnAclG4ljI",
        "outputId": "43e6a689-1ecf-4fd2-cbf6-c5a58ad761f8"
      },
      "outputs": [
        {
          "name": "stdout",
          "output_type": "stream",
          "text": [
            "{'AAPL': 175.5, 'MSFT': 410.2, 'GOOG': 145.8}\n"
          ]
        }
      ],
      "source": [
        "# Creamos un diccionario con stocks y sus respectivos precios de cierre del dia\n",
        "precios_cierre = {\n",
        "    \"AAPL\": 175.5,\n",
        "    \"MSFT\": 410.2,\n",
        "    \"GOOG\": 145.8\n",
        "}\n",
        "print(precios_cierre)"
      ]
    },
    {
      "cell_type": "code",
      "execution_count": null,
      "id": "HEHMc96Z4wPE",
      "metadata": {
        "colab": {
          "base_uri": "https://localhost:8080/"
        },
        "id": "HEHMc96Z4wPE",
        "outputId": "735a9753-e8ab-454a-bd11-efb99cb21c6d"
      },
      "outputs": [
        {
          "name": "stdout",
          "output_type": "stream",
          "text": [
            "175.5\n"
          ]
        }
      ],
      "source": [
        "# Utilizamos las claves para buscar los valores en este diccionario\n",
        "print(precios_cierre['AAPL'])"
      ]
    },
    {
      "cell_type": "code",
      "execution_count": null,
      "id": "xB2vkqNq44Ok",
      "metadata": {
        "colab": {
          "base_uri": "https://localhost:8080/"
        },
        "id": "xB2vkqNq44Ok",
        "outputId": "cbec438e-eb86-4405-ca1a-6f2f53c81113"
      },
      "outputs": [
        {
          "name": "stdout",
          "output_type": "stream",
          "text": [
            "410.2\n"
          ]
        }
      ],
      "source": [
        "# Utilizamos las claves para buscar los valores en este diccionario\n",
        "print(precios_cierre['MSFT'])"
      ]
    },
    {
      "cell_type": "code",
      "execution_count": null,
      "id": "voGuyGol45s_",
      "metadata": {
        "colab": {
          "base_uri": "https://localhost:8080/"
        },
        "id": "voGuyGol45s_",
        "outputId": "050acba4-fbea-478c-af8e-c3a2b60f6350"
      },
      "outputs": [
        {
          "name": "stdout",
          "output_type": "stream",
          "text": [
            "145.8\n"
          ]
        }
      ],
      "source": [
        "# Utilizamos las claves para buscar los valores en este diccionario\n",
        "print(precios_cierre['GOOG'])"
      ]
    },
    {
      "cell_type": "code",
      "execution_count": null,
      "id": "UiFoN_S_XxFv",
      "metadata": {
        "colab": {
          "base_uri": "https://localhost:8080/"
        },
        "id": "UiFoN_S_XxFv",
        "outputId": "92982eb6-cf1c-4cd2-8050-c076c7cc1ce9"
      },
      "outputs": [
        {
          "data": {
            "text/plain": [
              "175.5"
            ]
          },
          "execution_count": 149,
          "metadata": {},
          "output_type": "execute_result"
        }
      ],
      "source": [
        "precios_cierre.get(\"AAPL\")"
      ]
    },
    {
      "cell_type": "code",
      "execution_count": null,
      "id": "rfqIqa3zXt62",
      "metadata": {
        "colab": {
          "base_uri": "https://localhost:8080/"
        },
        "id": "rfqIqa3zXt62",
        "outputId": "33297f91-f880-4e66-bc49-b0604be37cd8"
      },
      "outputs": [
        {
          "data": {
            "text/plain": [
              "410.2"
            ]
          },
          "execution_count": 148,
          "metadata": {},
          "output_type": "execute_result"
        }
      ],
      "source": [
        "precios_cierre.get(\"MSFT\")"
      ]
    },
    {
      "cell_type": "code",
      "execution_count": null,
      "id": "yLNh0p3WXygR",
      "metadata": {
        "colab": {
          "base_uri": "https://localhost:8080/"
        },
        "id": "yLNh0p3WXygR",
        "outputId": "eef73594-22c3-4d7d-d75a-193b1f9e6187"
      },
      "outputs": [
        {
          "data": {
            "text/plain": [
              "145.8"
            ]
          },
          "execution_count": 150,
          "metadata": {},
          "output_type": "execute_result"
        }
      ],
      "source": [
        "precios_cierre.get(\"GOOG\")"
      ]
    },
    {
      "cell_type": "code",
      "execution_count": null,
      "id": "RmM8pGjMX2E0",
      "metadata": {
        "id": "RmM8pGjMX2E0"
      },
      "outputs": [],
      "source": [
        "precios_cierre.get(\"CLASE\")"
      ]
    },
    {
      "cell_type": "markdown",
      "id": "k9jQCsWZ7iTH",
      "metadata": {
        "id": "k9jQCsWZ7iTH"
      },
      "source": [
        "Operaciones sobre conjuntos con `set`"
      ]
    },
    {
      "cell_type": "code",
      "execution_count": null,
      "id": "ho8XsmXa7hnO",
      "metadata": {
        "colab": {
          "base_uri": "https://localhost:8080/"
        },
        "id": "ho8XsmXa7hnO",
        "outputId": "82974c59-8a9c-4a0a-a3f8-21719eb33230"
      },
      "outputs": [
        {
          "name": "stdout",
          "output_type": "stream",
          "text": [
            "Universo A: {'GOOG', 'AAPL', 'TSLA', 'MSFT'}\n",
            "Universo B: {'GOOG', 'TSLA', 'AMZN', 'NFLX'}\n"
          ]
        }
      ],
      "source": [
        "# Definimos dos sets de ejemplo\n",
        "universo_a = {\"AAPL\", \"MSFT\", \"GOOG\", \"TSLA\"}\n",
        "universo_b = {\"GOOG\", \"TSLA\", \"NFLX\", \"AMZN\"}\n",
        "\n",
        "print(\"Universo A:\", universo_a)\n",
        "print(\"Universo B:\", universo_b)"
      ]
    },
    {
      "cell_type": "code",
      "execution_count": null,
      "id": "RkHePoPL7nXH",
      "metadata": {
        "colab": {
          "base_uri": "https://localhost:8080/"
        },
        "id": "RkHePoPL7nXH",
        "outputId": "d4043999-3247-49f1-9c34-9bec16c6edc7"
      },
      "outputs": [
        {
          "name": "stdout",
          "output_type": "stream",
          "text": [
            "Unión (A ∪ B): {'AAPL', 'TSLA', 'NFLX', 'GOOG', 'AMZN', 'MSFT'}\n"
          ]
        }
      ],
      "source": [
        "# 1) Unión: elementos en A o B (A ∪ B)\n",
        "union = universo_a | universo_b\n",
        "print(\"Unión (A ∪ B):\", union)"
      ]
    },
    {
      "cell_type": "code",
      "execution_count": null,
      "id": "MAz0dlu17o07",
      "metadata": {
        "colab": {
          "base_uri": "https://localhost:8080/"
        },
        "id": "MAz0dlu17o07",
        "outputId": "cb51b0aa-2385-40c9-915b-e4510f8be5b0"
      },
      "outputs": [
        {
          "name": "stdout",
          "output_type": "stream",
          "text": [
            "Intersección (A ∩ B): {'GOOG', 'TSLA'}\n"
          ]
        }
      ],
      "source": [
        "# 2) Intersección: elementos en A y B (A ∩ B)\n",
        "interseccion = universo_a & universo_b\n",
        "print(\"Intersección (A ∩ B):\", interseccion)"
      ]
    },
    {
      "cell_type": "code",
      "execution_count": null,
      "id": "CLEUyDX77rCt",
      "metadata": {
        "colab": {
          "base_uri": "https://localhost:8080/"
        },
        "id": "CLEUyDX77rCt",
        "outputId": "b984b79a-7862-4163-a9b9-4e71c1f97c58"
      },
      "outputs": [
        {
          "name": "stdout",
          "output_type": "stream",
          "text": [
            "Diferencia (A − B): {'AAPL', 'MSFT'}\n"
          ]
        }
      ],
      "source": [
        "# 3) Diferencia: elementos en A que no están en B (A − B)\n",
        "diferencia = universo_a - universo_b\n",
        "print(\"Diferencia (A − B):\", diferencia)"
      ]
    },
    {
      "cell_type": "code",
      "execution_count": null,
      "id": "II0vuue-7rJl",
      "metadata": {
        "colab": {
          "base_uri": "https://localhost:8080/"
        },
        "id": "II0vuue-7rJl",
        "outputId": "bd69c42c-9d42-4e0b-86d5-7b46ce142247"
      },
      "outputs": [
        {
          "name": "stdout",
          "output_type": "stream",
          "text": [
            "Diferencia simétrica (A Δ B): {'AAPL', 'NFLX', 'AMZN', 'MSFT'}\n"
          ]
        }
      ],
      "source": [
        "# 4) Diferencia simétrica: elementos en A o en B, pero no en ambos (A Δ B)\n",
        "sim_diff = universo_a ^ universo_b\n",
        "print(\"Diferencia simétrica (A Δ B):\", sim_diff)"
      ]
    },
    {
      "cell_type": "code",
      "execution_count": null,
      "id": "wKghljdq73j0",
      "metadata": {
        "colab": {
          "base_uri": "https://localhost:8080/"
        },
        "id": "wKghljdq73j0",
        "outputId": "9484b59e-9afc-48e6-94e4-5b4545ffee9d"
      },
      "outputs": [
        {
          "data": {
            "text/plain": [
              "True"
            ]
          },
          "execution_count": 157,
          "metadata": {},
          "output_type": "execute_result"
        }
      ],
      "source": [
        "# 5) Pertenencia: 'in' en set\n",
        "\"AAPL\" in {\"AAPL\", \"AMZN\"}"
      ]
    },
    {
      "cell_type": "code",
      "execution_count": null,
      "id": "KF9jz5728A5l",
      "metadata": {
        "colab": {
          "base_uri": "https://localhost:8080/"
        },
        "id": "KF9jz5728A5l",
        "outputId": "ae7048c1-1c30-4daf-d1d4-4c4148b0c47a"
      },
      "outputs": [
        {
          "name": "stdout",
          "output_type": "stream",
          "text": [
            "{'GOOG', 'AAPL', 'MSFT'}\n"
          ]
        }
      ],
      "source": [
        "# 6) Eliminar duplicados con set\n",
        "lista_mixta = [\"AAPL\", \"GOOG\", \"AAPL\", \"MSFT\", \"GOOG\"]\n",
        "sin_duplicados = set(lista_mixta)\n",
        "print(sin_duplicados)"
      ]
    },
    {
      "cell_type": "markdown",
      "id": "8SEN5aftryR1",
      "metadata": {
        "id": "8SEN5aftryR1"
      },
      "source": [
        "*   **Diccionarios** (`dict`):"
      ]
    },
    {
      "cell_type": "markdown",
      "id": "o___9FSdr0lO",
      "metadata": {
        "id": "o___9FSdr0lO"
      },
      "source": [
        "| Signo/Función/Método | Función (Descripción)                                         |\n",
        "| :------------------- | :------------------------------------------------------------ |\n",
        "| `[]`                 | Acceso por clave (obtener o asignar un valor por su clave)    |\n",
        "| `len()`              | Longitud (obtener el número de pares clave-valor)             |\n",
        "| `in`                 | Pertenencia (verificar si una clave existe en el diccionario) |\n",
        "| `not in`             | No pertenencia (verificar si una clave no existe)             |\n",
        "| `dict.get()`         | Obtener valor por clave de forma segura (con valor por defecto) |\n",
        "| `dict.keys()`        | Obtener una vista de las claves del diccionario               |\n",
        "| `dict.values()`      | Obtener una vista de los valores del diccionario              |\n",
        "| `dict.items()`       | Obtener una vista de los pares (clave, valor) del diccionario |\n",
        "| `dict.pop()`         | Quitar un par clave-valor por clave y devolver el valor       |\n",
        "| `dict.popitem()`     | Quitar y devolver un par (clave, valor) (generalmente el último insertado en Python 3.7+) |\n",
        "| `dict.clear()`       | Eliminar todos los elementos del diccionario                  |\n",
        "| `dict.update()`      | Añadir pares de otro diccionario o iterable de pares (clave, valor) |\n",
        "| `dict.copy()`        | Crear una copia superficial del diccionario                   |\n",
        "| `dict.setdefault()`  | Obtener valor por clave; si la clave no existe, insertarla con un valor por defecto y devolverlo |\n",
        "| `dict.fromkeys()`    | Crear un nuevo diccionario con claves de una secuencia y un valor opcional por defecto |\n",
        "| `del` (sentencia)    | Eliminar un par clave-valor por clave                         |"
      ]
    },
    {
      "cell_type": "code",
      "execution_count": null,
      "id": "1IgsCqDSr3UZ",
      "metadata": {
        "colab": {
          "base_uri": "https://localhost:8080/"
        },
        "id": "1IgsCqDSr3UZ",
        "outputId": "321c0d6c-a97f-4aa2-c0c1-2b0880b8f3ee"
      },
      "outputs": [
        {
          "name": "stdout",
          "output_type": "stream",
          "text": [
            "Precio de AAPL: 190.5\n"
          ]
        }
      ],
      "source": [
        "# Ejemplo de operador: [] Acceso por clave (obtener)\n",
        "cotizaciones = {'AAPL': 190.50, 'MSFT': 420.30, 'GOOGL': 175.80}\n",
        "precio_apple = cotizaciones['AAPL']\n",
        "print(\"Precio de AAPL:\", precio_apple)"
      ]
    },
    {
      "cell_type": "code",
      "execution_count": null,
      "id": "ofk7TrbHr45v",
      "metadata": {
        "colab": {
          "base_uri": "https://localhost:8080/"
        },
        "id": "ofk7TrbHr45v",
        "outputId": "78824a70-f3e5-4929-9cd0-1e3d16441643"
      },
      "outputs": [
        {
          "name": "stdout",
          "output_type": "stream",
          "text": [
            "Cartera antes: {'IBM': 100, 'TSLA': 50}\n",
            "Cartera después: {'IBM': 120, 'TSLA': 50, 'AMZN': 75}\n"
          ]
        }
      ],
      "source": [
        "# Ejemplo de operador: [] Acceso por clave (asignar/modificar)\n",
        "cartera = {'IBM': 100, 'TSLA': 50}\n",
        "print(\"Cartera antes:\", cartera)\n",
        "cartera['IBM'] = 120 # Modificar cantidad\n",
        "cartera['AMZN'] = 75 # Añadir nueva acción\n",
        "print(\"Cartera después:\", cartera)"
      ]
    },
    {
      "cell_type": "code",
      "execution_count": null,
      "id": "hZ7deDf_r5th",
      "metadata": {
        "colab": {
          "base_uri": "https://localhost:8080/"
        },
        "id": "hZ7deDf_r5th",
        "outputId": "f8c23de5-5bbd-4020-823e-15f247acd186"
      },
      "outputs": [
        {
          "name": "stdout",
          "output_type": "stream",
          "text": [
            "Número de atributos del bono: 4\n"
          ]
        }
      ],
      "source": [
        "# Ejemplo de función integrada: len() Longitud\n",
        "datos_bono = {\n",
        "    \"isin\": \"ES0000012345\",\n",
        "    \"emisor\": \"Tesoro Público\",\n",
        "    \"vencimiento\": \"2030-10-31\",\n",
        "    \"tir\": 0.035\n",
        "}\n",
        "numero_atributos_bono = len(datos_bono)\n",
        "print(\"Número de atributos del bono:\", numero_atributos_bono)"
      ]
    },
    {
      "cell_type": "code",
      "execution_count": null,
      "id": "QsU_78Tjr6pw",
      "metadata": {
        "colab": {
          "base_uri": "https://localhost:8080/"
        },
        "id": "QsU_78Tjr6pw",
        "outputId": "8b5b0ab9-656d-45fe-bfee-ba4ef2f46944"
      },
      "outputs": [
        {
          "name": "stdout",
          "output_type": "stream",
          "text": [
            "¿Existe la clave 'sector'?: True\n",
            "¿Existe la clave 'pais'?: False\n"
          ]
        }
      ],
      "source": [
        "# Ejemplo de operador: in Pertenencia (verificar si una clave existe)\n",
        "datos_empresa = {'ticker': 'MSFT', 'sector': 'Tecnología', 'capitalizacion': 'Grande'}\n",
        "clave_existente = 'sector'\n",
        "clave_inexistente = 'pais'\n",
        "existe_sector = clave_existente in datos_empresa\n",
        "existe_pais = clave_inexistente in datos_empresa\n",
        "print(\"¿Existe la clave 'sector'?:\", existe_sector)\n",
        "print(\"¿Existe la clave 'pais'?:\", existe_pais)"
      ]
    },
    {
      "cell_type": "code",
      "execution_count": null,
      "id": "Ude-SO6Pr78v",
      "metadata": {
        "colab": {
          "base_uri": "https://localhost:8080/"
        },
        "id": "Ude-SO6Pr78v",
        "outputId": "6d5174fb-225f-40d0-aa52-48d96c5af088"
      },
      "outputs": [
        {
          "name": "stdout",
          "output_type": "stream",
          "text": [
            "¿'sector' not in datos_empresa?: False\n",
            "¿'pais' not in datos_empresa?: True\n"
          ]
        }
      ],
      "source": [
        "# Ejemplo de operador: not in No pertenencia (verificar si una clave no existe)\n",
        "datos_empresa = {'ticker': 'MSFT', 'sector': 'Tecnología', 'capitalizacion': 'Grande'}\n",
        "clave_existente = 'sector'\n",
        "clave_inexistente = 'pais'\n",
        "no_existe_sector = clave_existente not in datos_empresa\n",
        "no_existe_pais = clave_inexistente not in datos_empresa\n",
        "print(\"¿'sector' not in datos_empresa?:\", no_existe_sector)\n",
        "print(\"¿'pais' not in datos_empresa?:\", no_existe_pais)"
      ]
    },
    {
      "cell_type": "code",
      "execution_count": null,
      "id": "ughvjazVr9II",
      "metadata": {
        "colab": {
          "base_uri": "https://localhost:8080/"
        },
        "id": "ughvjazVr9II",
        "outputId": "3acfbd43-5193-4256-dc66-898147c20317"
      },
      "outputs": [
        {
          "name": "stdout",
          "output_type": "stream",
          "text": [
            "Precio de GOOGL (sin defecto): None\n",
            "Precio de AAPL (con defecto 0.0 si no existe): 190.5\n",
            "Precio de GOOGL (con defecto 'N/A'): N/A\n"
          ]
        }
      ],
      "source": [
        "# Ejemplo de método: dict.get() Obtener valor de forma segura\n",
        "cotizaciones = {'AAPL': 190.50, 'MSFT': 420.30}\n",
        "precio_googl = cotizaciones.get('GOOGL') # La clave 'GOOGL' no existe\n",
        "precio_aapl = cotizaciones.get('AAPL', 0.0) # Obtener 'AAPL', 0.0 si no existe\n",
        "precio_googl_defecto = cotizaciones.get('GOOGL', 'N/A') # Obtener 'GOOGL', 'N/A' si no existe\n",
        "\n",
        "print(\"Precio de GOOGL (sin defecto):\", precio_googl)\n",
        "print(\"Precio de AAPL (con defecto 0.0 si no existe):\", precio_aapl)\n",
        "print(\"Precio de GOOGL (con defecto 'N/A'):\", precio_googl_defecto)"
      ]
    },
    {
      "cell_type": "code",
      "execution_count": null,
      "id": "DfiX0wAZr9K8",
      "metadata": {
        "colab": {
          "base_uri": "https://localhost:8080/"
        },
        "id": "DfiX0wAZr9K8",
        "outputId": "ab198b94-50a8-4aad-c206-4ee924dd8cf6"
      },
      "outputs": [
        {
          "name": "stdout",
          "output_type": "stream",
          "text": [
            "Claves de los parámetros: ['tasa_descuento', 'volatilidad', 'horizonte']\n"
          ]
        }
      ],
      "source": [
        "# Ejemplo de método: dict.keys() Obtener las claves\n",
        "parametros_modelo = {'tasa_descuento': 0.05, 'volatilidad': 0.20, 'horizonte': 5}\n",
        "claves_parametros = parametros_modelo.keys()\n",
        "print(\"Claves de los parámetros:\", list(claves_parametros)) # Convertimos a lista para visualización"
      ]
    },
    {
      "cell_type": "code",
      "execution_count": null,
      "id": "Lbt3Clb7ZiMz",
      "metadata": {
        "colab": {
          "base_uri": "https://localhost:8080/"
        },
        "id": "Lbt3Clb7ZiMz",
        "outputId": "b2ce3b2f-4115-48d8-a75f-56eda36de9bc"
      },
      "outputs": [
        {
          "data": {
            "text/plain": [
              "dict_keys(['tasa_descuento', 'volatilidad', 'horizonte'])"
            ]
          },
          "execution_count": 166,
          "metadata": {},
          "output_type": "execute_result"
        }
      ],
      "source": [
        "parametros_modelo.keys()"
      ]
    },
    {
      "cell_type": "code",
      "execution_count": null,
      "id": "7xwMXwf6r9Nw",
      "metadata": {
        "colab": {
          "base_uri": "https://localhost:8080/"
        },
        "id": "7xwMXwf6r9Nw",
        "outputId": "98f8b59f-7a08-4672-97ce-6ff3f4945c50"
      },
      "outputs": [
        {
          "name": "stdout",
          "output_type": "stream",
          "text": [
            "Valores de los parámetros: [0.05, 0.2, 5]\n"
          ]
        }
      ],
      "source": [
        "# Ejemplo de método: dict.values() Obtener los valores\n",
        "parametros_modelo = {'tasa_descuento': 0.05, 'volatilidad': 0.20, 'horizonte': 5}\n",
        "valores_parametros = parametros_modelo.values()\n",
        "print(\"Valores de los parámetros:\", list(valores_parametros)) # Convertimos a lista"
      ]
    },
    {
      "cell_type": "code",
      "execution_count": null,
      "id": "USruppOGZo9J",
      "metadata": {
        "colab": {
          "base_uri": "https://localhost:8080/"
        },
        "id": "USruppOGZo9J",
        "outputId": "57b30041-adb9-48b8-baa5-2bedd34f7d1c"
      },
      "outputs": [
        {
          "data": {
            "text/plain": [
              "dict_values([0.05, 0.2, 5])"
            ]
          },
          "execution_count": 168,
          "metadata": {},
          "output_type": "execute_result"
        }
      ],
      "source": [
        "parametros_modelo.values()"
      ]
    },
    {
      "cell_type": "code",
      "execution_count": null,
      "id": "8SfQdsFJr9QP",
      "metadata": {
        "colab": {
          "base_uri": "https://localhost:8080/"
        },
        "id": "8SfQdsFJr9QP",
        "outputId": "32f55bcc-1869-4c8d-8389-4c0e4ceab274"
      },
      "outputs": [
        {
          "name": "stdout",
          "output_type": "stream",
          "text": [
            "Pares (clave, valor): [('tasa_descuento', 0.05), ('volatilidad', 0.2), ('horizonte', 5)]\n"
          ]
        }
      ],
      "source": [
        "# Ejemplo de método: dict.items() Obtener pares clave-valor\n",
        "parametros_modelo = {'tasa_descuento': 0.05, 'volatilidad': 0.20, 'horizonte': 5}\n",
        "items_parametros = parametros_modelo.items()\n",
        "print(\"Pares (clave, valor):\", list(items_parametros)) # Convertimos a lista de tuplas"
      ]
    },
    {
      "cell_type": "code",
      "execution_count": null,
      "id": "EK396ZYbZxUJ",
      "metadata": {
        "colab": {
          "base_uri": "https://localhost:8080/"
        },
        "id": "EK396ZYbZxUJ",
        "outputId": "062cbbd5-65b3-45a1-96a9-3b1102e1cd48"
      },
      "outputs": [
        {
          "data": {
            "text/plain": [
              "dict_items([('tasa_descuento', 0.05), ('volatilidad', 0.2), ('horizonte', 5)])"
            ]
          },
          "execution_count": 170,
          "metadata": {},
          "output_type": "execute_result"
        }
      ],
      "source": [
        "parametros_modelo.items()"
      ]
    },
    {
      "cell_type": "code",
      "execution_count": null,
      "id": "RkqVc6yksA83",
      "metadata": {
        "colab": {
          "base_uri": "https://localhost:8080/"
        },
        "id": "RkqVc6yksA83",
        "outputId": "756dd5cf-c2cf-4781-90d0-c14c6637af21"
      },
      "outputs": [
        {
          "name": "stdout",
          "output_type": "stream",
          "text": [
            "Cotizaciones antes de pop(): {'TSLA': 180.0, 'NVDA': 900.0, 'COIN': 250.0}\n",
            "Precio removido de NVDA: 900.0\n",
            "Cotizaciones después de pop(): {'TSLA': 180.0, 'COIN': 250.0}\n",
            "Precio removido de AAPL (con defecto): None\n"
          ]
        }
      ],
      "source": [
        "# Ejemplo de método: dict.pop() Quitar un par por clave\n",
        "cotizaciones_volatiles = {'TSLA': 180.00, 'NVDA': 900.00, 'COIN': 250.00}\n",
        "print(\"Cotizaciones antes de pop():\", cotizaciones_volatiles)\n",
        "precio_removido = cotizaciones_volatiles.pop('NVDA') # Quita 'NVDA' y devuelve su valor\n",
        "print(\"Precio removido de NVDA:\", precio_removido)\n",
        "print(\"Cotizaciones después de pop():\", cotizaciones_volatiles)\n",
        "\n",
        "# Intentar quitar una clave que no existe causará un KeyError, a menos que se proporcione un valor por defecto\n",
        "# precio_inexistente = cotizaciones_volatiles.pop('AAPL') # Esto daría error\n",
        "precio_inexistente_defecto = cotizaciones_volatiles.pop('AAPL', None) # Devuelve None si 'AAPL' no existe\n",
        "print(\"Precio removido de AAPL (con defecto):\", precio_inexistente_defecto)"
      ]
    },
    {
      "cell_type": "code",
      "execution_count": null,
      "id": "XUtGI0gCsA_j",
      "metadata": {
        "colab": {
          "base_uri": "https://localhost:8080/"
        },
        "id": "XUtGI0gCsA_j",
        "outputId": "f770352c-75ab-4be7-a9d8-401577634a88"
      },
      "outputs": [
        {
          "name": "stdout",
          "output_type": "stream",
          "text": [
            "Transacciones antes de popitem(): {'fecha1': 'Compra AAPL', 'fecha2': 'Venta MSFT', 'fecha3': 'Compra GOOGL'}\n",
            "Última transacción: ('fecha3', 'Compra GOOGL')\n",
            "Transacciones después de popitem(): {'fecha1': 'Compra AAPL', 'fecha2': 'Venta MSFT'}\n"
          ]
        }
      ],
      "source": [
        "# Ejemplo de método: dict.popitem() Quitar el último par (generalmente)\n",
        "transacciones_recientes = {'fecha1': 'Compra AAPL', 'fecha2': 'Venta MSFT', 'fecha3': 'Compra GOOGL'}\n",
        "print(\"Transacciones antes de popitem():\", transacciones_recientes)\n",
        "ultima_transaccion = transacciones_recientes.popitem() # Quita el último (clave, valor)\n",
        "print(\"Última transacción:\", ultima_transaccion)\n",
        "print(\"Transacciones después de popitem():\", transacciones_recientes)"
      ]
    },
    {
      "cell_type": "code",
      "execution_count": null,
      "id": "CKC6cQN7sBB-",
      "metadata": {
        "colab": {
          "base_uri": "https://localhost:8080/"
        },
        "id": "CKC6cQN7sBB-",
        "outputId": "cbd3d391-439c-4ea5-aa3b-4558bb3925a3"
      },
      "outputs": [
        {
          "name": "stdout",
          "output_type": "stream",
          "text": [
            "Diccionario temporal antes de clear(): {'clave1': 123, 'clave2': 'abc'}\n",
            "Diccionario temporal después de clear(): {}\n"
          ]
        }
      ],
      "source": [
        "# Ejemplo de método: dict.clear() Eliminar todos los elementos\n",
        "datos_temporales = {'clave1': 123, 'clave2': 'abc'}\n",
        "print(\"Diccionario temporal antes de clear():\", datos_temporales)\n",
        "datos_temporales.clear()\n",
        "print(\"Diccionario temporal después de clear():\", datos_temporales)"
      ]
    },
    {
      "cell_type": "code",
      "execution_count": null,
      "id": "kAhisflMsBEo",
      "metadata": {
        "colab": {
          "base_uri": "https://localhost:8080/"
        },
        "id": "kAhisflMsBEo",
        "outputId": "42239b6d-6843-41da-9360-49123a41cce9"
      },
      "outputs": [
        {
          "name": "stdout",
          "output_type": "stream",
          "text": [
            "Datos base antes de update(): {'ticker': 'AAPL', 'industria': 'Tecnología'}\n",
            "Datos base después de update(): {'ticker': 'AAPL', 'industria': 'Tecnología', 'precio_cierre': 190.5, 'volumen': 1500000}\n",
            "Datos base después de update() con nuevo precio: {'ticker': 'AAPL', 'industria': 'Tecnología', 'precio_cierre': 191.0, 'volumen': 1500000}\n"
          ]
        }
      ],
      "source": [
        "# Ejemplo de método: dict.update() Añadir o actualizar pares\n",
        "datos_base = {'ticker': 'AAPL', 'industria': 'Tecnología'}\n",
        "datos_adicionales = {'precio_cierre': 190.50, 'volumen': 1500000}\n",
        "print(\"Datos base antes de update():\", datos_base)\n",
        "datos_base.update(datos_adicionales) # Añade los pares de datos_adicionales\n",
        "print(\"Datos base después de update():\", datos_base)\n",
        "\n",
        "# Update también puede actualizar valores existentes\n",
        "actualizacion_precio = {'precio_cierre': 191.00}\n",
        "datos_base.update(actualizacion_precio)\n",
        "print(\"Datos base después de update() con nuevo precio:\", datos_base)"
      ]
    },
    {
      "cell_type": "code",
      "execution_count": null,
      "id": "o9kkNUgtr9S1",
      "metadata": {
        "colab": {
          "base_uri": "https://localhost:8080/"
        },
        "id": "o9kkNUgtr9S1",
        "outputId": "ca384826-ca17-4df5-d7d2-fb7c58729f52"
      },
      "outputs": [
        {
          "name": "stdout",
          "output_type": "stream",
          "text": [
            "Configuración predeterminada: {'tasa_riesgo': 0.02, 'idioma': 'es'}\n",
            "Configuración del proyecto (copia): {'tasa_riesgo': 0.02, 'idioma': 'es'}\n",
            "\n",
            "Configuración predeterminada después de modificar la copia: {'tasa_riesgo': 0.02, 'idioma': 'es'}\n",
            "Configuración del proyecto después de modificar la copia: {'tasa_riesgo': 0.02, 'idioma': 'en'}\n"
          ]
        }
      ],
      "source": [
        "# Ejemplo de método: dict.copy() Crear una copia superficial\n",
        "configuracion_predeterminada = {'tasa_riesgo': 0.02, 'idioma': 'es'}\n",
        "configuracion_proyecto = configuracion_predeterminada.copy() # Copia superficial\n",
        "\n",
        "print(\"Configuración predeterminada:\", configuracion_predeterminada)\n",
        "print(\"Configuración del proyecto (copia):\", configuracion_proyecto)\n",
        "\n",
        "# Modificar la copia no afecta al original (para elementos inmutables)\n",
        "configuracion_proyecto['idioma'] = 'en'\n",
        "print(\"\\nConfiguración predeterminada después de modificar la copia:\", configuracion_predeterminada)\n",
        "print(\"Configuración del proyecto después de modificar la copia:\", configuracion_proyecto)\n",
        "\n",
        "# Nota: Para elementos mutables dentro del diccionario (como listas o otros diccionarios), una copia superficial aún compartirá referencias."
      ]
    },
    {
      "cell_type": "code",
      "execution_count": null,
      "id": "4ECDkutlsFxF",
      "metadata": {
        "colab": {
          "base_uri": "https://localhost:8080/"
        },
        "id": "4ECDkutlsFxF",
        "outputId": "65d2d179-f5f1-4a0c-99a8-24d198edbdc8"
      },
      "outputs": [
        {
          "name": "stdout",
          "output_type": "stream",
          "text": [
            "Email del cliente: desconocido@ejemplo.com\n",
            "Datos del cliente después de setdefault (email añadido): {'id': 101, 'nombre': 'Juan Perez', 'email': 'desconocido@ejemplo.com'}\n",
            "Nombre del cliente (usando setdefault en clave existente): Juan Perez\n",
            "Datos del cliente después de setdefault (clave existente, no cambia): {'id': 101, 'nombre': 'Juan Perez', 'email': 'desconocido@ejemplo.com'}\n"
          ]
        }
      ],
      "source": [
        "# Ejemplo de método: dict.setdefault() Obtener valor o insertar con defecto\n",
        "datos_cliente = {'id': 101, 'nombre': 'Juan Perez'}\n",
        "# Obtener el email si existe, si no, añadirlo con un valor por defecto y devolverlo\n",
        "email_cliente = datos_cliente.setdefault('email', 'desconocido@ejemplo.com')\n",
        "print(\"Email del cliente:\", email_cliente)\n",
        "print(\"Datos del cliente después de setdefault (email añadido):\", datos_cliente)\n",
        "\n",
        "# Si la clave ya existe, setdefault solo devuelve el valor existente\n",
        "email_cliente_existente = datos_cliente.setdefault('nombre', 'Nombre Desconocido')\n",
        "print(\"Nombre del cliente (usando setdefault en clave existente):\", email_cliente_existente)\n",
        "print(\"Datos del cliente después de setdefault (clave existente, no cambia):\", datos_cliente)"
      ]
    },
    {
      "cell_type": "code",
      "execution_count": null,
      "id": "fuxY0cclsF1w",
      "metadata": {
        "colab": {
          "base_uri": "https://localhost:8080/"
        },
        "id": "fuxY0cclsF1w",
        "outputId": "cf0ae920-f9fc-4ca2-a07b-061c26819ba2"
      },
      "outputs": [
        {
          "name": "stdout",
          "output_type": "stream",
          "text": [
            "Diccionario de cotizaciones iniciales: {'AAPL': 0.0, 'MSFT': 0.0, 'GOOGL': 0.0}\n",
            "Diccionario de métricas vacías: {'ROI': None, 'Sharpe Ratio': None, 'Volatilidad': None}\n"
          ]
        }
      ],
      "source": [
        "# Ejemplo de método: dict.fromkeys() Crear un diccionario desde claves\n",
        "lista_tickers_inicial = ['AAPL', 'MSFT', 'GOOGL']\n",
        "valor_inicial_precio = 0.0 # Precio inicial desconocido\n",
        "cotizaciones_iniciales = dict.fromkeys(lista_tickers_inicial, valor_inicial_precio)\n",
        "print(\"Diccionario de cotizaciones iniciales:\", cotizaciones_iniciales)\n",
        "\n",
        "# Crear un diccionario con claves sin valor inicial (por defecto None)\n",
        "metricas_vacias = dict.fromkeys(['ROI', 'Sharpe Ratio', 'Volatilidad'])\n",
        "print(\"Diccionario de métricas vacías:\", metricas_vacias)"
      ]
    },
    {
      "cell_type": "code",
      "execution_count": null,
      "id": "CBK8WWAysF4Q",
      "metadata": {
        "colab": {
          "base_uri": "https://localhost:8080/"
        },
        "id": "CBK8WWAysF4Q",
        "outputId": "c51a8789-9f2d-4373-a9a6-062ea07d5816"
      },
      "outputs": [
        {
          "name": "stdout",
          "output_type": "stream",
          "text": [
            "Datos de análisis antes de del: {'activo': 'MSFT', 'beta': 1.2, 'r_cuadrado': 0.85}\n",
            "Datos de análisis después de del: {'activo': 'MSFT', 'beta': 1.2}\n"
          ]
        }
      ],
      "source": [
        "# Ejemplo de sentencia: del Eliminar un par clave-valor\n",
        "datos_analisis = {'activo': 'MSFT', 'beta': 1.2, 'r_cuadrado': 0.85}\n",
        "print(\"Datos de análisis antes de del:\", datos_analisis)\n",
        "del datos_analisis['r_cuadrado'] # Elimina el par con la clave 'r_cuadrado'\n",
        "print(\"Datos de análisis después de del:\", datos_analisis)\n",
        "\n",
        "# Intentar eliminar una clave que no existe causará un KeyError\n",
        "# del datos_analisis['alfa'] # Esto daría error"
      ]
    },
    {
      "cell_type": "markdown",
      "id": "9bb09b5f",
      "metadata": {
        "id": "9bb09b5f"
      },
      "source": [
        "\n",
        "## `collections`: `defaultdict` y `Counter`\n",
        "- `defaultdict(list)`"
      ]
    },
    {
      "cell_type": "code",
      "execution_count": null,
      "id": "6xLOlE8s8Jb-",
      "metadata": {
        "id": "6xLOlE8s8Jb-"
      },
      "outputs": [],
      "source": [
        "from collections import defaultdict\n",
        "grupos = defaultdict(list)       # Proporciona un valor determinado automáticamente para las claves que NO existen"
      ]
    },
    {
      "cell_type": "code",
      "execution_count": null,
      "id": "ntf8tyh3FgIM",
      "metadata": {
        "colab": {
          "base_uri": "https://localhost:8080/"
        },
        "id": "ntf8tyh3FgIM",
        "outputId": "02c7fa51-cabd-413e-b643-e2f98541ed92"
      },
      "outputs": [
        {
          "data": {
            "text/plain": [
              "[]"
            ]
          },
          "execution_count": 181,
          "metadata": {},
          "output_type": "execute_result"
        }
      ],
      "source": [
        "grupos['a']"
      ]
    },
    {
      "cell_type": "markdown",
      "id": "VwLf402C-NtH",
      "metadata": {
        "id": "VwLf402C-NtH"
      },
      "source": [
        "- `Counter` cuenta frecuencias rápidamente."
      ]
    },
    {
      "cell_type": "code",
      "execution_count": null,
      "id": "BDL6MzBc-NM7",
      "metadata": {
        "id": "BDL6MzBc-NM7"
      },
      "outputs": [],
      "source": [
        "from collections import Counter\n",
        "\n",
        "# Lista de tipos de ordenes\n",
        "tipos = [\"BUY\", \"SELL\", \"BUY\"]"
      ]
    },
    {
      "cell_type": "code",
      "execution_count": null,
      "id": "PzUB1Vz9_P16",
      "metadata": {
        "colab": {
          "base_uri": "https://localhost:8080/"
        },
        "id": "PzUB1Vz9_P16",
        "outputId": "b4324198-7d4c-4c03-de8e-02c20a198561"
      },
      "outputs": [
        {
          "name": "stdout",
          "output_type": "stream",
          "text": [
            "Counter({'BUY': 2, 'SELL': 1})\n"
          ]
        }
      ],
      "source": [
        "# Uso de Counter\n",
        "freq = Counter(tipos)\n",
        "print(freq)"
      ]
    }
  ],
  "metadata": {
    "colab": {
      "provenance": []
    },
    "kernelspec": {
      "display_name": "Python 3",
      "name": "python3"
    },
    "language_info": {
      "name": "python"
    }
  },
  "nbformat": 4,
  "nbformat_minor": 5
}
