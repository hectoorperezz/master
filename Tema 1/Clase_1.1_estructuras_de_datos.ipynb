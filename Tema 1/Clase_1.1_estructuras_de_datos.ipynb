{
 "cells": [
  {
   "cell_type": "markdown",
   "id": "86d3572d",
   "metadata": {},
   "source": [
    "# Clase 1: Estructuras de datos\n",
    "\n",
    "---"
   ]
  },
  {
   "cell_type": "markdown",
   "id": "0ab793d9",
   "metadata": {},
   "source": [
    "\n",
    "\n",
    "# ¿Qué es una Variable? - El modelo de etiquetas\n",
    "\n",
    "* En **Python todo es un objeto**.\n",
    "* Una variable **no es una caja** que contiene un valor,\n",
    "  sino una **etiqueta, puntero o nombre** que apunta a un objeto que reside en la memoria.\n",
    "\n",
    "### Ejemplo\n",
    "\n",
    "```\n",
    "precio = 175.50\n",
    "```\n",
    "\n",
    "---\n",
    "\n",
    "\n",
    "\n",
    "# Importancia del modelo de referencias\n",
    "\n",
    "* Entender este modelo de **referencias** es la base para dominar conceptos más avanzados en Python.\n",
    "* Afecta directamente al funcionamiento de:\n",
    "\n",
    "### Conceptos clave\n",
    "\n",
    "* **Objetos mutables e inmutables**\n",
    "\n",
    "  * Explican por qué modificar una lista en un lugar puede afectarla en toda la aplicación.\n",
    "\n",
    "* **Paso de argumentos a funciones**\n",
    "\n",
    "  * Permite comprender qué ocurre realmente al pasar una variable a una función y si esta puede ser modificada permanentemente.\n",
    "\n",
    "* **Gestión de memoria**\n",
    "\n",
    "  * Muestra cómo Python es eficiente evitando duplicar objetos innecesariamente.\n",
    "\n",
    "---\n",
    "\n",
    "\n",
    "\n",
    "# Tipos Numéricos: Precisión y Rendimiento\n",
    "\n",
    "Python ofrece dos tipos numéricos básicos para la mayoría de operaciones:\n",
    "\n",
    "* **int**\n",
    "\n",
    "  * Enteros de **precisión arbitraria**.\n",
    "  * No existe problema de desbordamiento (*overflow*).\n",
    "  * Pueden ser tan grandes como lo permita la memoria disponible.\n",
    "\n",
    "* **float**\n",
    "\n",
    "  * Números de punto flotante de **doble precisión** (estándar IEEE 754).\n",
    "  * Son rápidos y eficientes para **cálculos científicos y gráficos**.\n",
    "\n",
    "---\n",
    "\n",
    "\n",
    "\n",
    "\n"
   ]
  },
  {
   "cell_type": "code",
   "execution_count": 1,
   "id": "f5875363",
   "metadata": {},
   "outputs": [
    {
     "name": "stdout",
     "output_type": "stream",
     "text": [
      "0.30000000000000004\n"
     ]
    }
   ],
   "source": [
    "print(0.1+0.2)"
   ]
  },
  {
   "cell_type": "markdown",
   "id": "0ebfd3b2",
   "metadata": {},
   "source": [
    "\n",
    "\n",
    "# La Causa: El Error de Representación Binaria\n",
    "\n",
    "* Los ordenadores usan un **sistema binario**.\n",
    "* Algunas fracciones decimales (ej. `0.1`) **no tienen una representación binaria finita y exacta**.\n",
    "* Es un problema similar al de `1/3` en el sistema decimal:\n",
    "\n",
    "```\n",
    "1 ÷ 3 = 0.333333333...\n",
    "```\n",
    "\n",
    "* El ordenador almacena una **aproximación muy cercana**, no el valor exacto.\n",
    "\n",
    "### ⚠️ Importante\n",
    "\n",
    "* Para algunos cálculos, este error es aceptable.\n",
    "* Sin embargo, en aplicaciones **financieras o monetarias**, este pequeño error es **inaceptable**.\n",
    "\n",
    "\n",
    "---\n",
    "\n",
    "# Uso de `Decimal`: La Regla de Oro Conceptual\n",
    "\n",
    "### Principio Fundamental\n",
    "\n",
    "* Para una **precisión absoluta**, los objetos `Decimal` deben crearse a partir de una representación **exacta** (como un `string`),\n",
    "  y **no** desde una aproximación (como un `float`).\n",
    "\n",
    "### ⚠️ Flujo Incorrecto: Contaminación por `float`\n",
    "\n",
    "```\n",
    "Número 0.1 → Interpretación 'float' → Aproximación Binaria \n",
    "           → Objeto Decimal creado desde la aproximación \n",
    "           → Error Preservado\n",
    "```\n",
    "\n",
    "---\n",
    "\n"
   ]
  },
  {
   "cell_type": "code",
   "execution_count": 2,
   "id": "783bc395",
   "metadata": {},
   "outputs": [
    {
     "name": "stdout",
     "output_type": "stream",
     "text": [
      "0.1000000000000000055511151231257827021181583404541015625\n"
     ]
    }
   ],
   "source": [
    "#Flujo incorrecto para crear un decimal\n",
    "\n",
    "a = 0.1\n",
    "\n",
    "from decimal import Decimal\n",
    "\n",
    "print(Decimal(a))"
   ]
  },
  {
   "cell_type": "code",
   "execution_count": 3,
   "id": "11d2f492",
   "metadata": {},
   "outputs": [
    {
     "name": "stdout",
     "output_type": "stream",
     "text": [
      "0.1\n"
     ]
    }
   ],
   "source": [
    "#FLujo correcto para crear decimales\n",
    "\n",
    "a = '0.1'\n",
    "\n",
    "from decimal import Decimal\n",
    "\n",
    "print(Decimal(a))\n",
    "#Flujo correcto para crear decimales\n",
    "\n"
   ]
  },
  {
   "cell_type": "code",
   "execution_count": 6,
   "id": "b48b626e",
   "metadata": {},
   "outputs": [
    {
     "name": "stdout",
     "output_type": "stream",
     "text": [
      "0.3000000000000000166533453694\n",
      "0.3\n"
     ]
    }
   ],
   "source": [
    "# ¿Que pasa si...?\n",
    "\n",
    "from decimal import Decimal\n",
    "\n",
    "print(Decimal(0.1) + Decimal(0.2))\n",
    "print(Decimal('0.1') + Decimal('0.2'))\n",
    "\n",
    "\n",
    "\n",
    "\n"
   ]
  },
  {
   "cell_type": "markdown",
   "id": "918845c9",
   "metadata": {},
   "source": [
    "\n",
    "---\n",
    "\n",
    "# Operaciones Fundamentales\n",
    "\n",
    "Estas son las acciones más directas que podemos hacer en Python:\n",
    "\n",
    "| **Operador** | **Función / Descripción**                                   |\n",
    "| ------------ | ----------------------------------------------------------- |\n",
    "| `+`          | Suma                                                        |\n",
    "| `-`          | Resta                                                       |\n",
    "| `*`          | Multiplicación                                              |\n",
    "| `/`          | División (siempre devuelve un flotante)                     |\n",
    "| `//`         | División entera (descarta la parte decimal)                 |\n",
    "| `%`          | Módulo (resto de la división)                               |\n",
    "| `**`         | Potencia (exponente)                                        |\n",
    "| `+=`         | Suma y asigna                                               |\n",
    "| `-=`         | Resta y asigna                                              |\n",
    "| `*=`         | Multiplica y asigna                                         |\n",
    "| `/=`         | Divide y asigna                                             |\n",
    "| `//=`        | División entera y asigna                                    |\n",
    "| `%=`         | Módulo y asigna                                             |\n",
    "| `**=`        | Potencia y asigna                                           |\n",
    "| `==`         | Igual a (comparación de igualdad)                           |\n",
    "| `!=`         | Diferente de (comparación de desigualdad)                   |\n",
    "| `<`          | Menor que                                                   |\n",
    "| `>`          | Mayor que                                                   |\n",
    "| `<=`         | Menor o igual que                                           |\n",
    "| `>=`         | Mayor o igual que                                           |\n",
    "| `is`         | Identidad (compara si son el mismo objeto en memoria)       |\n",
    "| `is not`     | No identidad (compara si no son el mismo objeto en memoria) |\n",
    "\n",
    "---\n"
   ]
  },
  {
   "cell_type": "code",
   "execution_count": 7,
   "id": "584b060b",
   "metadata": {},
   "outputs": [
    {
     "name": "stdout",
     "output_type": "stream",
     "text": [
      "Tipo de cantidad_acciones: <class 'int'>\n",
      "Tipo de precio_accion: <class 'float'>\n"
     ]
    }
   ],
   "source": [
    "# --- Números --- ¿Cómo sabemos el tipo del objeto? -> utilizar función type\n",
    "cantidad_acciones = 500     # int\n",
    "precio_accion = 189.75      # float\n",
    "\n",
    "print(f\"Tipo de cantidad_acciones: {type(cantidad_acciones)}\")\n",
    "print(f\"Tipo de precio_accion: {type(precio_accion)}\")\n"
   ]
  },
  {
   "cell_type": "code",
   "execution_count": 8,
   "id": "5296f3b2",
   "metadata": {},
   "outputs": [
    {
     "name": "stdout",
     "output_type": "stream",
     "text": [
      "Suma: 13\n"
     ]
    }
   ],
   "source": [
    "# Ejemplo de operador aritmético: + Suma\n",
    "a = 10\n",
    "b = 3\n",
    "\n",
    "resultado_suma = a + b\n",
    "print(\"Suma:\", resultado_suma)\n"
   ]
  },
  {
   "cell_type": "code",
   "execution_count": 9,
   "id": "f6ba188a",
   "metadata": {},
   "outputs": [
    {
     "name": "stdout",
     "output_type": "stream",
     "text": [
      "Resta: 7\n"
     ]
    }
   ],
   "source": [
    "# Ejemplo de operador aritmético: - Resta\n",
    "a = 10\n",
    "b = 3\n",
    "\n",
    "resultado_resta = a - b\n",
    "print(\"Resta:\", resultado_resta)\n"
   ]
  },
  {
   "cell_type": "code",
   "execution_count": 10,
   "id": "754d8410",
   "metadata": {},
   "outputs": [
    {
     "name": "stdout",
     "output_type": "stream",
     "text": [
      "Multiplicación: 30\n"
     ]
    }
   ],
   "source": [
    "# Ejemplo de operador aritmético: * Multiplicación\n",
    "a = 10\n",
    "b = 3\n",
    "\n",
    "resultado_multiplicacion = a * b\n",
    "print(\"Multiplicación:\", resultado_multiplicacion)\n"
   ]
  },
  {
   "cell_type": "code",
   "execution_count": 11,
   "id": "0047958c",
   "metadata": {},
   "outputs": [
    {
     "name": "stdout",
     "output_type": "stream",
     "text": [
      "División: 3.3333333333333335\n"
     ]
    }
   ],
   "source": [
    "# Ejemplo de operador aritmético: / División (flotante)\n",
    "a = 10\n",
    "b = 3\n",
    "\n",
    "resultado_division = a / b\n",
    "print(\"División:\", resultado_division)\n"
   ]
  },
  {
   "cell_type": "code",
   "execution_count": 12,
   "id": "5fd00515",
   "metadata": {},
   "outputs": [
    {
     "name": "stdout",
     "output_type": "stream",
     "text": [
      "División Entera: 3\n"
     ]
    }
   ],
   "source": [
    "# Ejemplo de operador aritmético: // División Entera\n",
    "a = 10\n",
    "b = 3\n",
    "\n",
    "resultado_division_entera = a // b\n",
    "print(\"División Entera:\", resultado_division_entera)\n"
   ]
  },
  {
   "cell_type": "code",
   "execution_count": 13,
   "id": "01f0d799",
   "metadata": {},
   "outputs": [
    {
     "name": "stdout",
     "output_type": "stream",
     "text": [
      "Módulo: 1\n"
     ]
    }
   ],
   "source": [
    "# Ejemplo de operador aritmético: % Módulo (Resto)\n",
    "a = 10\n",
    "b = 3\n",
    "\n",
    "resultado_modulo = a % b\n",
    "print(\"Módulo:\", resultado_modulo)\n"
   ]
  },
  {
   "cell_type": "code",
   "execution_count": 14,
   "id": "a18ed22c",
   "metadata": {},
   "outputs": [
    {
     "name": "stdout",
     "output_type": "stream",
     "text": [
      "Potencia: 1000\n"
     ]
    }
   ],
   "source": [
    "# Ejemplo de operador aritmético: ** Potencia\n",
    "a = 10\n",
    "b = 3\n",
    "\n",
    "resultado_potencia = a ** b\n",
    "print(\"Potencia:\", resultado_potencia)\n"
   ]
  },
  {
   "cell_type": "code",
   "execution_count": 15,
   "id": "96aee5ee",
   "metadata": {},
   "outputs": [
    {
     "name": "stdout",
     "output_type": "stream",
     "text": [
      "Resultado sin paréntesis: 14\n",
      "Resultado con paréntesis: 20\n"
     ]
    }
   ],
   "source": [
    "# Ejemplo de operador aritmético: () Agrupación (Paréntesis)\n",
    "\n",
    "# Sin paréntesis (multiplicación primero)\n",
    "resultado_sin_parentesis = 2 + 3 * 4\n",
    "print(\"Resultado sin paréntesis:\", resultado_sin_parentesis)\n",
    "\n",
    "# Con paréntesis (suma primero)\n",
    "resultado_con_parentesis = (2 + 3) * 4\n",
    "print(\"Resultado con paréntesis:\", resultado_con_parentesis)\n"
   ]
  },
  {
   "cell_type": "code",
   "execution_count": 16,
   "id": "ea1cf39d",
   "metadata": {},
   "outputs": [
    {
     "name": "stdout",
     "output_type": "stream",
     "text": [
      "Después de x += 5: 25\n"
     ]
    }
   ],
   "source": [
    "# Ejemplo de operador de asignación aumentada: += Suma y asigna\n",
    "x = 20\n",
    "x += 5   # Equivalente a x = x + 5\n",
    "print(\"Después de x += 5:\", x)\n"
   ]
  },
  {
   "cell_type": "code",
   "execution_count": 17,
   "id": "514d4ebb",
   "metadata": {},
   "outputs": [
    {
     "name": "stdout",
     "output_type": "stream",
     "text": [
      "Después de x -= 3: 17\n"
     ]
    }
   ],
   "source": [
    "# Ejemplo de operador de asignación aumentada: -= Resta y asigna\n",
    "x = 20\n",
    "x -= 3   # Equivalente a x = x - 3\n",
    "print(\"Después de x -= 3:\", x)\n"
   ]
  },
  {
   "cell_type": "code",
   "execution_count": null,
   "id": "7d7585bc",
   "metadata": {},
   "outputs": [],
   "source": []
  }
 ],
 "metadata": {
  "kernelspec": {
   "display_name": "Python 3",
   "language": "python",
   "name": "python3"
  },
  "language_info": {
   "codemirror_mode": {
    "name": "ipython",
    "version": 3
   },
   "file_extension": ".py",
   "mimetype": "text/x-python",
   "name": "python",
   "nbconvert_exporter": "python",
   "pygments_lexer": "ipython3",
   "version": "3.11.4"
  }
 },
 "nbformat": 4,
 "nbformat_minor": 5
}
